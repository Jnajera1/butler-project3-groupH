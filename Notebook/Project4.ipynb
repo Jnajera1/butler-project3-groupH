{
  "nbformat": 4,
  "nbformat_minor": 0,
  "metadata": {
    "colab": {
      "name": "Project4.ipynb",
      "provenance": [],
      "collapsed_sections": []
    },
    "kernelspec": {
      "name": "python3",
      "display_name": "Python 3"
    }
  },
  "cells": [
    {
      "cell_type": "code",
      "metadata": {
        "colab": {
          "base_uri": "https://localhost:8080/"
        },
        "id": "n0JniZqxLQe1",
        "outputId": "e5634be9-978a-4434-f977-cd2339c5fff6"
      },
      "source": [
        "# Install Libraries\r\n",
        "!pip install text2emotion\r\n",
        "!pip install raceplotly\r\n",
        "!pip install --upgrade plotly"
      ],
      "execution_count": null,
      "outputs": [
        {
          "output_type": "stream",
          "text": [
            "Collecting text2emotion\n",
            "\u001b[?25l  Downloading https://files.pythonhosted.org/packages/fe/31/b190e37c1396ca68ab1b5c8ea1a23f2f7848df532ad69133e94853120aed/text2emotion-0.0.5-py3-none-any.whl (57kB)\n",
            "\r\u001b[K     |█████▊                          | 10kB 15.7MB/s eta 0:00:01\r\u001b[K     |███████████▍                    | 20kB 11.7MB/s eta 0:00:01\r\u001b[K     |█████████████████               | 30kB 8.6MB/s eta 0:00:01\r\u001b[K     |██████████████████████▊         | 40kB 7.4MB/s eta 0:00:01\r\u001b[K     |████████████████████████████▍   | 51kB 4.3MB/s eta 0:00:01\r\u001b[K     |████████████████████████████████| 61kB 3.3MB/s \n",
            "\u001b[?25hRequirement already satisfied: nltk in /usr/local/lib/python3.7/dist-packages (from text2emotion) (3.2.5)\n",
            "Collecting emoji>=0.6.0\n",
            "\u001b[?25l  Downloading https://files.pythonhosted.org/packages/24/fa/b3368f41b95a286f8d300e323449ab4e86b85334c2e0b477e94422b8ed0f/emoji-1.2.0-py3-none-any.whl (131kB)\n",
            "\u001b[K     |████████████████████████████████| 133kB 7.3MB/s \n",
            "\u001b[?25hRequirement already satisfied: six in /usr/local/lib/python3.7/dist-packages (from nltk->text2emotion) (1.15.0)\n",
            "Installing collected packages: emoji, text2emotion\n",
            "Successfully installed emoji-1.2.0 text2emotion-0.0.5\n",
            "Collecting raceplotly\n",
            "  Downloading https://files.pythonhosted.org/packages/f1/e7/7daf4401b82d9304a38ad7126aff9cdc063a8727c59f2402459d082d7ef3/raceplotly-0.1.5-py3-none-any.whl\n",
            "Requirement already satisfied: pandas in /usr/local/lib/python3.7/dist-packages (from raceplotly) (1.1.5)\n",
            "Requirement already satisfied: plotly in /usr/local/lib/python3.7/dist-packages (from raceplotly) (4.4.1)\n",
            "Requirement already satisfied: python-dateutil>=2.7.3 in /usr/local/lib/python3.7/dist-packages (from pandas->raceplotly) (2.8.1)\n",
            "Requirement already satisfied: numpy>=1.15.4 in /usr/local/lib/python3.7/dist-packages (from pandas->raceplotly) (1.19.5)\n",
            "Requirement already satisfied: pytz>=2017.2 in /usr/local/lib/python3.7/dist-packages (from pandas->raceplotly) (2018.9)\n",
            "Requirement already satisfied: retrying>=1.3.3 in /usr/local/lib/python3.7/dist-packages (from plotly->raceplotly) (1.3.3)\n",
            "Requirement already satisfied: six in /usr/local/lib/python3.7/dist-packages (from plotly->raceplotly) (1.15.0)\n",
            "Installing collected packages: raceplotly\n",
            "Successfully installed raceplotly-0.1.5\n",
            "Collecting plotly\n",
            "\u001b[?25l  Downloading https://files.pythonhosted.org/packages/1f/f6/bd3c17c8003b6641df1228e80e1acac97ed8402635e46c2571f8e1ef63af/plotly-4.14.3-py2.py3-none-any.whl (13.2MB)\n",
            "\u001b[K     |████████████████████████████████| 13.2MB 319kB/s \n",
            "\u001b[?25hRequirement already satisfied, skipping upgrade: retrying>=1.3.3 in /usr/local/lib/python3.7/dist-packages (from plotly) (1.3.3)\n",
            "Requirement already satisfied, skipping upgrade: six in /usr/local/lib/python3.7/dist-packages (from plotly) (1.15.0)\n",
            "Installing collected packages: plotly\n",
            "  Found existing installation: plotly 4.4.1\n",
            "    Uninstalling plotly-4.4.1:\n",
            "      Successfully uninstalled plotly-4.4.1\n",
            "Successfully installed plotly-4.14.3\n"
          ],
          "name": "stdout"
        }
      ]
    },
    {
      "cell_type": "code",
      "metadata": {
        "id": "zQ3p9uHWI5uc",
        "colab": {
          "base_uri": "https://localhost:8080/"
        },
        "outputId": "d4b0d328-e419-4cb0-e07a-5e8e5772b62f"
      },
      "source": [
        "# Import Libraries\r\n",
        "import os\r\n",
        "import re\r\n",
        "import numpy as np\r\n",
        "import pandas as pd\r\n",
        "import string\r\n",
        "import matplotlib.pyplot as plt\r\n",
        "import plotly.express as px\r\n",
        "import seaborn as sns\r\n",
        "import text2emotion as te\r\n",
        "from wordcloud import WordCloud, STOPWORDS, ImageColorGenerator\r\n",
        "from IPython.display import clear_output\r\n",
        "import matplotlib.pyplot as plt\r\n",
        "from collections import Counter\r\n",
        "from nltk.stem import WordNetLemmatizer\r\n",
        "from nltk.corpus import stopwords \r\n",
        "from nltk.tokenize import word_tokenize \r\n",
        "from sklearn.feature_extraction.text import TfidfVectorizer\r\n",
        "from sklearn.decomposition import PCA\r\n",
        "from sklearn.manifold import TSNE\r\n",
        "from nltk.sentiment.vader import SentimentIntensityAnalyzer as vad"
      ],
      "execution_count": null,
      "outputs": [
        {
          "output_type": "stream",
          "text": [
            "[nltk_data] Downloading package stopwords to /root/nltk_data...\n",
            "[nltk_data]   Unzipping corpora/stopwords.zip.\n",
            "[nltk_data] Downloading package punkt to /root/nltk_data...\n",
            "[nltk_data]   Unzipping tokenizers/punkt.zip.\n",
            "[nltk_data] Downloading package wordnet to /root/nltk_data...\n",
            "[nltk_data]   Unzipping corpora/wordnet.zip.\n"
          ],
          "name": "stdout"
        },
        {
          "output_type": "stream",
          "text": [
            "/usr/local/lib/python3.7/dist-packages/nltk/twitter/__init__.py:20: UserWarning: The twython library has not been installed. Some functionality from the twitter package will not be available.\n",
            "  warnings.warn(\"The twython library has not been installed. \"\n"
          ],
          "name": "stderr"
        }
      ]
    },
    {
      "cell_type": "code",
      "metadata": {
        "colab": {
          "base_uri": "https://localhost:8080/"
        },
        "id": "WnvraPgfwIRW",
        "outputId": "eb80a4e2-36e5-430e-8b6a-bd3dda52285f"
      },
      "source": [
        "import nltk\r\n",
        "nltk.download('vader_lexicon')"
      ],
      "execution_count": null,
      "outputs": [
        {
          "output_type": "stream",
          "text": [
            "[nltk_data] Downloading package vader_lexicon to /root/nltk_data...\n",
            "[nltk_data]   Package vader_lexicon is already up-to-date!\n"
          ],
          "name": "stdout"
        },
        {
          "output_type": "execute_result",
          "data": {
            "text/plain": [
              "True"
            ]
          },
          "metadata": {
            "tags": []
          },
          "execution_count": 27
        }
      ]
    },
    {
      "cell_type": "code",
      "metadata": {
        "colab": {
          "base_uri": "https://localhost:8080/",
          "height": 191
        },
        "id": "Q3gwgH2GMgDl",
        "outputId": "245586d0-7d3f-4e28-92e3-8071fc3f9fe7"
      },
      "source": [
        "data=pd.read_csv('reddit_wsb.csv')\r\n",
        "data.head()"
      ],
      "execution_count": null,
      "outputs": [
        {
          "output_type": "execute_result",
          "data": {
            "text/html": [
              "<div>\n",
              "<style scoped>\n",
              "    .dataframe tbody tr th:only-of-type {\n",
              "        vertical-align: middle;\n",
              "    }\n",
              "\n",
              "    .dataframe tbody tr th {\n",
              "        vertical-align: top;\n",
              "    }\n",
              "\n",
              "    .dataframe thead th {\n",
              "        text-align: right;\n",
              "    }\n",
              "</style>\n",
              "<table border=\"1\" class=\"dataframe\">\n",
              "  <thead>\n",
              "    <tr style=\"text-align: right;\">\n",
              "      <th></th>\n",
              "      <th>title</th>\n",
              "      <th>score</th>\n",
              "      <th>id</th>\n",
              "      <th>url</th>\n",
              "      <th>comms_num</th>\n",
              "      <th>created</th>\n",
              "      <th>body</th>\n",
              "      <th>timestamp</th>\n",
              "    </tr>\n",
              "  </thead>\n",
              "  <tbody>\n",
              "    <tr>\n",
              "      <th>0</th>\n",
              "      <td>It's not about the money, it's about sending a...</td>\n",
              "      <td>55</td>\n",
              "      <td>l6ulcx</td>\n",
              "      <td>https://v.redd.it/6j75regs72e61</td>\n",
              "      <td>6</td>\n",
              "      <td>1.611863e+09</td>\n",
              "      <td>NaN</td>\n",
              "      <td>2021-01-28 21:37:41</td>\n",
              "    </tr>\n",
              "    <tr>\n",
              "      <th>1</th>\n",
              "      <td>Math Professor Scott Steiner says the numbers ...</td>\n",
              "      <td>110</td>\n",
              "      <td>l6uibd</td>\n",
              "      <td>https://v.redd.it/ah50lyny62e61</td>\n",
              "      <td>23</td>\n",
              "      <td>1.611862e+09</td>\n",
              "      <td>NaN</td>\n",
              "      <td>2021-01-28 21:32:10</td>\n",
              "    </tr>\n",
              "    <tr>\n",
              "      <th>2</th>\n",
              "      <td>Exit the system</td>\n",
              "      <td>0</td>\n",
              "      <td>l6uhhn</td>\n",
              "      <td>https://www.reddit.com/r/wallstreetbets/commen...</td>\n",
              "      <td>47</td>\n",
              "      <td>1.611862e+09</td>\n",
              "      <td>The CEO of NASDAQ pushed to halt trading “to g...</td>\n",
              "      <td>2021-01-28 21:30:35</td>\n",
              "    </tr>\n",
              "    <tr>\n",
              "      <th>3</th>\n",
              "      <td>NEW SEC FILING FOR GME! CAN SOMEONE LESS RETAR...</td>\n",
              "      <td>29</td>\n",
              "      <td>l6ugk6</td>\n",
              "      <td>https://sec.report/Document/0001193125-21-019848/</td>\n",
              "      <td>74</td>\n",
              "      <td>1.611862e+09</td>\n",
              "      <td>NaN</td>\n",
              "      <td>2021-01-28 21:28:57</td>\n",
              "    </tr>\n",
              "    <tr>\n",
              "      <th>4</th>\n",
              "      <td>Not to distract from GME, just thought our AMC...</td>\n",
              "      <td>71</td>\n",
              "      <td>l6ufgy</td>\n",
              "      <td>https://i.redd.it/4h2sukb662e61.jpg</td>\n",
              "      <td>156</td>\n",
              "      <td>1.611862e+09</td>\n",
              "      <td>NaN</td>\n",
              "      <td>2021-01-28 21:26:56</td>\n",
              "    </tr>\n",
              "  </tbody>\n",
              "</table>\n",
              "</div>"
            ],
            "text/plain": [
              "                                               title  ...            timestamp\n",
              "0  It's not about the money, it's about sending a...  ...  2021-01-28 21:37:41\n",
              "1  Math Professor Scott Steiner says the numbers ...  ...  2021-01-28 21:32:10\n",
              "2                                    Exit the system  ...  2021-01-28 21:30:35\n",
              "3  NEW SEC FILING FOR GME! CAN SOMEONE LESS RETAR...  ...  2021-01-28 21:28:57\n",
              "4  Not to distract from GME, just thought our AMC...  ...  2021-01-28 21:26:56\n",
              "\n",
              "[5 rows x 8 columns]"
            ]
          },
          "metadata": {
            "tags": []
          },
          "execution_count": 12
        }
      ]
    },
    {
      "cell_type": "code",
      "metadata": {
        "id": "h0MQpOpaRIyt"
      },
      "source": [
        "data.dropna(inplace=True)"
      ],
      "execution_count": null,
      "outputs": []
    },
    {
      "cell_type": "code",
      "metadata": {
        "colab": {
          "base_uri": "https://localhost:8080/",
          "height": 191
        },
        "id": "WXO9ucmyVT8p",
        "outputId": "ae42cfeb-929c-41c2-a7a9-40a37315dc16"
      },
      "source": [
        "data.drop('id', inplace=True, axis=1)\r\n",
        "data.drop('url', inplace=True, axis=1)\r\n",
        "data.drop('created', inplace=True, axis=1)\r\n",
        "data.drop('comms_num', inplace=True, axis=1)\r\n",
        "data.head(5)"
      ],
      "execution_count": null,
      "outputs": [
        {
          "output_type": "execute_result",
          "data": {
            "text/html": [
              "<div>\n",
              "<style scoped>\n",
              "    .dataframe tbody tr th:only-of-type {\n",
              "        vertical-align: middle;\n",
              "    }\n",
              "\n",
              "    .dataframe tbody tr th {\n",
              "        vertical-align: top;\n",
              "    }\n",
              "\n",
              "    .dataframe thead th {\n",
              "        text-align: right;\n",
              "    }\n",
              "</style>\n",
              "<table border=\"1\" class=\"dataframe\">\n",
              "  <thead>\n",
              "    <tr style=\"text-align: right;\">\n",
              "      <th></th>\n",
              "      <th>title</th>\n",
              "      <th>score</th>\n",
              "      <th>body</th>\n",
              "      <th>timestamp</th>\n",
              "    </tr>\n",
              "  </thead>\n",
              "  <tbody>\n",
              "    <tr>\n",
              "      <th>2</th>\n",
              "      <td>Exit the system</td>\n",
              "      <td>0</td>\n",
              "      <td>The CEO of NASDAQ pushed to halt trading “to g...</td>\n",
              "      <td>2021-01-28 21:30:35</td>\n",
              "    </tr>\n",
              "    <tr>\n",
              "      <th>6</th>\n",
              "      <td>SHORT STOCK DOESN'T HAVE AN EXPIRATION DATE</td>\n",
              "      <td>317</td>\n",
              "      <td>Hedgefund whales are spreading disinfo saying ...</td>\n",
              "      <td>2021-01-28 21:26:27</td>\n",
              "    </tr>\n",
              "    <tr>\n",
              "      <th>7</th>\n",
              "      <td>THIS IS THE MOMENT</td>\n",
              "      <td>405</td>\n",
              "      <td>Life isn't fair. My mother always told me that...</td>\n",
              "      <td>2021-01-28 21:19:31</td>\n",
              "    </tr>\n",
              "    <tr>\n",
              "      <th>10</th>\n",
              "      <td>We need to keep this movement going, we all ca...</td>\n",
              "      <td>222</td>\n",
              "      <td>I believe right now is one of those rare oppo...</td>\n",
              "      <td>2021-01-28 21:18:25</td>\n",
              "    </tr>\n",
              "    <tr>\n",
              "      <th>12</th>\n",
              "      <td>Once you're done with GME - $AG and $SLV, the ...</td>\n",
              "      <td>0</td>\n",
              "      <td>You guys are champs. GME... who would have tho...</td>\n",
              "      <td>2021-01-28 21:17:10</td>\n",
              "    </tr>\n",
              "  </tbody>\n",
              "</table>\n",
              "</div>"
            ],
            "text/plain": [
              "                                                title  ...            timestamp\n",
              "2                                     Exit the system  ...  2021-01-28 21:30:35\n",
              "6         SHORT STOCK DOESN'T HAVE AN EXPIRATION DATE  ...  2021-01-28 21:26:27\n",
              "7                                  THIS IS THE MOMENT  ...  2021-01-28 21:19:31\n",
              "10  We need to keep this movement going, we all ca...  ...  2021-01-28 21:18:25\n",
              "12  Once you're done with GME - $AG and $SLV, the ...  ...  2021-01-28 21:17:10\n",
              "\n",
              "[5 rows x 4 columns]"
            ]
          },
          "metadata": {
            "tags": []
          },
          "execution_count": 14
        }
      ]
    },
    {
      "cell_type": "code",
      "metadata": {
        "colab": {
          "base_uri": "https://localhost:8080/"
        },
        "id": "b3n0xPSyWAxh",
        "outputId": "fdfd5d97-0434-461a-f5ef-f990de1c94e8"
      },
      "source": [
        "print(data.groupby(['title']).size().sort_values())\r\n"
      ],
      "execution_count": null,
      "outputs": [
        {
          "output_type": "stream",
          "text": [
            "title\n",
            "Keep calm and load up on GME                                                                                                                                                                                 1\n",
            "Robinhood has officially stole from the poor and gave to the rich. This is twisted. Don't let them get away with it, submit your complaint about their market manipulation here: https://www.sec.gov/tcr     1\n",
            "Robinhood has removed GME from trading altogether! I am done with them!                                                                                                                                      1\n",
            "Robinhood has removed support for BB, GME, AMC, and others                                                                                                                                                   1\n",
            "Robinhood has restricted trading to AMERICAN AIRLINES                                                                                                                                                        1\n",
            "                                                                                                                                                                                                            ..\n",
            "DOGE                                                                                                                                                                                                        11\n",
            "NOK                                                                                                                                                                                                         12\n",
            "HOLD THE LINE                                                                                                                                                                                               13\n",
            "Robinhood                                                                                                                                                                                                   23\n",
            "AMC                                                                                                                                                                                                         38\n",
            "Length: 18108, dtype: int64\n"
          ],
          "name": "stdout"
        }
      ]
    },
    {
      "cell_type": "code",
      "metadata": {
        "id": "wLckl7mdbe-K"
      },
      "source": [
        "def clean_text(text):\r\n",
        "    '''Make text lowercase, remove text in square brackets,remove links,remove punctuation\r\n",
        "    and remove words containing numbers.'''\r\n",
        "    text = str(text).lower()\r\n",
        "    text = re.sub('\\[.*?\\]', '', text)\r\n",
        "    text = re.sub('https?://\\S+|www\\.\\S+', '', text)\r\n",
        "    text = re.sub('<.*?>+', '', text)\r\n",
        "    text = re.sub('[%s]' % re.escape(string.punctuation), '', text)\r\n",
        "    text = re.sub('\\n', '', text)\r\n",
        "    text = re.sub('\\w*\\d\\w*', '', text)\r\n",
        "    return text"
      ],
      "execution_count": null,
      "outputs": []
    },
    {
      "cell_type": "code",
      "metadata": {
        "colab": {
          "base_uri": "https://localhost:8080/",
          "height": 386
        },
        "id": "LmDaxuPfbjdi",
        "outputId": "e8f53fe5-996f-4b2f-e95e-1a567772f297"
      },
      "source": [
        "data_title = data['title'].apply(lambda x:str(x).split())\r\n",
        "top = Counter([item for sublist in data_title for item in sublist])\r\n",
        "temp = pd.DataFrame(top.most_common(20))\r\n",
        "temp.columns = ['Common_words','count']\r\n",
        "temp.style.background_gradient(cmap='Blues')"
      ],
      "execution_count": null,
      "outputs": [
        {
          "output_type": "execute_result",
          "data": {
            "text/html": [
              "<style  type=\"text/css\" >\n",
              "#T_6cd28a56_7e92_11eb_b755_0242ac1c0002row0_col1{\n",
              "            background-color:  #08306b;\n",
              "            color:  #f1f1f1;\n",
              "        }#T_6cd28a56_7e92_11eb_b755_0242ac1c0002row1_col1{\n",
              "            background-color:  #08509b;\n",
              "            color:  #f1f1f1;\n",
              "        }#T_6cd28a56_7e92_11eb_b755_0242ac1c0002row2_col1{\n",
              "            background-color:  #6fb0d7;\n",
              "            color:  #000000;\n",
              "        }#T_6cd28a56_7e92_11eb_b755_0242ac1c0002row3_col1{\n",
              "            background-color:  #8cc0dd;\n",
              "            color:  #000000;\n",
              "        }#T_6cd28a56_7e92_11eb_b755_0242ac1c0002row4_col1{\n",
              "            background-color:  #97c6df;\n",
              "            color:  #000000;\n",
              "        }#T_6cd28a56_7e92_11eb_b755_0242ac1c0002row5_col1{\n",
              "            background-color:  #a6cee4;\n",
              "            color:  #000000;\n",
              "        }#T_6cd28a56_7e92_11eb_b755_0242ac1c0002row6_col1,#T_6cd28a56_7e92_11eb_b755_0242ac1c0002row7_col1{\n",
              "            background-color:  #b4d3e9;\n",
              "            color:  #000000;\n",
              "        }#T_6cd28a56_7e92_11eb_b755_0242ac1c0002row8_col1{\n",
              "            background-color:  #c8dcf0;\n",
              "            color:  #000000;\n",
              "        }#T_6cd28a56_7e92_11eb_b755_0242ac1c0002row9_col1{\n",
              "            background-color:  #d0e1f2;\n",
              "            color:  #000000;\n",
              "        }#T_6cd28a56_7e92_11eb_b755_0242ac1c0002row10_col1,#T_6cd28a56_7e92_11eb_b755_0242ac1c0002row11_col1{\n",
              "            background-color:  #dce9f6;\n",
              "            color:  #000000;\n",
              "        }#T_6cd28a56_7e92_11eb_b755_0242ac1c0002row12_col1{\n",
              "            background-color:  #ebf3fb;\n",
              "            color:  #000000;\n",
              "        }#T_6cd28a56_7e92_11eb_b755_0242ac1c0002row13_col1{\n",
              "            background-color:  #edf4fc;\n",
              "            color:  #000000;\n",
              "        }#T_6cd28a56_7e92_11eb_b755_0242ac1c0002row14_col1,#T_6cd28a56_7e92_11eb_b755_0242ac1c0002row15_col1,#T_6cd28a56_7e92_11eb_b755_0242ac1c0002row16_col1{\n",
              "            background-color:  #eef5fc;\n",
              "            color:  #000000;\n",
              "        }#T_6cd28a56_7e92_11eb_b755_0242ac1c0002row17_col1{\n",
              "            background-color:  #f2f7fd;\n",
              "            color:  #000000;\n",
              "        }#T_6cd28a56_7e92_11eb_b755_0242ac1c0002row18_col1,#T_6cd28a56_7e92_11eb_b755_0242ac1c0002row19_col1{\n",
              "            background-color:  #f7fbff;\n",
              "            color:  #000000;\n",
              "        }</style><table id=\"T_6cd28a56_7e92_11eb_b755_0242ac1c0002\" ><thead>    <tr>        <th class=\"blank level0\" ></th>        <th class=\"col_heading level0 col0\" >Common_words</th>        <th class=\"col_heading level0 col1\" >count</th>    </tr></thead><tbody>\n",
              "                <tr>\n",
              "                        <th id=\"T_6cd28a56_7e92_11eb_b755_0242ac1c0002level0_row0\" class=\"row_heading level0 row0\" >0</th>\n",
              "                        <td id=\"T_6cd28a56_7e92_11eb_b755_0242ac1c0002row0_col0\" class=\"data row0 col0\" >the</td>\n",
              "                        <td id=\"T_6cd28a56_7e92_11eb_b755_0242ac1c0002row0_col1\" class=\"data row0 col1\" >4602</td>\n",
              "            </tr>\n",
              "            <tr>\n",
              "                        <th id=\"T_6cd28a56_7e92_11eb_b755_0242ac1c0002level0_row1\" class=\"row_heading level0 row1\" >1</th>\n",
              "                        <td id=\"T_6cd28a56_7e92_11eb_b755_0242ac1c0002row1_col0\" class=\"data row1 col0\" >to</td>\n",
              "                        <td id=\"T_6cd28a56_7e92_11eb_b755_0242ac1c0002row1_col1\" class=\"data row1 col1\" >4128</td>\n",
              "            </tr>\n",
              "            <tr>\n",
              "                        <th id=\"T_6cd28a56_7e92_11eb_b755_0242ac1c0002level0_row2\" class=\"row_heading level0 row2\" >2</th>\n",
              "                        <td id=\"T_6cd28a56_7e92_11eb_b755_0242ac1c0002row2_col0\" class=\"data row2 col0\" >and</td>\n",
              "                        <td id=\"T_6cd28a56_7e92_11eb_b755_0242ac1c0002row2_col1\" class=\"data row2 col1\" >2644</td>\n",
              "            </tr>\n",
              "            <tr>\n",
              "                        <th id=\"T_6cd28a56_7e92_11eb_b755_0242ac1c0002level0_row3\" class=\"row_heading level0 row3\" >3</th>\n",
              "                        <td id=\"T_6cd28a56_7e92_11eb_b755_0242ac1c0002row3_col0\" class=\"data row3 col0\" >GME</td>\n",
              "                        <td id=\"T_6cd28a56_7e92_11eb_b755_0242ac1c0002row3_col1\" class=\"data row3 col1\" >2382</td>\n",
              "            </tr>\n",
              "            <tr>\n",
              "                        <th id=\"T_6cd28a56_7e92_11eb_b755_0242ac1c0002level0_row4\" class=\"row_heading level0 row4\" >4</th>\n",
              "                        <td id=\"T_6cd28a56_7e92_11eb_b755_0242ac1c0002row4_col0\" class=\"data row4 col0\" >is</td>\n",
              "                        <td id=\"T_6cd28a56_7e92_11eb_b755_0242ac1c0002row4_col1\" class=\"data row4 col1\" >2273</td>\n",
              "            </tr>\n",
              "            <tr>\n",
              "                        <th id=\"T_6cd28a56_7e92_11eb_b755_0242ac1c0002level0_row5\" class=\"row_heading level0 row5\" >5</th>\n",
              "                        <td id=\"T_6cd28a56_7e92_11eb_b755_0242ac1c0002row5_col0\" class=\"data row5 col0\" >a</td>\n",
              "                        <td id=\"T_6cd28a56_7e92_11eb_b755_0242ac1c0002row5_col1\" class=\"data row5 col1\" >2111</td>\n",
              "            </tr>\n",
              "            <tr>\n",
              "                        <th id=\"T_6cd28a56_7e92_11eb_b755_0242ac1c0002level0_row6\" class=\"row_heading level0 row6\" >6</th>\n",
              "                        <td id=\"T_6cd28a56_7e92_11eb_b755_0242ac1c0002row6_col0\" class=\"data row6 col0\" >of</td>\n",
              "                        <td id=\"T_6cd28a56_7e92_11eb_b755_0242ac1c0002row6_col1\" class=\"data row6 col1\" >1948</td>\n",
              "            </tr>\n",
              "            <tr>\n",
              "                        <th id=\"T_6cd28a56_7e92_11eb_b755_0242ac1c0002level0_row7\" class=\"row_heading level0 row7\" >7</th>\n",
              "                        <td id=\"T_6cd28a56_7e92_11eb_b755_0242ac1c0002row7_col0\" class=\"data row7 col0\" >I</td>\n",
              "                        <td id=\"T_6cd28a56_7e92_11eb_b755_0242ac1c0002row7_col1\" class=\"data row7 col1\" >1947</td>\n",
              "            </tr>\n",
              "            <tr>\n",
              "                        <th id=\"T_6cd28a56_7e92_11eb_b755_0242ac1c0002level0_row8\" class=\"row_heading level0 row8\" >8</th>\n",
              "                        <td id=\"T_6cd28a56_7e92_11eb_b755_0242ac1c0002row8_col0\" class=\"data row8 col0\" >on</td>\n",
              "                        <td id=\"T_6cd28a56_7e92_11eb_b755_0242ac1c0002row8_col1\" class=\"data row8 col1\" >1688</td>\n",
              "            </tr>\n",
              "            <tr>\n",
              "                        <th id=\"T_6cd28a56_7e92_11eb_b755_0242ac1c0002level0_row9\" class=\"row_heading level0 row9\" >9</th>\n",
              "                        <td id=\"T_6cd28a56_7e92_11eb_b755_0242ac1c0002row9_col0\" class=\"data row9 col0\" >for</td>\n",
              "                        <td id=\"T_6cd28a56_7e92_11eb_b755_0242ac1c0002row9_col1\" class=\"data row9 col1\" >1546</td>\n",
              "            </tr>\n",
              "            <tr>\n",
              "                        <th id=\"T_6cd28a56_7e92_11eb_b755_0242ac1c0002level0_row10\" class=\"row_heading level0 row10\" >10</th>\n",
              "                        <td id=\"T_6cd28a56_7e92_11eb_b755_0242ac1c0002row10_col0\" class=\"data row10 col0\" >you</td>\n",
              "                        <td id=\"T_6cd28a56_7e92_11eb_b755_0242ac1c0002row10_col1\" class=\"data row10 col1\" >1301</td>\n",
              "            </tr>\n",
              "            <tr>\n",
              "                        <th id=\"T_6cd28a56_7e92_11eb_b755_0242ac1c0002level0_row11\" class=\"row_heading level0 row11\" >11</th>\n",
              "                        <td id=\"T_6cd28a56_7e92_11eb_b755_0242ac1c0002row11_col0\" class=\"data row11 col0\" >in</td>\n",
              "                        <td id=\"T_6cd28a56_7e92_11eb_b755_0242ac1c0002row11_col1\" class=\"data row11 col1\" >1300</td>\n",
              "            </tr>\n",
              "            <tr>\n",
              "                        <th id=\"T_6cd28a56_7e92_11eb_b755_0242ac1c0002level0_row12\" class=\"row_heading level0 row12\" >12</th>\n",
              "                        <td id=\"T_6cd28a56_7e92_11eb_b755_0242ac1c0002row12_col0\" class=\"data row12 col0\" >are</td>\n",
              "                        <td id=\"T_6cd28a56_7e92_11eb_b755_0242ac1c0002row12_col1\" class=\"data row12 col1\" >1005</td>\n",
              "            </tr>\n",
              "            <tr>\n",
              "                        <th id=\"T_6cd28a56_7e92_11eb_b755_0242ac1c0002level0_row13\" class=\"row_heading level0 row13\" >13</th>\n",
              "                        <td id=\"T_6cd28a56_7e92_11eb_b755_0242ac1c0002row13_col0\" class=\"data row13 col0\" >this</td>\n",
              "                        <td id=\"T_6cd28a56_7e92_11eb_b755_0242ac1c0002row13_col1\" class=\"data row13 col1\" >969</td>\n",
              "            </tr>\n",
              "            <tr>\n",
              "                        <th id=\"T_6cd28a56_7e92_11eb_b755_0242ac1c0002level0_row14\" class=\"row_heading level0 row14\" >14</th>\n",
              "                        <td id=\"T_6cd28a56_7e92_11eb_b755_0242ac1c0002row14_col0\" class=\"data row14 col0\" >THE</td>\n",
              "                        <td id=\"T_6cd28a56_7e92_11eb_b755_0242ac1c0002row14_col1\" class=\"data row14 col1\" >962</td>\n",
              "            </tr>\n",
              "            <tr>\n",
              "                        <th id=\"T_6cd28a56_7e92_11eb_b755_0242ac1c0002level0_row15\" class=\"row_heading level0 row15\" >15</th>\n",
              "                        <td id=\"T_6cd28a56_7e92_11eb_b755_0242ac1c0002row15_col0\" class=\"data row15 col0\" >-</td>\n",
              "                        <td id=\"T_6cd28a56_7e92_11eb_b755_0242ac1c0002row15_col1\" class=\"data row15 col1\" >955</td>\n",
              "            </tr>\n",
              "            <tr>\n",
              "                        <th id=\"T_6cd28a56_7e92_11eb_b755_0242ac1c0002level0_row16\" class=\"row_heading level0 row16\" >16</th>\n",
              "                        <td id=\"T_6cd28a56_7e92_11eb_b755_0242ac1c0002row16_col0\" class=\"data row16 col0\" >Robinhood</td>\n",
              "                        <td id=\"T_6cd28a56_7e92_11eb_b755_0242ac1c0002row16_col1\" class=\"data row16 col1\" >949</td>\n",
              "            </tr>\n",
              "            <tr>\n",
              "                        <th id=\"T_6cd28a56_7e92_11eb_b755_0242ac1c0002level0_row17\" class=\"row_heading level0 row17\" >17</th>\n",
              "                        <td id=\"T_6cd28a56_7e92_11eb_b755_0242ac1c0002row17_col0\" class=\"data row17 col0\" >AMC</td>\n",
              "                        <td id=\"T_6cd28a56_7e92_11eb_b755_0242ac1c0002row17_col1\" class=\"data row17 col1\" >892</td>\n",
              "            </tr>\n",
              "            <tr>\n",
              "                        <th id=\"T_6cd28a56_7e92_11eb_b755_0242ac1c0002level0_row18\" class=\"row_heading level0 row18\" >18</th>\n",
              "                        <td id=\"T_6cd28a56_7e92_11eb_b755_0242ac1c0002row18_col0\" class=\"data row18 col0\" >buy</td>\n",
              "                        <td id=\"T_6cd28a56_7e92_11eb_b755_0242ac1c0002row18_col1\" class=\"data row18 col1\" >776</td>\n",
              "            </tr>\n",
              "            <tr>\n",
              "                        <th id=\"T_6cd28a56_7e92_11eb_b755_0242ac1c0002level0_row19\" class=\"row_heading level0 row19\" >19</th>\n",
              "                        <td id=\"T_6cd28a56_7e92_11eb_b755_0242ac1c0002row19_col0\" class=\"data row19 col0\" >The</td>\n",
              "                        <td id=\"T_6cd28a56_7e92_11eb_b755_0242ac1c0002row19_col1\" class=\"data row19 col1\" >773</td>\n",
              "            </tr>\n",
              "    </tbody></table>"
            ],
            "text/plain": [
              "<pandas.io.formats.style.Styler at 0x7fd1a9882150>"
            ]
          },
          "metadata": {
            "tags": []
          },
          "execution_count": 17
        }
      ]
    },
    {
      "cell_type": "code",
      "metadata": {
        "colab": {
          "base_uri": "https://localhost:8080/",
          "height": 717
        },
        "id": "1awCgdi5buZW",
        "outputId": "93bb5710-bd23-45a7-d01c-b0485a03bb72"
      },
      "source": [
        "fig = px.bar(temp, x=\"count\", y=\"Common_words\", title='Commmon Words in Selected Text', orientation='h', \r\n",
        "             width=700, height=700,color='Common_words')\r\n",
        "fig.show()"
      ],
      "execution_count": null,
      "outputs": [
        {
          "output_type": "display_data",
          "data": {
            "text/html": [
              "<html>\n",
              "<head><meta charset=\"utf-8\" /></head>\n",
              "<body>\n",
              "    <div>            <script src=\"https://cdnjs.cloudflare.com/ajax/libs/mathjax/2.7.5/MathJax.js?config=TeX-AMS-MML_SVG\"></script><script type=\"text/javascript\">if (window.MathJax) {MathJax.Hub.Config({SVG: {font: \"STIX-Web\"}});}</script>                <script type=\"text/javascript\">window.PlotlyConfig = {MathJaxConfig: 'local'};</script>\n",
              "        <script src=\"https://cdn.plot.ly/plotly-latest.min.js\"></script>                <div id=\"84881029-18af-41bd-9407-fbfe09abd175\" class=\"plotly-graph-div\" style=\"height:700px; width:700px;\"></div>            <script type=\"text/javascript\">                                    window.PLOTLYENV=window.PLOTLYENV || {};                                    if (document.getElementById(\"84881029-18af-41bd-9407-fbfe09abd175\")) {                    Plotly.newPlot(                        \"84881029-18af-41bd-9407-fbfe09abd175\",                        [{\"alignmentgroup\": \"True\", \"hovertemplate\": \"Common_words=%{y}<br>count=%{x}<extra></extra>\", \"legendgroup\": \"the\", \"marker\": {\"color\": \"#636efa\"}, \"name\": \"the\", \"offsetgroup\": \"the\", \"orientation\": \"h\", \"showlegend\": true, \"textposition\": \"auto\", \"type\": \"bar\", \"x\": [4602], \"xaxis\": \"x\", \"y\": [\"the\"], \"yaxis\": \"y\"}, {\"alignmentgroup\": \"True\", \"hovertemplate\": \"Common_words=%{y}<br>count=%{x}<extra></extra>\", \"legendgroup\": \"to\", \"marker\": {\"color\": \"#EF553B\"}, \"name\": \"to\", \"offsetgroup\": \"to\", \"orientation\": \"h\", \"showlegend\": true, \"textposition\": \"auto\", \"type\": \"bar\", \"x\": [4128], \"xaxis\": \"x\", \"y\": [\"to\"], \"yaxis\": \"y\"}, {\"alignmentgroup\": \"True\", \"hovertemplate\": \"Common_words=%{y}<br>count=%{x}<extra></extra>\", \"legendgroup\": \"and\", \"marker\": {\"color\": \"#00cc96\"}, \"name\": \"and\", \"offsetgroup\": \"and\", \"orientation\": \"h\", \"showlegend\": true, \"textposition\": \"auto\", \"type\": \"bar\", \"x\": [2644], \"xaxis\": \"x\", \"y\": [\"and\"], \"yaxis\": \"y\"}, {\"alignmentgroup\": \"True\", \"hovertemplate\": \"Common_words=%{y}<br>count=%{x}<extra></extra>\", \"legendgroup\": \"GME\", \"marker\": {\"color\": \"#ab63fa\"}, \"name\": \"GME\", \"offsetgroup\": \"GME\", \"orientation\": \"h\", \"showlegend\": true, \"textposition\": \"auto\", \"type\": \"bar\", \"x\": [2382], \"xaxis\": \"x\", \"y\": [\"GME\"], \"yaxis\": \"y\"}, {\"alignmentgroup\": \"True\", \"hovertemplate\": \"Common_words=%{y}<br>count=%{x}<extra></extra>\", \"legendgroup\": \"is\", \"marker\": {\"color\": \"#FFA15A\"}, \"name\": \"is\", \"offsetgroup\": \"is\", \"orientation\": \"h\", \"showlegend\": true, \"textposition\": \"auto\", \"type\": \"bar\", \"x\": [2273], \"xaxis\": \"x\", \"y\": [\"is\"], \"yaxis\": \"y\"}, {\"alignmentgroup\": \"True\", \"hovertemplate\": \"Common_words=%{y}<br>count=%{x}<extra></extra>\", \"legendgroup\": \"a\", \"marker\": {\"color\": \"#19d3f3\"}, \"name\": \"a\", \"offsetgroup\": \"a\", \"orientation\": \"h\", \"showlegend\": true, \"textposition\": \"auto\", \"type\": \"bar\", \"x\": [2111], \"xaxis\": \"x\", \"y\": [\"a\"], \"yaxis\": \"y\"}, {\"alignmentgroup\": \"True\", \"hovertemplate\": \"Common_words=%{y}<br>count=%{x}<extra></extra>\", \"legendgroup\": \"of\", \"marker\": {\"color\": \"#FF6692\"}, \"name\": \"of\", \"offsetgroup\": \"of\", \"orientation\": \"h\", \"showlegend\": true, \"textposition\": \"auto\", \"type\": \"bar\", \"x\": [1948], \"xaxis\": \"x\", \"y\": [\"of\"], \"yaxis\": \"y\"}, {\"alignmentgroup\": \"True\", \"hovertemplate\": \"Common_words=%{y}<br>count=%{x}<extra></extra>\", \"legendgroup\": \"I\", \"marker\": {\"color\": \"#B6E880\"}, \"name\": \"I\", \"offsetgroup\": \"I\", \"orientation\": \"h\", \"showlegend\": true, \"textposition\": \"auto\", \"type\": \"bar\", \"x\": [1947], \"xaxis\": \"x\", \"y\": [\"I\"], \"yaxis\": \"y\"}, {\"alignmentgroup\": \"True\", \"hovertemplate\": \"Common_words=%{y}<br>count=%{x}<extra></extra>\", \"legendgroup\": \"on\", \"marker\": {\"color\": \"#FF97FF\"}, \"name\": \"on\", \"offsetgroup\": \"on\", \"orientation\": \"h\", \"showlegend\": true, \"textposition\": \"auto\", \"type\": \"bar\", \"x\": [1688], \"xaxis\": \"x\", \"y\": [\"on\"], \"yaxis\": \"y\"}, {\"alignmentgroup\": \"True\", \"hovertemplate\": \"Common_words=%{y}<br>count=%{x}<extra></extra>\", \"legendgroup\": \"for\", \"marker\": {\"color\": \"#FECB52\"}, \"name\": \"for\", \"offsetgroup\": \"for\", \"orientation\": \"h\", \"showlegend\": true, \"textposition\": \"auto\", \"type\": \"bar\", \"x\": [1546], \"xaxis\": \"x\", \"y\": [\"for\"], \"yaxis\": \"y\"}, {\"alignmentgroup\": \"True\", \"hovertemplate\": \"Common_words=%{y}<br>count=%{x}<extra></extra>\", \"legendgroup\": \"you\", \"marker\": {\"color\": \"#636efa\"}, \"name\": \"you\", \"offsetgroup\": \"you\", \"orientation\": \"h\", \"showlegend\": true, \"textposition\": \"auto\", \"type\": \"bar\", \"x\": [1301], \"xaxis\": \"x\", \"y\": [\"you\"], \"yaxis\": \"y\"}, {\"alignmentgroup\": \"True\", \"hovertemplate\": \"Common_words=%{y}<br>count=%{x}<extra></extra>\", \"legendgroup\": \"in\", \"marker\": {\"color\": \"#EF553B\"}, \"name\": \"in\", \"offsetgroup\": \"in\", \"orientation\": \"h\", \"showlegend\": true, \"textposition\": \"auto\", \"type\": \"bar\", \"x\": [1300], \"xaxis\": \"x\", \"y\": [\"in\"], \"yaxis\": \"y\"}, {\"alignmentgroup\": \"True\", \"hovertemplate\": \"Common_words=%{y}<br>count=%{x}<extra></extra>\", \"legendgroup\": \"are\", \"marker\": {\"color\": \"#00cc96\"}, \"name\": \"are\", \"offsetgroup\": \"are\", \"orientation\": \"h\", \"showlegend\": true, \"textposition\": \"auto\", \"type\": \"bar\", \"x\": [1005], \"xaxis\": \"x\", \"y\": [\"are\"], \"yaxis\": \"y\"}, {\"alignmentgroup\": \"True\", \"hovertemplate\": \"Common_words=%{y}<br>count=%{x}<extra></extra>\", \"legendgroup\": \"this\", \"marker\": {\"color\": \"#ab63fa\"}, \"name\": \"this\", \"offsetgroup\": \"this\", \"orientation\": \"h\", \"showlegend\": true, \"textposition\": \"auto\", \"type\": \"bar\", \"x\": [969], \"xaxis\": \"x\", \"y\": [\"this\"], \"yaxis\": \"y\"}, {\"alignmentgroup\": \"True\", \"hovertemplate\": \"Common_words=%{y}<br>count=%{x}<extra></extra>\", \"legendgroup\": \"THE\", \"marker\": {\"color\": \"#FFA15A\"}, \"name\": \"THE\", \"offsetgroup\": \"THE\", \"orientation\": \"h\", \"showlegend\": true, \"textposition\": \"auto\", \"type\": \"bar\", \"x\": [962], \"xaxis\": \"x\", \"y\": [\"THE\"], \"yaxis\": \"y\"}, {\"alignmentgroup\": \"True\", \"hovertemplate\": \"Common_words=%{y}<br>count=%{x}<extra></extra>\", \"legendgroup\": \"-\", \"marker\": {\"color\": \"#19d3f3\"}, \"name\": \"-\", \"offsetgroup\": \"-\", \"orientation\": \"h\", \"showlegend\": true, \"textposition\": \"auto\", \"type\": \"bar\", \"x\": [955], \"xaxis\": \"x\", \"y\": [\"-\"], \"yaxis\": \"y\"}, {\"alignmentgroup\": \"True\", \"hovertemplate\": \"Common_words=%{y}<br>count=%{x}<extra></extra>\", \"legendgroup\": \"Robinhood\", \"marker\": {\"color\": \"#FF6692\"}, \"name\": \"Robinhood\", \"offsetgroup\": \"Robinhood\", \"orientation\": \"h\", \"showlegend\": true, \"textposition\": \"auto\", \"type\": \"bar\", \"x\": [949], \"xaxis\": \"x\", \"y\": [\"Robinhood\"], \"yaxis\": \"y\"}, {\"alignmentgroup\": \"True\", \"hovertemplate\": \"Common_words=%{y}<br>count=%{x}<extra></extra>\", \"legendgroup\": \"AMC\", \"marker\": {\"color\": \"#B6E880\"}, \"name\": \"AMC\", \"offsetgroup\": \"AMC\", \"orientation\": \"h\", \"showlegend\": true, \"textposition\": \"auto\", \"type\": \"bar\", \"x\": [892], \"xaxis\": \"x\", \"y\": [\"AMC\"], \"yaxis\": \"y\"}, {\"alignmentgroup\": \"True\", \"hovertemplate\": \"Common_words=%{y}<br>count=%{x}<extra></extra>\", \"legendgroup\": \"buy\", \"marker\": {\"color\": \"#FF97FF\"}, \"name\": \"buy\", \"offsetgroup\": \"buy\", \"orientation\": \"h\", \"showlegend\": true, \"textposition\": \"auto\", \"type\": \"bar\", \"x\": [776], \"xaxis\": \"x\", \"y\": [\"buy\"], \"yaxis\": \"y\"}, {\"alignmentgroup\": \"True\", \"hovertemplate\": \"Common_words=%{y}<br>count=%{x}<extra></extra>\", \"legendgroup\": \"The\", \"marker\": {\"color\": \"#FECB52\"}, \"name\": \"The\", \"offsetgroup\": \"The\", \"orientation\": \"h\", \"showlegend\": true, \"textposition\": \"auto\", \"type\": \"bar\", \"x\": [773], \"xaxis\": \"x\", \"y\": [\"The\"], \"yaxis\": \"y\"}],                        {\"barmode\": \"relative\", \"height\": 700, \"legend\": {\"title\": {\"text\": \"Common_words\"}, \"tracegroupgap\": 0}, \"template\": {\"data\": {\"bar\": [{\"error_x\": {\"color\": \"#2a3f5f\"}, \"error_y\": {\"color\": \"#2a3f5f\"}, \"marker\": {\"line\": {\"color\": \"#E5ECF6\", \"width\": 0.5}}, \"type\": \"bar\"}], \"barpolar\": [{\"marker\": {\"line\": {\"color\": \"#E5ECF6\", \"width\": 0.5}}, \"type\": \"barpolar\"}], \"carpet\": [{\"aaxis\": {\"endlinecolor\": \"#2a3f5f\", \"gridcolor\": \"white\", \"linecolor\": \"white\", \"minorgridcolor\": \"white\", \"startlinecolor\": \"#2a3f5f\"}, \"baxis\": {\"endlinecolor\": \"#2a3f5f\", \"gridcolor\": \"white\", \"linecolor\": \"white\", \"minorgridcolor\": \"white\", \"startlinecolor\": \"#2a3f5f\"}, \"type\": \"carpet\"}], \"choropleth\": [{\"colorbar\": {\"outlinewidth\": 0, \"ticks\": \"\"}, \"type\": \"choropleth\"}], \"contour\": [{\"colorbar\": {\"outlinewidth\": 0, \"ticks\": \"\"}, \"colorscale\": [[0.0, \"#0d0887\"], [0.1111111111111111, \"#46039f\"], [0.2222222222222222, \"#7201a8\"], [0.3333333333333333, \"#9c179e\"], [0.4444444444444444, \"#bd3786\"], [0.5555555555555556, \"#d8576b\"], [0.6666666666666666, \"#ed7953\"], [0.7777777777777778, \"#fb9f3a\"], [0.8888888888888888, \"#fdca26\"], [1.0, \"#f0f921\"]], \"type\": \"contour\"}], \"contourcarpet\": [{\"colorbar\": {\"outlinewidth\": 0, \"ticks\": \"\"}, \"type\": \"contourcarpet\"}], \"heatmap\": [{\"colorbar\": {\"outlinewidth\": 0, \"ticks\": \"\"}, \"colorscale\": [[0.0, \"#0d0887\"], [0.1111111111111111, \"#46039f\"], [0.2222222222222222, \"#7201a8\"], [0.3333333333333333, \"#9c179e\"], [0.4444444444444444, \"#bd3786\"], [0.5555555555555556, \"#d8576b\"], [0.6666666666666666, \"#ed7953\"], [0.7777777777777778, \"#fb9f3a\"], [0.8888888888888888, \"#fdca26\"], [1.0, \"#f0f921\"]], \"type\": \"heatmap\"}], \"heatmapgl\": [{\"colorbar\": {\"outlinewidth\": 0, \"ticks\": \"\"}, \"colorscale\": [[0.0, \"#0d0887\"], [0.1111111111111111, \"#46039f\"], [0.2222222222222222, \"#7201a8\"], [0.3333333333333333, \"#9c179e\"], [0.4444444444444444, \"#bd3786\"], [0.5555555555555556, \"#d8576b\"], [0.6666666666666666, \"#ed7953\"], [0.7777777777777778, \"#fb9f3a\"], [0.8888888888888888, \"#fdca26\"], [1.0, \"#f0f921\"]], \"type\": \"heatmapgl\"}], \"histogram\": [{\"marker\": {\"colorbar\": {\"outlinewidth\": 0, \"ticks\": \"\"}}, \"type\": \"histogram\"}], \"histogram2d\": [{\"colorbar\": {\"outlinewidth\": 0, \"ticks\": \"\"}, \"colorscale\": [[0.0, \"#0d0887\"], [0.1111111111111111, \"#46039f\"], [0.2222222222222222, \"#7201a8\"], [0.3333333333333333, \"#9c179e\"], [0.4444444444444444, \"#bd3786\"], [0.5555555555555556, \"#d8576b\"], [0.6666666666666666, \"#ed7953\"], [0.7777777777777778, \"#fb9f3a\"], [0.8888888888888888, \"#fdca26\"], [1.0, \"#f0f921\"]], \"type\": \"histogram2d\"}], \"histogram2dcontour\": [{\"colorbar\": {\"outlinewidth\": 0, \"ticks\": \"\"}, \"colorscale\": [[0.0, \"#0d0887\"], [0.1111111111111111, \"#46039f\"], [0.2222222222222222, \"#7201a8\"], [0.3333333333333333, \"#9c179e\"], [0.4444444444444444, \"#bd3786\"], [0.5555555555555556, \"#d8576b\"], [0.6666666666666666, \"#ed7953\"], [0.7777777777777778, \"#fb9f3a\"], [0.8888888888888888, \"#fdca26\"], [1.0, \"#f0f921\"]], \"type\": \"histogram2dcontour\"}], \"mesh3d\": [{\"colorbar\": {\"outlinewidth\": 0, \"ticks\": \"\"}, \"type\": \"mesh3d\"}], \"parcoords\": [{\"line\": {\"colorbar\": {\"outlinewidth\": 0, \"ticks\": \"\"}}, \"type\": \"parcoords\"}], \"pie\": [{\"automargin\": true, \"type\": \"pie\"}], \"scatter\": [{\"marker\": {\"colorbar\": {\"outlinewidth\": 0, \"ticks\": \"\"}}, \"type\": \"scatter\"}], \"scatter3d\": [{\"line\": {\"colorbar\": {\"outlinewidth\": 0, \"ticks\": \"\"}}, \"marker\": {\"colorbar\": {\"outlinewidth\": 0, \"ticks\": \"\"}}, \"type\": \"scatter3d\"}], \"scattercarpet\": [{\"marker\": {\"colorbar\": {\"outlinewidth\": 0, \"ticks\": \"\"}}, \"type\": \"scattercarpet\"}], \"scattergeo\": [{\"marker\": {\"colorbar\": {\"outlinewidth\": 0, \"ticks\": \"\"}}, \"type\": \"scattergeo\"}], \"scattergl\": [{\"marker\": {\"colorbar\": {\"outlinewidth\": 0, \"ticks\": \"\"}}, \"type\": \"scattergl\"}], \"scattermapbox\": [{\"marker\": {\"colorbar\": {\"outlinewidth\": 0, \"ticks\": \"\"}}, \"type\": \"scattermapbox\"}], \"scatterpolar\": [{\"marker\": {\"colorbar\": {\"outlinewidth\": 0, \"ticks\": \"\"}}, \"type\": \"scatterpolar\"}], \"scatterpolargl\": [{\"marker\": {\"colorbar\": {\"outlinewidth\": 0, \"ticks\": \"\"}}, \"type\": \"scatterpolargl\"}], \"scatterternary\": [{\"marker\": {\"colorbar\": {\"outlinewidth\": 0, \"ticks\": \"\"}}, \"type\": \"scatterternary\"}], \"surface\": [{\"colorbar\": {\"outlinewidth\": 0, \"ticks\": \"\"}, \"colorscale\": [[0.0, \"#0d0887\"], [0.1111111111111111, \"#46039f\"], [0.2222222222222222, \"#7201a8\"], [0.3333333333333333, \"#9c179e\"], [0.4444444444444444, \"#bd3786\"], [0.5555555555555556, \"#d8576b\"], [0.6666666666666666, \"#ed7953\"], [0.7777777777777778, \"#fb9f3a\"], [0.8888888888888888, \"#fdca26\"], [1.0, \"#f0f921\"]], \"type\": \"surface\"}], \"table\": [{\"cells\": {\"fill\": {\"color\": \"#EBF0F8\"}, \"line\": {\"color\": \"white\"}}, \"header\": {\"fill\": {\"color\": \"#C8D4E3\"}, \"line\": {\"color\": \"white\"}}, \"type\": \"table\"}]}, \"layout\": {\"annotationdefaults\": {\"arrowcolor\": \"#2a3f5f\", \"arrowhead\": 0, \"arrowwidth\": 1}, \"autotypenumbers\": \"strict\", \"coloraxis\": {\"colorbar\": {\"outlinewidth\": 0, \"ticks\": \"\"}}, \"colorscale\": {\"diverging\": [[0, \"#8e0152\"], [0.1, \"#c51b7d\"], [0.2, \"#de77ae\"], [0.3, \"#f1b6da\"], [0.4, \"#fde0ef\"], [0.5, \"#f7f7f7\"], [0.6, \"#e6f5d0\"], [0.7, \"#b8e186\"], [0.8, \"#7fbc41\"], [0.9, \"#4d9221\"], [1, \"#276419\"]], \"sequential\": [[0.0, \"#0d0887\"], [0.1111111111111111, \"#46039f\"], [0.2222222222222222, \"#7201a8\"], [0.3333333333333333, \"#9c179e\"], [0.4444444444444444, \"#bd3786\"], [0.5555555555555556, \"#d8576b\"], [0.6666666666666666, \"#ed7953\"], [0.7777777777777778, \"#fb9f3a\"], [0.8888888888888888, \"#fdca26\"], [1.0, \"#f0f921\"]], \"sequentialminus\": [[0.0, \"#0d0887\"], [0.1111111111111111, \"#46039f\"], [0.2222222222222222, \"#7201a8\"], [0.3333333333333333, \"#9c179e\"], [0.4444444444444444, \"#bd3786\"], [0.5555555555555556, \"#d8576b\"], [0.6666666666666666, \"#ed7953\"], [0.7777777777777778, \"#fb9f3a\"], [0.8888888888888888, \"#fdca26\"], [1.0, \"#f0f921\"]]}, \"colorway\": [\"#636efa\", \"#EF553B\", \"#00cc96\", \"#ab63fa\", \"#FFA15A\", \"#19d3f3\", \"#FF6692\", \"#B6E880\", \"#FF97FF\", \"#FECB52\"], \"font\": {\"color\": \"#2a3f5f\"}, \"geo\": {\"bgcolor\": \"white\", \"lakecolor\": \"white\", \"landcolor\": \"#E5ECF6\", \"showlakes\": true, \"showland\": true, \"subunitcolor\": \"white\"}, \"hoverlabel\": {\"align\": \"left\"}, \"hovermode\": \"closest\", \"mapbox\": {\"style\": \"light\"}, \"paper_bgcolor\": \"white\", \"plot_bgcolor\": \"#E5ECF6\", \"polar\": {\"angularaxis\": {\"gridcolor\": \"white\", \"linecolor\": \"white\", \"ticks\": \"\"}, \"bgcolor\": \"#E5ECF6\", \"radialaxis\": {\"gridcolor\": \"white\", \"linecolor\": \"white\", \"ticks\": \"\"}}, \"scene\": {\"xaxis\": {\"backgroundcolor\": \"#E5ECF6\", \"gridcolor\": \"white\", \"gridwidth\": 2, \"linecolor\": \"white\", \"showbackground\": true, \"ticks\": \"\", \"zerolinecolor\": \"white\"}, \"yaxis\": {\"backgroundcolor\": \"#E5ECF6\", \"gridcolor\": \"white\", \"gridwidth\": 2, \"linecolor\": \"white\", \"showbackground\": true, \"ticks\": \"\", \"zerolinecolor\": \"white\"}, \"zaxis\": {\"backgroundcolor\": \"#E5ECF6\", \"gridcolor\": \"white\", \"gridwidth\": 2, \"linecolor\": \"white\", \"showbackground\": true, \"ticks\": \"\", \"zerolinecolor\": \"white\"}}, \"shapedefaults\": {\"line\": {\"color\": \"#2a3f5f\"}}, \"ternary\": {\"aaxis\": {\"gridcolor\": \"white\", \"linecolor\": \"white\", \"ticks\": \"\"}, \"baxis\": {\"gridcolor\": \"white\", \"linecolor\": \"white\", \"ticks\": \"\"}, \"bgcolor\": \"#E5ECF6\", \"caxis\": {\"gridcolor\": \"white\", \"linecolor\": \"white\", \"ticks\": \"\"}}, \"title\": {\"x\": 0.05}, \"xaxis\": {\"automargin\": true, \"gridcolor\": \"white\", \"linecolor\": \"white\", \"ticks\": \"\", \"title\": {\"standoff\": 15}, \"zerolinecolor\": \"white\", \"zerolinewidth\": 2}, \"yaxis\": {\"automargin\": true, \"gridcolor\": \"white\", \"linecolor\": \"white\", \"ticks\": \"\", \"title\": {\"standoff\": 15}, \"zerolinecolor\": \"white\", \"zerolinewidth\": 2}}}, \"title\": {\"text\": \"Commmon Words in Selected Text\"}, \"width\": 700, \"xaxis\": {\"anchor\": \"y\", \"domain\": [0.0, 1.0], \"title\": {\"text\": \"count\"}}, \"yaxis\": {\"anchor\": \"x\", \"categoryarray\": [\"The\", \"buy\", \"AMC\", \"Robinhood\", \"-\", \"THE\", \"this\", \"are\", \"in\", \"you\", \"for\", \"on\", \"I\", \"of\", \"a\", \"is\", \"GME\", \"and\", \"to\", \"the\"], \"categoryorder\": \"array\", \"domain\": [0.0, 1.0], \"title\": {\"text\": \"Common_words\"}}},                        {\"responsive\": true}                    ).then(function(){\n",
              "                            \n",
              "var gd = document.getElementById('84881029-18af-41bd-9407-fbfe09abd175');\n",
              "var x = new MutationObserver(function (mutations, observer) {{\n",
              "        var display = window.getComputedStyle(gd).display;\n",
              "        if (!display || display === 'none') {{\n",
              "            console.log([gd, 'removed!']);\n",
              "            Plotly.purge(gd);\n",
              "            observer.disconnect();\n",
              "        }}\n",
              "}});\n",
              "\n",
              "// Listen for the removal of the full notebook cells\n",
              "var notebookContainer = gd.closest('#notebook-container');\n",
              "if (notebookContainer) {{\n",
              "    x.observe(notebookContainer, {childList: true});\n",
              "}}\n",
              "\n",
              "// Listen for the clearing of the current output cell\n",
              "var outputEl = gd.closest('.output');\n",
              "if (outputEl) {{\n",
              "    x.observe(outputEl, {childList: true});\n",
              "}}\n",
              "\n",
              "                        })                };                            </script>        </div>\n",
              "</body>\n",
              "</html>"
            ]
          },
          "metadata": {
            "tags": []
          }
        }
      ]
    },
    {
      "cell_type": "code",
      "metadata": {
        "id": "eTHc-sKjb03T"
      },
      "source": [
        "#Remove Stop words\r\n",
        "def remove_stopword(x):\r\n",
        "    return [y for y in x if y not in stopwords.words('english')]\r\n",
        "data_title = data_title.apply(lambda x:remove_stopword(x))"
      ],
      "execution_count": null,
      "outputs": []
    },
    {
      "cell_type": "code",
      "metadata": {
        "colab": {
          "base_uri": "https://localhost:8080/",
          "height": 439
        },
        "id": "F0IZFsVKfASl",
        "outputId": "54085a7e-e42d-44f9-d39c-4c69e6d28f28"
      },
      "source": [
        "top = Counter([item for sublist in data_title for item in sublist])\r\n",
        "temp = pd.DataFrame(top.most_common(20))\r\n",
        "temp = temp.iloc[1:,:]\r\n",
        "temp.columns = ['Common_words','count']\r\n",
        "temp.style.background_gradient(cmap='Purples')"
      ],
      "execution_count": null,
      "outputs": [
        {
          "output_type": "execute_result",
          "data": {
            "text/html": [
              "<style  type=\"text/css\" >\n",
              "#T_77f91206_7e92_11eb_b755_0242ac1c0002row0_col1{\n",
              "            background-color:  #3f007d;\n",
              "            color:  #f1f1f1;\n",
              "        }#T_77f91206_7e92_11eb_b755_0242ac1c0002row1_col1{\n",
              "            background-color:  #bbbbdb;\n",
              "            color:  #000000;\n",
              "        }#T_77f91206_7e92_11eb_b755_0242ac1c0002row2_col1{\n",
              "            background-color:  #bcbddc;\n",
              "            color:  #000000;\n",
              "        }#T_77f91206_7e92_11eb_b755_0242ac1c0002row3_col1{\n",
              "            background-color:  #bdbedc;\n",
              "            color:  #000000;\n",
              "        }#T_77f91206_7e92_11eb_b755_0242ac1c0002row4_col1{\n",
              "            background-color:  #c5c6e1;\n",
              "            color:  #000000;\n",
              "        }#T_77f91206_7e92_11eb_b755_0242ac1c0002row5_col1{\n",
              "            background-color:  #d7d7e9;\n",
              "            color:  #000000;\n",
              "        }#T_77f91206_7e92_11eb_b755_0242ac1c0002row6_col1{\n",
              "            background-color:  #d8d8ea;\n",
              "            color:  #000000;\n",
              "        }#T_77f91206_7e92_11eb_b755_0242ac1c0002row7_col1{\n",
              "            background-color:  #eae9f3;\n",
              "            color:  #000000;\n",
              "        }#T_77f91206_7e92_11eb_b755_0242ac1c0002row8_col1{\n",
              "            background-color:  #ebe9f3;\n",
              "            color:  #000000;\n",
              "        }#T_77f91206_7e92_11eb_b755_0242ac1c0002row9_col1{\n",
              "            background-color:  #eeecf4;\n",
              "            color:  #000000;\n",
              "        }#T_77f91206_7e92_11eb_b755_0242ac1c0002row10_col1{\n",
              "            background-color:  #f2f0f7;\n",
              "            color:  #000000;\n",
              "        }#T_77f91206_7e92_11eb_b755_0242ac1c0002row11_col1{\n",
              "            background-color:  #f5f3f8;\n",
              "            color:  #000000;\n",
              "        }#T_77f91206_7e92_11eb_b755_0242ac1c0002row12_col1{\n",
              "            background-color:  #f9f7fb;\n",
              "            color:  #000000;\n",
              "        }#T_77f91206_7e92_11eb_b755_0242ac1c0002row13_col1{\n",
              "            background-color:  #faf8fb;\n",
              "            color:  #000000;\n",
              "        }#T_77f91206_7e92_11eb_b755_0242ac1c0002row14_col1,#T_77f91206_7e92_11eb_b755_0242ac1c0002row15_col1{\n",
              "            background-color:  #faf9fc;\n",
              "            color:  #000000;\n",
              "        }#T_77f91206_7e92_11eb_b755_0242ac1c0002row16_col1,#T_77f91206_7e92_11eb_b755_0242ac1c0002row17_col1,#T_77f91206_7e92_11eb_b755_0242ac1c0002row18_col1{\n",
              "            background-color:  #fcfbfd;\n",
              "            color:  #000000;\n",
              "        }</style><table id=\"T_77f91206_7e92_11eb_b755_0242ac1c0002\" ><thead>    <tr>        <th class=\"blank level0\" ></th>        <th class=\"col_heading level0 col0\" >Common_words</th>        <th class=\"col_heading level0 col1\" >count</th>    </tr></thead><tbody>\n",
              "                <tr>\n",
              "                        <th id=\"T_77f91206_7e92_11eb_b755_0242ac1c0002level0_row0\" class=\"row_heading level0 row0\" >1</th>\n",
              "                        <td id=\"T_77f91206_7e92_11eb_b755_0242ac1c0002row0_col0\" class=\"data row0 col0\" >I</td>\n",
              "                        <td id=\"T_77f91206_7e92_11eb_b755_0242ac1c0002row0_col1\" class=\"data row0 col1\" >1947</td>\n",
              "            </tr>\n",
              "            <tr>\n",
              "                        <th id=\"T_77f91206_7e92_11eb_b755_0242ac1c0002level0_row1\" class=\"row_heading level0 row1\" >2</th>\n",
              "                        <td id=\"T_77f91206_7e92_11eb_b755_0242ac1c0002row1_col0\" class=\"data row1 col0\" >THE</td>\n",
              "                        <td id=\"T_77f91206_7e92_11eb_b755_0242ac1c0002row1_col1\" class=\"data row1 col1\" >962</td>\n",
              "            </tr>\n",
              "            <tr>\n",
              "                        <th id=\"T_77f91206_7e92_11eb_b755_0242ac1c0002level0_row2\" class=\"row_heading level0 row2\" >3</th>\n",
              "                        <td id=\"T_77f91206_7e92_11eb_b755_0242ac1c0002row2_col0\" class=\"data row2 col0\" >-</td>\n",
              "                        <td id=\"T_77f91206_7e92_11eb_b755_0242ac1c0002row2_col1\" class=\"data row2 col1\" >955</td>\n",
              "            </tr>\n",
              "            <tr>\n",
              "                        <th id=\"T_77f91206_7e92_11eb_b755_0242ac1c0002level0_row3\" class=\"row_heading level0 row3\" >4</th>\n",
              "                        <td id=\"T_77f91206_7e92_11eb_b755_0242ac1c0002row3_col0\" class=\"data row3 col0\" >Robinhood</td>\n",
              "                        <td id=\"T_77f91206_7e92_11eb_b755_0242ac1c0002row3_col1\" class=\"data row3 col1\" >949</td>\n",
              "            </tr>\n",
              "            <tr>\n",
              "                        <th id=\"T_77f91206_7e92_11eb_b755_0242ac1c0002level0_row4\" class=\"row_heading level0 row4\" >5</th>\n",
              "                        <td id=\"T_77f91206_7e92_11eb_b755_0242ac1c0002row4_col0\" class=\"data row4 col0\" >AMC</td>\n",
              "                        <td id=\"T_77f91206_7e92_11eb_b755_0242ac1c0002row4_col1\" class=\"data row4 col1\" >892</td>\n",
              "            </tr>\n",
              "            <tr>\n",
              "                        <th id=\"T_77f91206_7e92_11eb_b755_0242ac1c0002level0_row5\" class=\"row_heading level0 row5\" >6</th>\n",
              "                        <td id=\"T_77f91206_7e92_11eb_b755_0242ac1c0002row5_col0\" class=\"data row5 col0\" >buy</td>\n",
              "                        <td id=\"T_77f91206_7e92_11eb_b755_0242ac1c0002row5_col1\" class=\"data row5 col1\" >776</td>\n",
              "            </tr>\n",
              "            <tr>\n",
              "                        <th id=\"T_77f91206_7e92_11eb_b755_0242ac1c0002level0_row6\" class=\"row_heading level0 row6\" >7</th>\n",
              "                        <td id=\"T_77f91206_7e92_11eb_b755_0242ac1c0002row6_col0\" class=\"data row6 col0\" >The</td>\n",
              "                        <td id=\"T_77f91206_7e92_11eb_b755_0242ac1c0002row6_col1\" class=\"data row6 col1\" >773</td>\n",
              "            </tr>\n",
              "            <tr>\n",
              "                        <th id=\"T_77f91206_7e92_11eb_b755_0242ac1c0002level0_row7\" class=\"row_heading level0 row7\" >8</th>\n",
              "                        <td id=\"T_77f91206_7e92_11eb_b755_0242ac1c0002row7_col0\" class=\"data row7 col0\" >HOLD</td>\n",
              "                        <td id=\"T_77f91206_7e92_11eb_b755_0242ac1c0002row7_col1\" class=\"data row7 col1\" >605</td>\n",
              "            </tr>\n",
              "            <tr>\n",
              "                        <th id=\"T_77f91206_7e92_11eb_b755_0242ac1c0002level0_row8\" class=\"row_heading level0 row8\" >9</th>\n",
              "                        <td id=\"T_77f91206_7e92_11eb_b755_0242ac1c0002row8_col0\" class=\"data row8 col0\" >BUY</td>\n",
              "                        <td id=\"T_77f91206_7e92_11eb_b755_0242ac1c0002row8_col1\" class=\"data row8 col1\" >599</td>\n",
              "            </tr>\n",
              "            <tr>\n",
              "                        <th id=\"T_77f91206_7e92_11eb_b755_0242ac1c0002level0_row9\" class=\"row_heading level0 row9\" >10</th>\n",
              "                        <td id=\"T_77f91206_7e92_11eb_b755_0242ac1c0002row9_col0\" class=\"data row9 col0\" >TO</td>\n",
              "                        <td id=\"T_77f91206_7e92_11eb_b755_0242ac1c0002row9_col1\" class=\"data row9 col1\" >572</td>\n",
              "            </tr>\n",
              "            <tr>\n",
              "                        <th id=\"T_77f91206_7e92_11eb_b755_0242ac1c0002level0_row10\" class=\"row_heading level0 row10\" >11</th>\n",
              "                        <td id=\"T_77f91206_7e92_11eb_b755_0242ac1c0002row10_col0\" class=\"data row10 col0\" >A</td>\n",
              "                        <td id=\"T_77f91206_7e92_11eb_b755_0242ac1c0002row10_col1\" class=\"data row10 col1\" >517</td>\n",
              "            </tr>\n",
              "            <tr>\n",
              "                        <th id=\"T_77f91206_7e92_11eb_b755_0242ac1c0002level0_row11\" class=\"row_heading level0 row11\" >12</th>\n",
              "                        <td id=\"T_77f91206_7e92_11eb_b755_0242ac1c0002row11_col0\" class=\"data row11 col0\" >What</td>\n",
              "                        <td id=\"T_77f91206_7e92_11eb_b755_0242ac1c0002row11_col1\" class=\"data row11 col1\" >474</td>\n",
              "            </tr>\n",
              "            <tr>\n",
              "                        <th id=\"T_77f91206_7e92_11eb_b755_0242ac1c0002level0_row12\" class=\"row_heading level0 row12\" >13</th>\n",
              "                        <td id=\"T_77f91206_7e92_11eb_b755_0242ac1c0002row12_col0\" class=\"data row12 col0\" >Why</td>\n",
              "                        <td id=\"T_77f91206_7e92_11eb_b755_0242ac1c0002row12_col1\" class=\"data row12 col1\" >410</td>\n",
              "            </tr>\n",
              "            <tr>\n",
              "                        <th id=\"T_77f91206_7e92_11eb_b755_0242ac1c0002level0_row13\" class=\"row_heading level0 row13\" >14</th>\n",
              "                        <td id=\"T_77f91206_7e92_11eb_b755_0242ac1c0002row13_col0\" class=\"data row13 col0\" >$GME</td>\n",
              "                        <td id=\"T_77f91206_7e92_11eb_b755_0242ac1c0002row13_col1\" class=\"data row13 col1\" >396</td>\n",
              "            </tr>\n",
              "            <tr>\n",
              "                        <th id=\"T_77f91206_7e92_11eb_b755_0242ac1c0002level0_row14\" class=\"row_heading level0 row14\" >15</th>\n",
              "                        <td id=\"T_77f91206_7e92_11eb_b755_0242ac1c0002row14_col0\" class=\"data row14 col0\" >still</td>\n",
              "                        <td id=\"T_77f91206_7e92_11eb_b755_0242ac1c0002row14_col1\" class=\"data row14 col1\" >394</td>\n",
              "            </tr>\n",
              "            <tr>\n",
              "                        <th id=\"T_77f91206_7e92_11eb_b755_0242ac1c0002level0_row15\" class=\"row_heading level0 row15\" >16</th>\n",
              "                        <td id=\"T_77f91206_7e92_11eb_b755_0242ac1c0002row15_col0\" class=\"data row15 col0\" >AND</td>\n",
              "                        <td id=\"T_77f91206_7e92_11eb_b755_0242ac1c0002row15_col1\" class=\"data row15 col1\" >385</td>\n",
              "            </tr>\n",
              "            <tr>\n",
              "                        <th id=\"T_77f91206_7e92_11eb_b755_0242ac1c0002level0_row16\" class=\"row_heading level0 row16\" >17</th>\n",
              "                        <td id=\"T_77f91206_7e92_11eb_b755_0242ac1c0002row16_col0\" class=\"data row16 col0\" >get</td>\n",
              "                        <td id=\"T_77f91206_7e92_11eb_b755_0242ac1c0002row16_col1\" class=\"data row16 col1\" >367</td>\n",
              "            </tr>\n",
              "            <tr>\n",
              "                        <th id=\"T_77f91206_7e92_11eb_b755_0242ac1c0002level0_row17\" class=\"row_heading level0 row17\" >18</th>\n",
              "                        <td id=\"T_77f91206_7e92_11eb_b755_0242ac1c0002row17_col0\" class=\"data row17 col0\" >going</td>\n",
              "                        <td id=\"T_77f91206_7e92_11eb_b755_0242ac1c0002row17_col1\" class=\"data row17 col1\" >366</td>\n",
              "            </tr>\n",
              "            <tr>\n",
              "                        <th id=\"T_77f91206_7e92_11eb_b755_0242ac1c0002level0_row18\" class=\"row_heading level0 row18\" >19</th>\n",
              "                        <td id=\"T_77f91206_7e92_11eb_b755_0242ac1c0002row18_col0\" class=\"data row18 col0\" >IS</td>\n",
              "                        <td id=\"T_77f91206_7e92_11eb_b755_0242ac1c0002row18_col1\" class=\"data row18 col1\" >358</td>\n",
              "            </tr>\n",
              "    </tbody></table>"
            ],
            "text/plain": [
              "<pandas.io.formats.style.Styler at 0x7fd1a824d590>"
            ]
          },
          "metadata": {
            "tags": []
          },
          "execution_count": 20
        }
      ]
    },
    {
      "cell_type": "code",
      "metadata": {
        "id": "9es0Y-D3HbgR"
      },
      "source": [
        "data_title.to_csv('final_project.csv')"
      ],
      "execution_count": null,
      "outputs": []
    },
    {
      "cell_type": "code",
      "metadata": {
        "colab": {
          "base_uri": "https://localhost:8080/",
          "height": 542
        },
        "id": "O1vQVfcQm7sV",
        "outputId": "db574a3e-a08a-4b98-d198-673d1cecff18"
      },
      "source": [
        "fig = px.treemap(temp, path=['Common_words'], values='count',title='Tree of Most Common Words')\r\n",
        "fig.show()"
      ],
      "execution_count": null,
      "outputs": [
        {
          "output_type": "display_data",
          "data": {
            "text/html": [
              "<html>\n",
              "<head><meta charset=\"utf-8\" /></head>\n",
              "<body>\n",
              "    <div>            <script src=\"https://cdnjs.cloudflare.com/ajax/libs/mathjax/2.7.5/MathJax.js?config=TeX-AMS-MML_SVG\"></script><script type=\"text/javascript\">if (window.MathJax) {MathJax.Hub.Config({SVG: {font: \"STIX-Web\"}});}</script>                <script type=\"text/javascript\">window.PlotlyConfig = {MathJaxConfig: 'local'};</script>\n",
              "        <script src=\"https://cdn.plot.ly/plotly-latest.min.js\"></script>                <div id=\"b3a75d65-03ac-468c-bfbd-7645f327285b\" class=\"plotly-graph-div\" style=\"height:525px; width:100%;\"></div>            <script type=\"text/javascript\">                                    window.PLOTLYENV=window.PLOTLYENV || {};                                    if (document.getElementById(\"b3a75d65-03ac-468c-bfbd-7645f327285b\")) {                    Plotly.newPlot(                        \"b3a75d65-03ac-468c-bfbd-7645f327285b\",                        [{\"branchvalues\": \"total\", \"domain\": {\"x\": [0.0, 1.0], \"y\": [0.0, 1.0]}, \"hovertemplate\": \"labels=%{label}<br>count=%{value}<br>parent=%{parent}<br>id=%{id}<extra></extra>\", \"ids\": [\"$GME\", \"-\", \"A\", \"AMC\", \"AND\", \"BUY\", \"HOLD\", \"I\", \"IS\", \"Robinhood\", \"THE\", \"TO\", \"The\", \"What\", \"Why\", \"buy\", \"get\", \"going\", \"still\"], \"labels\": [\"$GME\", \"-\", \"A\", \"AMC\", \"AND\", \"BUY\", \"HOLD\", \"I\", \"IS\", \"Robinhood\", \"THE\", \"TO\", \"The\", \"What\", \"Why\", \"buy\", \"get\", \"going\", \"still\"], \"name\": \"\", \"parents\": [\"\", \"\", \"\", \"\", \"\", \"\", \"\", \"\", \"\", \"\", \"\", \"\", \"\", \"\", \"\", \"\", \"\", \"\", \"\"], \"type\": \"treemap\", \"values\": [396, 955, 517, 892, 385, 599, 605, 1947, 358, 949, 962, 572, 773, 474, 410, 776, 367, 366, 394]}],                        {\"legend\": {\"tracegroupgap\": 0}, \"template\": {\"data\": {\"bar\": [{\"error_x\": {\"color\": \"#2a3f5f\"}, \"error_y\": {\"color\": \"#2a3f5f\"}, \"marker\": {\"line\": {\"color\": \"#E5ECF6\", \"width\": 0.5}}, \"type\": \"bar\"}], \"barpolar\": [{\"marker\": {\"line\": {\"color\": \"#E5ECF6\", \"width\": 0.5}}, \"type\": \"barpolar\"}], \"carpet\": [{\"aaxis\": {\"endlinecolor\": \"#2a3f5f\", \"gridcolor\": \"white\", \"linecolor\": \"white\", \"minorgridcolor\": \"white\", \"startlinecolor\": \"#2a3f5f\"}, \"baxis\": {\"endlinecolor\": \"#2a3f5f\", \"gridcolor\": \"white\", \"linecolor\": \"white\", \"minorgridcolor\": \"white\", \"startlinecolor\": \"#2a3f5f\"}, \"type\": \"carpet\"}], \"choropleth\": [{\"colorbar\": {\"outlinewidth\": 0, \"ticks\": \"\"}, \"type\": \"choropleth\"}], \"contour\": [{\"colorbar\": {\"outlinewidth\": 0, \"ticks\": \"\"}, \"colorscale\": [[0.0, \"#0d0887\"], [0.1111111111111111, \"#46039f\"], [0.2222222222222222, \"#7201a8\"], [0.3333333333333333, \"#9c179e\"], [0.4444444444444444, \"#bd3786\"], [0.5555555555555556, \"#d8576b\"], [0.6666666666666666, \"#ed7953\"], [0.7777777777777778, \"#fb9f3a\"], [0.8888888888888888, \"#fdca26\"], [1.0, \"#f0f921\"]], \"type\": \"contour\"}], \"contourcarpet\": [{\"colorbar\": {\"outlinewidth\": 0, \"ticks\": \"\"}, \"type\": \"contourcarpet\"}], \"heatmap\": [{\"colorbar\": {\"outlinewidth\": 0, \"ticks\": \"\"}, \"colorscale\": [[0.0, \"#0d0887\"], [0.1111111111111111, \"#46039f\"], [0.2222222222222222, \"#7201a8\"], [0.3333333333333333, \"#9c179e\"], [0.4444444444444444, \"#bd3786\"], [0.5555555555555556, \"#d8576b\"], [0.6666666666666666, \"#ed7953\"], [0.7777777777777778, \"#fb9f3a\"], [0.8888888888888888, \"#fdca26\"], [1.0, \"#f0f921\"]], \"type\": \"heatmap\"}], \"heatmapgl\": [{\"colorbar\": {\"outlinewidth\": 0, \"ticks\": \"\"}, \"colorscale\": [[0.0, \"#0d0887\"], [0.1111111111111111, \"#46039f\"], [0.2222222222222222, \"#7201a8\"], [0.3333333333333333, \"#9c179e\"], [0.4444444444444444, \"#bd3786\"], [0.5555555555555556, \"#d8576b\"], [0.6666666666666666, \"#ed7953\"], [0.7777777777777778, \"#fb9f3a\"], [0.8888888888888888, \"#fdca26\"], [1.0, \"#f0f921\"]], \"type\": \"heatmapgl\"}], \"histogram\": [{\"marker\": {\"colorbar\": {\"outlinewidth\": 0, \"ticks\": \"\"}}, \"type\": \"histogram\"}], \"histogram2d\": [{\"colorbar\": {\"outlinewidth\": 0, \"ticks\": \"\"}, \"colorscale\": [[0.0, \"#0d0887\"], [0.1111111111111111, \"#46039f\"], [0.2222222222222222, \"#7201a8\"], [0.3333333333333333, \"#9c179e\"], [0.4444444444444444, \"#bd3786\"], [0.5555555555555556, \"#d8576b\"], [0.6666666666666666, \"#ed7953\"], [0.7777777777777778, \"#fb9f3a\"], [0.8888888888888888, \"#fdca26\"], [1.0, \"#f0f921\"]], \"type\": \"histogram2d\"}], \"histogram2dcontour\": [{\"colorbar\": {\"outlinewidth\": 0, \"ticks\": \"\"}, \"colorscale\": [[0.0, \"#0d0887\"], [0.1111111111111111, \"#46039f\"], [0.2222222222222222, \"#7201a8\"], [0.3333333333333333, \"#9c179e\"], [0.4444444444444444, \"#bd3786\"], [0.5555555555555556, \"#d8576b\"], [0.6666666666666666, \"#ed7953\"], [0.7777777777777778, \"#fb9f3a\"], [0.8888888888888888, \"#fdca26\"], [1.0, \"#f0f921\"]], \"type\": \"histogram2dcontour\"}], \"mesh3d\": [{\"colorbar\": {\"outlinewidth\": 0, \"ticks\": \"\"}, \"type\": \"mesh3d\"}], \"parcoords\": [{\"line\": {\"colorbar\": {\"outlinewidth\": 0, \"ticks\": \"\"}}, \"type\": \"parcoords\"}], \"pie\": [{\"automargin\": true, \"type\": \"pie\"}], \"scatter\": [{\"marker\": {\"colorbar\": {\"outlinewidth\": 0, \"ticks\": \"\"}}, \"type\": \"scatter\"}], \"scatter3d\": [{\"line\": {\"colorbar\": {\"outlinewidth\": 0, \"ticks\": \"\"}}, \"marker\": {\"colorbar\": {\"outlinewidth\": 0, \"ticks\": \"\"}}, \"type\": \"scatter3d\"}], \"scattercarpet\": [{\"marker\": {\"colorbar\": {\"outlinewidth\": 0, \"ticks\": \"\"}}, \"type\": \"scattercarpet\"}], \"scattergeo\": [{\"marker\": {\"colorbar\": {\"outlinewidth\": 0, \"ticks\": \"\"}}, \"type\": \"scattergeo\"}], \"scattergl\": [{\"marker\": {\"colorbar\": {\"outlinewidth\": 0, \"ticks\": \"\"}}, \"type\": \"scattergl\"}], \"scattermapbox\": [{\"marker\": {\"colorbar\": {\"outlinewidth\": 0, \"ticks\": \"\"}}, \"type\": \"scattermapbox\"}], \"scatterpolar\": [{\"marker\": {\"colorbar\": {\"outlinewidth\": 0, \"ticks\": \"\"}}, \"type\": \"scatterpolar\"}], \"scatterpolargl\": [{\"marker\": {\"colorbar\": {\"outlinewidth\": 0, \"ticks\": \"\"}}, \"type\": \"scatterpolargl\"}], \"scatterternary\": [{\"marker\": {\"colorbar\": {\"outlinewidth\": 0, \"ticks\": \"\"}}, \"type\": \"scatterternary\"}], \"surface\": [{\"colorbar\": {\"outlinewidth\": 0, \"ticks\": \"\"}, \"colorscale\": [[0.0, \"#0d0887\"], [0.1111111111111111, \"#46039f\"], [0.2222222222222222, \"#7201a8\"], [0.3333333333333333, \"#9c179e\"], [0.4444444444444444, \"#bd3786\"], [0.5555555555555556, \"#d8576b\"], [0.6666666666666666, \"#ed7953\"], [0.7777777777777778, \"#fb9f3a\"], [0.8888888888888888, \"#fdca26\"], [1.0, \"#f0f921\"]], \"type\": \"surface\"}], \"table\": [{\"cells\": {\"fill\": {\"color\": \"#EBF0F8\"}, \"line\": {\"color\": \"white\"}}, \"header\": {\"fill\": {\"color\": \"#C8D4E3\"}, \"line\": {\"color\": \"white\"}}, \"type\": \"table\"}]}, \"layout\": {\"annotationdefaults\": {\"arrowcolor\": \"#2a3f5f\", \"arrowhead\": 0, \"arrowwidth\": 1}, \"autotypenumbers\": \"strict\", \"coloraxis\": {\"colorbar\": {\"outlinewidth\": 0, \"ticks\": \"\"}}, \"colorscale\": {\"diverging\": [[0, \"#8e0152\"], [0.1, \"#c51b7d\"], [0.2, \"#de77ae\"], [0.3, \"#f1b6da\"], [0.4, \"#fde0ef\"], [0.5, \"#f7f7f7\"], [0.6, \"#e6f5d0\"], [0.7, \"#b8e186\"], [0.8, \"#7fbc41\"], [0.9, \"#4d9221\"], [1, \"#276419\"]], \"sequential\": [[0.0, \"#0d0887\"], [0.1111111111111111, \"#46039f\"], [0.2222222222222222, \"#7201a8\"], [0.3333333333333333, \"#9c179e\"], [0.4444444444444444, \"#bd3786\"], [0.5555555555555556, \"#d8576b\"], [0.6666666666666666, \"#ed7953\"], [0.7777777777777778, \"#fb9f3a\"], [0.8888888888888888, \"#fdca26\"], [1.0, \"#f0f921\"]], \"sequentialminus\": [[0.0, \"#0d0887\"], [0.1111111111111111, \"#46039f\"], [0.2222222222222222, \"#7201a8\"], [0.3333333333333333, \"#9c179e\"], [0.4444444444444444, \"#bd3786\"], [0.5555555555555556, \"#d8576b\"], [0.6666666666666666, \"#ed7953\"], [0.7777777777777778, \"#fb9f3a\"], [0.8888888888888888, \"#fdca26\"], [1.0, \"#f0f921\"]]}, \"colorway\": [\"#636efa\", \"#EF553B\", \"#00cc96\", \"#ab63fa\", \"#FFA15A\", \"#19d3f3\", \"#FF6692\", \"#B6E880\", \"#FF97FF\", \"#FECB52\"], \"font\": {\"color\": \"#2a3f5f\"}, \"geo\": {\"bgcolor\": \"white\", \"lakecolor\": \"white\", \"landcolor\": \"#E5ECF6\", \"showlakes\": true, \"showland\": true, \"subunitcolor\": \"white\"}, \"hoverlabel\": {\"align\": \"left\"}, \"hovermode\": \"closest\", \"mapbox\": {\"style\": \"light\"}, \"paper_bgcolor\": \"white\", \"plot_bgcolor\": \"#E5ECF6\", \"polar\": {\"angularaxis\": {\"gridcolor\": \"white\", \"linecolor\": \"white\", \"ticks\": \"\"}, \"bgcolor\": \"#E5ECF6\", \"radialaxis\": {\"gridcolor\": \"white\", \"linecolor\": \"white\", \"ticks\": \"\"}}, \"scene\": {\"xaxis\": {\"backgroundcolor\": \"#E5ECF6\", \"gridcolor\": \"white\", \"gridwidth\": 2, \"linecolor\": \"white\", \"showbackground\": true, \"ticks\": \"\", \"zerolinecolor\": \"white\"}, \"yaxis\": {\"backgroundcolor\": \"#E5ECF6\", \"gridcolor\": \"white\", \"gridwidth\": 2, \"linecolor\": \"white\", \"showbackground\": true, \"ticks\": \"\", \"zerolinecolor\": \"white\"}, \"zaxis\": {\"backgroundcolor\": \"#E5ECF6\", \"gridcolor\": \"white\", \"gridwidth\": 2, \"linecolor\": \"white\", \"showbackground\": true, \"ticks\": \"\", \"zerolinecolor\": \"white\"}}, \"shapedefaults\": {\"line\": {\"color\": \"#2a3f5f\"}}, \"ternary\": {\"aaxis\": {\"gridcolor\": \"white\", \"linecolor\": \"white\", \"ticks\": \"\"}, \"baxis\": {\"gridcolor\": \"white\", \"linecolor\": \"white\", \"ticks\": \"\"}, \"bgcolor\": \"#E5ECF6\", \"caxis\": {\"gridcolor\": \"white\", \"linecolor\": \"white\", \"ticks\": \"\"}}, \"title\": {\"x\": 0.05}, \"xaxis\": {\"automargin\": true, \"gridcolor\": \"white\", \"linecolor\": \"white\", \"ticks\": \"\", \"title\": {\"standoff\": 15}, \"zerolinecolor\": \"white\", \"zerolinewidth\": 2}, \"yaxis\": {\"automargin\": true, \"gridcolor\": \"white\", \"linecolor\": \"white\", \"ticks\": \"\", \"title\": {\"standoff\": 15}, \"zerolinecolor\": \"white\", \"zerolinewidth\": 2}}}, \"title\": {\"text\": \"Tree of Most Common Words\"}},                        {\"responsive\": true}                    ).then(function(){\n",
              "                            \n",
              "var gd = document.getElementById('b3a75d65-03ac-468c-bfbd-7645f327285b');\n",
              "var x = new MutationObserver(function (mutations, observer) {{\n",
              "        var display = window.getComputedStyle(gd).display;\n",
              "        if (!display || display === 'none') {{\n",
              "            console.log([gd, 'removed!']);\n",
              "            Plotly.purge(gd);\n",
              "            observer.disconnect();\n",
              "        }}\n",
              "}});\n",
              "\n",
              "// Listen for the removal of the full notebook cells\n",
              "var notebookContainer = gd.closest('#notebook-container');\n",
              "if (notebookContainer) {{\n",
              "    x.observe(notebookContainer, {childList: true});\n",
              "}}\n",
              "\n",
              "// Listen for the clearing of the current output cell\n",
              "var outputEl = gd.closest('.output');\n",
              "if (outputEl) {{\n",
              "    x.observe(outputEl, {childList: true});\n",
              "}}\n",
              "\n",
              "                        })                };                            </script>        </div>\n",
              "</body>\n",
              "</html>"
            ]
          },
          "metadata": {
            "tags": []
          }
        }
      ]
    },
    {
      "cell_type": "code",
      "metadata": {
        "id": "r48rpWeCfThG"
      },
      "source": [
        "# Proprocessing the data\r\n",
        "data['title']=data['title'].str.lower()\r\n",
        "# Code to remove the Hashtags from the text\r\n",
        "data['title']=data['title'].apply(lambda x:re.sub(r'\\B#\\S+','',x))\r\n",
        "# Code to remove the links from the text\r\n",
        "data['title']=data['title'].apply(lambda x:re.sub(r\"http\\S+\", \"\", x))\r\n",
        "# Code to remove the Special characters from the text \r\n",
        "data['title']=data['title'].apply(lambda x:' '.join(re.findall(r'\\w+', x)))\r\n",
        "# Code to substitute the multiple spaces with single spaces\r\n",
        "data['title']=data['title'].apply(lambda x:re.sub(r'\\s+', ' ', x, flags=re.I))\r\n",
        "# Code to remove all the single characters in the text\r\n",
        "data['title']=data['title'].apply(lambda x:re.sub(r'\\s+[a-zA-Z]\\s+', '', x))\r\n",
        "# Remove the twitter handlers\r\n",
        "data['title']=data['title'].apply(lambda x:re.sub('@[^\\s]+','',x))"
      ],
      "execution_count": null,
      "outputs": []
    },
    {
      "cell_type": "code",
      "metadata": {
        "id": "Jg_hmBcAgLjM"
      },
      "source": [
        "data=data[['title']]"
      ],
      "execution_count": null,
      "outputs": []
    },
    {
      "cell_type": "code",
      "metadata": {
        "id": "B-C9iVnPpuyO"
      },
      "source": [
        "# Invoking the TFIDFVectorizer\r\n",
        "tf_data=TfidfVectorizer()\r\n",
        "# Copying the data into a new dataframe called vader\r\n",
        "vader=data.copy()\r\n",
        "\r\n",
        "sentiment=vad()\r\n",
        "# Making additional columns for sentiment score in the vader dataframe\r\n",
        "sen=['Positive','Negative','Neutral']\r\n",
        "sentiments=[sentiment.polarity_scores(i) for i in vader['title'].values]\r\n",
        "vader['Negative Score']=[i['neg'] for i in sentiments]\r\n",
        "vader['Positive Score']=[i['pos'] for i in sentiments]\r\n",
        "vader['Neutral Score']=[i['neu'] for i in sentiments]\r\n",
        "vader['Compound Score']=[i['compound'] for i in sentiments]\r\n",
        "score=vader['Compound Score'].values\r\n",
        "t=[]\r\n",
        "for i in score:\r\n",
        "    if i >=0.05 :\r\n",
        "        t.append('Positive')\r\n",
        "    elif i<=-0.05 :\r\n",
        "        t.append('Negative')\r\n",
        "    else:\r\n",
        "        t.append('Neutral')\r\n",
        "vader['Overall Sentiment']=t"
      ],
      "execution_count": null,
      "outputs": []
    },
    {
      "cell_type": "code",
      "metadata": {
        "colab": {
          "base_uri": "https://localhost:8080/",
          "height": 191
        },
        "id": "NwTrkNMVwSPS",
        "outputId": "47546b91-5907-46a3-9119-59a18bdafde7"
      },
      "source": [
        "vader.head()"
      ],
      "execution_count": null,
      "outputs": [
        {
          "output_type": "execute_result",
          "data": {
            "text/html": [
              "<div>\n",
              "<style scoped>\n",
              "    .dataframe tbody tr th:only-of-type {\n",
              "        vertical-align: middle;\n",
              "    }\n",
              "\n",
              "    .dataframe tbody tr th {\n",
              "        vertical-align: top;\n",
              "    }\n",
              "\n",
              "    .dataframe thead th {\n",
              "        text-align: right;\n",
              "    }\n",
              "</style>\n",
              "<table border=\"1\" class=\"dataframe\">\n",
              "  <thead>\n",
              "    <tr style=\"text-align: right;\">\n",
              "      <th></th>\n",
              "      <th>title</th>\n",
              "      <th>Negative Score</th>\n",
              "      <th>Positive Score</th>\n",
              "      <th>Neutral Score</th>\n",
              "      <th>Compound Score</th>\n",
              "      <th>Overall Sentiment</th>\n",
              "    </tr>\n",
              "  </thead>\n",
              "  <tbody>\n",
              "    <tr>\n",
              "      <th>2</th>\n",
              "      <td>exit the system</td>\n",
              "      <td>0.0</td>\n",
              "      <td>0.0</td>\n",
              "      <td>1.0</td>\n",
              "      <td>0.0</td>\n",
              "      <td>Neutral</td>\n",
              "    </tr>\n",
              "    <tr>\n",
              "      <th>6</th>\n",
              "      <td>short stock doesnhave an expiration date</td>\n",
              "      <td>0.0</td>\n",
              "      <td>0.0</td>\n",
              "      <td>1.0</td>\n",
              "      <td>0.0</td>\n",
              "      <td>Neutral</td>\n",
              "    </tr>\n",
              "    <tr>\n",
              "      <th>7</th>\n",
              "      <td>this is the moment</td>\n",
              "      <td>0.0</td>\n",
              "      <td>0.0</td>\n",
              "      <td>1.0</td>\n",
              "      <td>0.0</td>\n",
              "      <td>Neutral</td>\n",
              "    </tr>\n",
              "    <tr>\n",
              "      <th>10</th>\n",
              "      <td>we need to keep this movement going we all can...</td>\n",
              "      <td>0.0</td>\n",
              "      <td>0.0</td>\n",
              "      <td>1.0</td>\n",
              "      <td>0.0</td>\n",
              "      <td>Neutral</td>\n",
              "    </tr>\n",
              "    <tr>\n",
              "      <th>12</th>\n",
              "      <td>once you re done with gme ag and slv the gentl...</td>\n",
              "      <td>0.0</td>\n",
              "      <td>0.0</td>\n",
              "      <td>1.0</td>\n",
              "      <td>0.0</td>\n",
              "      <td>Neutral</td>\n",
              "    </tr>\n",
              "  </tbody>\n",
              "</table>\n",
              "</div>"
            ],
            "text/plain": [
              "                                                title  ...  Overall Sentiment\n",
              "2                                     exit the system  ...            Neutral\n",
              "6            short stock doesnhave an expiration date  ...            Neutral\n",
              "7                                  this is the moment  ...            Neutral\n",
              "10  we need to keep this movement going we all can...  ...            Neutral\n",
              "12  once you re done with gme ag and slv the gentl...  ...            Neutral\n",
              "\n",
              "[5 rows x 6 columns]"
            ]
          },
          "metadata": {
            "tags": []
          },
          "execution_count": 29
        }
      ]
    },
    {
      "cell_type": "code",
      "metadata": {
        "colab": {
          "base_uri": "https://localhost:8080/",
          "height": 708
        },
        "id": "2WZ7cCOimoCA",
        "outputId": "c0906564-cf15-4451-c820-3a53ceba6117"
      },
      "source": [
        "plt.figure(figsize=(18,8))\r\n",
        "plt.title('Sentiment')\r\n",
        "plt.plot(df['Close'])\r\n",
        "plt.xlabel('Data', fontsize=18)\r\n",
        "plt.ylabel('Close Price USD ($)', fontsize=18)\r\n",
        "plt.show()"
      ],
      "execution_count": null,
      "outputs": [
        {
          "output_type": "error",
          "ename": "NameError",
          "evalue": "ignored",
          "traceback": [
            "\u001b[0;31m---------------------------------------------------------------------------\u001b[0m",
            "\u001b[0;31mNameError\u001b[0m                                 Traceback (most recent call last)",
            "\u001b[0;32m<ipython-input-30-87014627765f>\u001b[0m in \u001b[0;36m<module>\u001b[0;34m()\u001b[0m\n\u001b[1;32m      1\u001b[0m \u001b[0mplt\u001b[0m\u001b[0;34m.\u001b[0m\u001b[0mfigure\u001b[0m\u001b[0;34m(\u001b[0m\u001b[0mfigsize\u001b[0m\u001b[0;34m=\u001b[0m\u001b[0;34m(\u001b[0m\u001b[0;36m18\u001b[0m\u001b[0;34m,\u001b[0m\u001b[0;36m8\u001b[0m\u001b[0;34m)\u001b[0m\u001b[0;34m)\u001b[0m\u001b[0;34m\u001b[0m\u001b[0;34m\u001b[0m\u001b[0m\n\u001b[1;32m      2\u001b[0m \u001b[0mplt\u001b[0m\u001b[0;34m.\u001b[0m\u001b[0mtitle\u001b[0m\u001b[0;34m(\u001b[0m\u001b[0;34m'Sentiment'\u001b[0m\u001b[0;34m)\u001b[0m\u001b[0;34m\u001b[0m\u001b[0;34m\u001b[0m\u001b[0m\n\u001b[0;32m----> 3\u001b[0;31m \u001b[0mplt\u001b[0m\u001b[0;34m.\u001b[0m\u001b[0mplot\u001b[0m\u001b[0;34m(\u001b[0m\u001b[0mdf\u001b[0m\u001b[0;34m[\u001b[0m\u001b[0;34m'Close'\u001b[0m\u001b[0;34m]\u001b[0m\u001b[0;34m)\u001b[0m\u001b[0;34m\u001b[0m\u001b[0;34m\u001b[0m\u001b[0m\n\u001b[0m\u001b[1;32m      4\u001b[0m \u001b[0mplt\u001b[0m\u001b[0;34m.\u001b[0m\u001b[0mxlabel\u001b[0m\u001b[0;34m(\u001b[0m\u001b[0;34m'Data'\u001b[0m\u001b[0;34m,\u001b[0m \u001b[0mfontsize\u001b[0m\u001b[0;34m=\u001b[0m\u001b[0;36m18\u001b[0m\u001b[0;34m)\u001b[0m\u001b[0;34m\u001b[0m\u001b[0;34m\u001b[0m\u001b[0m\n\u001b[1;32m      5\u001b[0m \u001b[0mplt\u001b[0m\u001b[0;34m.\u001b[0m\u001b[0mylabel\u001b[0m\u001b[0;34m(\u001b[0m\u001b[0;34m'Close Price USD ($)'\u001b[0m\u001b[0;34m,\u001b[0m \u001b[0mfontsize\u001b[0m\u001b[0;34m=\u001b[0m\u001b[0;36m18\u001b[0m\u001b[0;34m)\u001b[0m\u001b[0;34m\u001b[0m\u001b[0;34m\u001b[0m\u001b[0m\n",
            "\u001b[0;31mNameError\u001b[0m: name 'df' is not defined"
          ]
        },
        {
          "output_type": "display_data",
          "data": {
            "image/png": "[encoded data removed]",
            "text/plain": [
              "<Figure size 1296x576 with 1 Axes>"
            ]
          },
          "metadata": {
            "tags": [],
            "needs_background": "light"
          }
        }
      ]
    },
    {
      "cell_type": "code",
      "metadata": {
        "colab": {
          "base_uri": "https://localhost:8080/",
          "height": 542
        },
        "id": "H3zf7JeuwbP9",
        "outputId": "1daae379-c71a-4c6d-dc52-a9095246bfc8"
      },
      "source": [
        "fig=px.histogram(data_frame=vader,x='Compound Score',color='Overall Sentiment',template='plotly')\r\n",
        "fig.show()"
      ],
      "execution_count": null,
      "outputs": [
        {
          "output_type": "display_data",
          "data": {
            "text/html": [
              "<html>\n",
              "<head><meta charset=\"utf-8\" /></head>\n",
              "<body>\n",
              "    <div>            <script src=\"https://cdnjs.cloudflare.com/ajax/libs/mathjax/2.7.5/MathJax.js?config=TeX-AMS-MML_SVG\"></script><script type=\"text/javascript\">if (window.MathJax) {MathJax.Hub.Config({SVG: {font: \"STIX-Web\"}});}</script>                <script type=\"text/javascript\">window.PlotlyConfig = {MathJaxConfig: 'local'};</script>\n",
              "        <script src=\"https://cdn.plot.ly/plotly-latest.min.js\"></script>                <div id=\"65014811-bd3d-4c7f-a55d-df2a44979c7e\" class=\"plotly-graph-div\" style=\"height:525px; width:100%;\"></div>            <script type=\"text/javascript\">                                    window.PLOTLYENV=window.PLOTLYENV || {};                                    if (document.getElementById(\"65014811-bd3d-4c7f-a55d-df2a44979c7e\")) {                    Plotly.newPlot(                        \"65014811-bd3d-4c7f-a55d-df2a44979c7e\",                        [{\"alignmentgroup\": \"True\", \"bingroup\": \"x\", \"hovertemplate\": \"Overall Sentiment=Neutral<br>Compound Score=%{x}<br>count=%{y}<extra></extra>\", \"legendgroup\": \"Neutral\", \"marker\": {\"color\": \"#636efa\"}, \"name\": \"Neutral\", \"offsetgroup\": \"Neutral\", \"orientation\": \"v\", \"showlegend\": true, \"type\": \"histogram\", \"x\": [0.0, 0.0, 0.0, 0.0, 0.0, 0.0, 0.0, 0.0, 0.0, 0.0, 0.0, 0.0, 0.0, 0.0, 0.0, 0.0, 0.0, 0.0, 0.0, 0.0, 0.0, 0.0, 0.0, 0.0, 0.0, 0.0, 0.0, 0.0, 0.0, 0.0, 0.0, 0.0, 0.0, 0.0, 0.0, 0.0, 0.0, 0.0, 0.0, 0.0, 0.0, 0.0, 0.0, 0.0, 0.0, 0.0, 0.0, 0.0, 0.0, 0.0, 0.0, 0.0, 0.0, 0.0, 0.0, 0.0, 0.0, 0.0, 0.0, 0.0, 0.0, 0.0, 0.0, 0.0, 0.0, 0.0, 0.0, 0.0, 0.0, 0.0, 0.0, 0.0, 0.0, 0.0, 0.0, 0.0, 0.0, 0.0, 0.0, 0.0, 0.0, 0.0, 0.0, 0.0, 0.0, 0.0, 0.0, 0.0, 0.0, 0.0, 0.0, 0.0, 0.0, 0.0, 0.0, 0.0, 0.0, 0.0, 0.0, 0.0, 0.0, 0.0, 0.0, 0.0, 0.0, 0.0, 0.0, 0.0, 0.0, 0.0, 0.0, 0.0, 0.0, 0.0, 0.0, 0.0, 0.0, 0.0, 0.0, 0.0, 0.0, 0.0, 0.0, 0.0, 0.0, 0.0, 0.0, 0.0, 0.0, 0.0, 0.0, 0.0, 0.0, 0.0, 0.0, 0.0, 0.0, 0.0, 0.0, 0.0, 0.0, 0.0, 0.0, 0.0, 0.0, 0.0, 0.0258, 0.0, 0.0, 0.0, 0.0, 0.0, 0.0, 0.0, 0.0, 0.0, 0.0, 0.0, 0.0, 0.0, 0.0, 0.0, 0.0, 0.0258, 0.0, 0.0, 0.0, 0.0, 0.0, 0.0, 0.0, 0.0, 0.0, 0.0, 0.0, 0.0, 0.0, 0.0, 0.0, 0.0, 0.0, 0.0, 0.0, 0.0, 0.0, 0.0, 0.0, 0.0, 0.0, 0.0, 0.0, 0.0, 0.0, 0.0, 0.0, 0.0, 0.0, 0.0, 0.0, 0.0, 0.0, 0.0, 0.0, 0.0, 0.0, 0.0, 0.0, 0.0, 0.0, 0.0, 0.0, 0.0, 0.0, 0.0, 0.0, 0.0, 0.0, 0.0, 0.0, 0.0, 0.0, 0.0, 0.0, 0.0, 0.0, 0.0, 0.0, 0.0, 0.0, 0.0, 0.0, 0.0, 0.0, 0.0, 0.0, 0.0, 0.0, 0.0, 0.0, 0.0, 0.0, 0.0, 0.0, 0.0, -0.0258, 0.0, 0.0, 0.0, 0.0, 0.0, 0.0, 0.0, 0.0, 0.0, 0.0, 0.0, 0.0, 0.0, 0.0, 0.0, 0.0, 0.0, 0.0, 0.0, 0.0, 0.0, 0.0, 0.0, 0.0, 0.0, 0.0, 0.0, 0.0, 0.0, 0.0, 0.0, 0.0, 0.0, 0.0, 0.0, 0.0, 0.0, 0.0, 0.0, 0.0, 0.0, 0.0, 0.0, 0.0, 0.0, 0.0, 0.0, 0.0, 0.0, 0.0, -0.0258, 0.0, 0.0, 0.0, 0.0, 0.0, 0.0258, 0.0, 0.0, 0.0, 0.0, 0.0, 0.0, -0.0258, 0.0, 0.0, 0.0, 0.0, 0.0, 0.0, 0.0, 0.0, 0.0, 0.0, 0.0, 0.0, 0.0, 0.0, 0.0, 0.0, 0.0, 0.0, 0.0, 0.0, 0.0, 0.0, 0.0, 0.0, 0.0, 0.0, 0.0, 0.0, 0.0, 0.0, 0.0, 0.0, 0.0, 0.0, 0.0, 0.0, 0.0, 0.0, 0.0, 0.0, 0.0, 0.0, 0.0, 0.0, 0.0, 0.0, 0.0, 0.0, 0.0, 0.0, 0.0, 0.0, 0.0, 0.0, 0.0, 0.0, 0.0, 0.0, 0.0, 0.0, 0.0, 0.0, 0.0, 0.0, 0.0, 0.0, 0.0, 0.0, 0.0, 0.0, 0.0, 0.0, 0.0, 0.0, 0.0, 0.0, 0.0, 0.0, 0.0, 0.0, 0.0, 0.0, 0.0, 0.0, 0.0, 0.0, 0.0, 0.0, 0.0, 0.0, 0.0, 0.0, 0.0, 0.0, 0.0, 0.0, 0.0, 0.0, 0.0, 0.0, 0.0, 0.0, 0.0, 0.0, 0.0, 0.0, 0.0, 0.0, 0.0, 0.0258, 0.0, 0.0, 0.0, 0.0, 0.0, 0.0, 0.0, 0.0, 0.0, 0.0, 0.0, 0.0, 0.0, 0.0, 0.0, 0.0, 0.0, 0.0, 0.0, 0.0, 0.0, 0.0, 0.0, 0.0, 0.0, 0.0, 0.0, 0.0, 0.0, 0.0, 0.0, 0.0, 0.0, 0.0, 0.0, 0.0, 0.0, 0.0, 0.0, 0.0, 0.0, 0.0, 0.0, 0.0, 0.0, 0.0, 0.0, 0.0, 0.0, 0.0, 0.0, 0.0, 0.0, 0.0, 0.0, 0.0, 0.0, 0.0, 0.0, 0.0, 0.0, 0.0, 0.0, 0.0, 0.0, 0.0, 0.0, 0.0, 0.0, 0.0, 0.0, 0.0, 0.0, 0.0, 0.0, 0.0, 0.0, 0.0, 0.0, 0.0, 0.0258, 0.0, 0.0, 0.0, 0.0, 0.0, 0.0, 0.0, 0.0, 0.0, 0.0, 0.0, 0.0, 0.0, 0.0, 0.0, 0.0, 0.0, 0.0, 0.0, 0.0, 0.0, 0.0382, 0.0, 0.0, 0.0, 0.0, 0.0, 0.0, 0.0, 0.0, 0.0, 0.0, 0.0, 0.0, 0.0, 0.0, 0.0, 0.0, 0.0, 0.0, 0.0, 0.0, 0.0, 0.0, 0.0, 0.0, 0.0, 0.0, 0.0, 0.0, 0.0, 0.0, 0.0, 0.0, 0.0, 0.0, 0.0, 0.0, 0.0, 0.0, 0.0, 0.0, 0.0, 0.0, 0.0, 0.0, 0.0, 0.0, 0.0, 0.0, 0.0, 0.0, 0.0, 0.0, 0.0, 0.0, 0.0, 0.0, 0.0, 0.0, 0.0, 0.0, 0.0, 0.0, 0.0, 0.0, 0.0, 0.0, 0.0, 0.0, 0.0, 0.0, 0.0, 0.0, 0.0, 0.0, 0.0, 0.0, 0.0, 0.0, 0.0, 0.0, 0.0, 0.0, 0.0, 0.0, 0.0, 0.0, 0.0, 0.0, 0.0, 0.0, 0.0, 0.0, 0.0, 0.0, 0.0, 0.0, 0.0, 0.0, 0.0, 0.0, 0.0, 0.0, 0.0, 0.0, 0.0, 0.0, 0.0, 0.0, 0.0, 0.0, 0.0, 0.0, 0.0, 0.0, 0.0, 0.0, 0.0, 0.0, 0.0, 0.0, 0.0, 0.0, 0.0, 0.0, 0.0, 0.0, 0.0, 0.0, 0.0, 0.0, 0.0, 0.0, 0.0, 0.0, 0.0, 0.0, 0.0, 0.0, 0.0, 0.0, 0.0, 0.0, 0.0, 0.0, 0.0, 0.0, 0.0, 0.0, 0.0, 0.0, 0.0, 0.0, 0.0, 0.0, 0.0, 0.0, 0.0, 0.0, 0.0, 0.0, 0.0, 0.0, 0.0, 0.0, 0.0, 0.0, 0.0, 0.0, 0.0, 0.0, 0.0, 0.0, 0.0, 0.0, 0.0, 0.0, 0.0, 0.0, 0.0, 0.0, 0.0, 0.0, 0.0, 0.0, 0.0, 0.0, 0.0, 0.0, 0.0, 0.0, 0.0, 0.0, 0.0, 0.0, 0.0, 0.0, 0.0, 0.0, -0.0018, 0.0, 0.0, 0.0, 0.0, 0.0, 0.0, 0.0, 0.0, 0.0, 0.0, 0.0, 0.0, 0.0, 0.0, 0.0, 0.0, 0.0, 0.0, 0.0, 0.0, 0.0, 0.0, 0.0, 0.0, 0.0, 0.0, 0.0, 0.0, 0.0, 0.0, 0.0, 0.0, 0.0, 0.0, 0.0, 0.0, 0.0, 0.0, 0.0, 0.0, 0.0, 0.0, 0.0, 0.0, 0.0, 0.0, 0.0, 0.0, 0.0, 0.0, 0.0, 0.0, 0.0, 0.0, 0.0, 0.0, 0.0, 0.0, 0.0, 0.0, 0.0, 0.0, 0.0, 0.0, 0.0, 0.0, 0.0, 0.0, 0.0, 0.0, 0.0, 0.0, 0.0, 0.0, 0.0, 0.0, 0.0, 0.0, 0.0, 0.0, 0.0, 0.0, 0.0, 0.0, 0.0, 0.0, 0.0, 0.0, 0.0, 0.0, 0.0, 0.0, 0.0, 0.0, 0.0, 0.0, 0.0, 0.0, 0.0, 0.0, 0.0, 0.0, 0.0, 0.0, 0.0, 0.0, 0.0, 0.0, 0.0, 0.0, 0.0, 0.0, 0.0, 0.0, 0.0, 0.0, 0.0, 0.0, 0.0, 0.0, 0.0, 0.0, 0.0, 0.0, 0.0, 0.0, 0.0, 0.0, 0.0, 0.0, 0.0, 0.0, 0.0, 0.0, 0.0, 0.0, 0.0258, 0.0, 0.0, 0.0, 0.0, 0.0, 0.0, 0.0, 0.0, 0.0, 0.0, 0.0, 0.0, 0.0, 0.0, 0.0, 0.0, 0.0, 0.0, 0.0, 0.0, 0.0, 0.0, 0.0, 0.0, 0.0, 0.0, 0.0, 0.0, 0.0, 0.0, 0.0, 0.0, 0.0, 0.0, 0.0, 0.0, 0.0, 0.0, 0.0, 0.0, 0.0, 0.0, 0.0, 0.0, 0.0, 0.0, 0.0, 0.0, 0.0, 0.0, 0.0, 0.0, 0.0, 0.0, 0.0, 0.0, 0.0, 0.0, 0.0, 0.0, 0.0, 0.0, 0.0, 0.0, 0.0, 0.0, 0.0, 0.0, 0.0, 0.0, 0.0, 0.0, 0.0, 0.0, 0.0, 0.0, 0.0, 0.0, 0.0, 0.0, 0.0, 0.0, 0.0, 0.0, 0.0, 0.0, 0.0, 0.0, 0.0, 0.0, 0.0, 0.0, -0.0258, 0.0, 0.0, 0.0, 0.0, 0.0, 0.0, 0.0, 0.0, 0.0, 0.0, 0.0, 0.0, 0.0, 0.0, 0.0, 0.0, 0.0, 0.0, 0.0, 0.0, 0.0, 0.0, 0.0, 0.0, 0.0, 0.0, 0.0, 0.0, 0.0, 0.0, 0.0, 0.0258, 0.0, 0.0, 0.0, 0.0, 0.0, 0.0, 0.0, 0.0, 0.0, 0.0, 0.0, 0.0, 0.0, 0.0, 0.0, 0.0, 0.0, 0.0, 0.0, 0.0, 0.0, 0.0, 0.0, 0.0, 0.0, 0.0, 0.0, 0.0, 0.0, 0.0, 0.0, 0.0, 0.0, 0.0, 0.0, 0.0, 0.0, 0.0, 0.0, 0.0, 0.0, 0.0258, 0.0, 0.0, 0.0, 0.0, 0.0, 0.0, 0.0, 0.0, 0.0, 0.0, 0.0, 0.0, 0.0, 0.0, 0.0, 0.0, 0.0, 0.0, 0.0, 0.0, 0.0, 0.0, 0.0, 0.0, 0.0, 0.0, 0.0, 0.0, 0.0, 0.0, 0.0, 0.0, 0.0, 0.0, 0.0, 0.0, 0.0, 0.0, 0.0, 0.0, 0.0, 0.0, 0.0, 0.0, 0.0, 0.0, 0.0, 0.0, 0.0, 0.0, 0.0, 0.0, 0.0, 0.0, 0.0, 0.0, 0.0, 0.0, 0.0, 0.0, 0.0, 0.0, 0.0, 0.0, 0.0, 0.0, 0.0, 0.0, 0.0, 0.0, 0.0, 0.0, 0.0, 0.0, 0.0, 0.0, 0.0, 0.0, 0.0, 0.0, 0.0, 0.0, 0.0, 0.0, 0.0, 0.0, 0.0, 0.0, 0.0, 0.0, 0.0, 0.0, 0.0, 0.0, 0.0, 0.0, 0.0, 0.0, 0.0, 0.0, 0.0, 0.0, 0.0, 0.0, 0.0, 0.0, 0.0, 0.0, 0.0, 0.0, 0.0, 0.0, 0.0, 0.0, 0.0, 0.0, 0.0, 0.0, 0.0, 0.0, 0.0, 0.0, 0.0, 0.0, 0.0, 0.0258, 0.0, 0.0, 0.0, 0.0, 0.0, 0.0, 0.0, 0.0, 0.0, 0.0, 0.0, 0.0, 0.0, 0.0, 0.0, 0.0, 0.0, 0.0, 0.0, 0.0, 0.0, 0.0, 0.0, 0.0, 0.0, 0.0, 0.0, 0.0, 0.0, 0.0, 0.0, 0.0, 0.0, 0.0, 0.0, 0.0, 0.0, 0.0, 0.0, 0.0, 0.0, 0.0, 0.0, 0.0, 0.0, 0.0, 0.0, 0.0, 0.0, 0.0, 0.0, 0.0, 0.0, 0.0, 0.0, 0.0, 0.0, 0.0, 0.0, 0.0, 0.0, 0.0, 0.0, 0.0, 0.0, 0.0, 0.0, 0.0, 0.0, 0.0, 0.0, 0.0, 0.0, 0.0, 0.0, 0.0, 0.0, 0.0, 0.0, 0.0, 0.0, 0.0, 0.0, 0.0, 0.0, 0.0, 0.0, 0.0, 0.0, 0.0, 0.0, 0.0, 0.0, 0.0, 0.0, 0.0, 0.0, 0.0, 0.0, 0.0, 0.0, 0.0, 0.0, 0.0, 0.0, 0.0, 0.0, 0.0, 0.0, 0.0, 0.0, 0.0, 0.0, 0.0, 0.0, 0.0, 0.0, 0.0, 0.0, 0.0, 0.0, 0.0, 0.0, 0.0, 0.0, 0.0, 0.0, 0.0, 0.0, 0.0, 0.0, 0.0, 0.0, 0.0, 0.0, 0.0, 0.0, 0.0, 0.0, 0.0, 0.0, 0.0, 0.0, 0.0, 0.0, 0.0, 0.0, 0.0, 0.0, 0.0, 0.0, 0.0, 0.0, 0.0, 0.0, 0.0, 0.0, 0.0, 0.0, 0.0, 0.0, 0.0, 0.0, 0.0, 0.0, 0.0, 0.0, 0.0, 0.0, 0.0, 0.0, 0.0, 0.0, 0.0, 0.0, 0.0, 0.0, 0.0, 0.0, 0.0, 0.0, 0.0, 0.0, 0.0, 0.0, 0.0, 0.0, 0.0, 0.0, 0.0, 0.0, 0.0, -0.0191, 0.0, 0.0, 0.0, 0.0, 0.0, 0.0, 0.0, 0.0, 0.0, 0.0, 0.0, 0.0, 0.0, 0.0, 0.0, 0.0, 0.0, 0.0, 0.0, 0.0, 0.0, 0.0, 0.0, 0.0, 0.0, 0.0, 0.0, 0.0, 0.0, 0.0, 0.0, 0.0, 0.0, 0.0, 0.0, 0.0, 0.0, 0.0, 0.0, 0.0, 0.0, 0.0, 0.0, 0.0, 0.0, 0.0, 0.0, 0.0258, 0.0, 0.0, 0.0, 0.0, 0.0, 0.0, 0.0, 0.0, 0.0, 0.0, 0.0, 0.0, 0.0, 0.0, 0.0, 0.0, 0.0, 0.0, 0.0, 0.0, 0.0, 0.0, 0.0, 0.0, 0.0, 0.0, 0.0, 0.0, 0.0, 0.0, 0.0, 0.0, 0.0, 0.0, 0.0, 0.0, 0.0, 0.0, 0.0, 0.0, 0.0, 0.0, 0.0, 0.0, 0.0, 0.0, 0.0, 0.0, 0.0, 0.0, 0.0, 0.0, 0.0, 0.0, 0.0, 0.0, 0.0, 0.0, 0.0, 0.0, 0.0, 0.0, 0.0, 0.0, 0.0, 0.0, 0.0, 0.0, 0.0, 0.0, 0.0, 0.0, 0.0, 0.0, 0.0, 0.0, 0.0, 0.0, 0.0, 0.0, 0.0, 0.0, 0.0, 0.0, 0.0, 0.0, 0.0, 0.0, 0.0, 0.0, 0.0, 0.0, 0.0, 0.0, 0.0, 0.0, 0.0, 0.0, 0.0, 0.0, 0.0, 0.0, 0.0, 0.0, 0.0, 0.0, 0.0, 0.0, 0.0, 0.0, 0.0, 0.0, 0.0, 0.0, 0.0, 0.0, 0.0, 0.0, 0.0, 0.0, 0.0, 0.0, 0.0, 0.0, 0.0, 0.0, 0.0, 0.0, 0.0, 0.0, 0.0, 0.0, 0.0, 0.0, 0.0, 0.0, 0.0, 0.0, 0.0, 0.0, 0.0, 0.0, 0.0, 0.0, 0.0, 0.0, 0.0, 0.0, 0.0, 0.0, 0.0, 0.0, 0.0, 0.0, 0.0, 0.0, 0.0, 0.0, 0.0, 0.0, 0.0, 0.0, 0.0, 0.0, 0.0, 0.0, 0.0, 0.0, 0.0, 0.0, 0.0, 0.0, 0.0, 0.0, 0.0, 0.0, 0.0, 0.0, 0.0, 0.0, 0.0, 0.0, 0.0, 0.0, 0.0, 0.0, 0.0, 0.0, 0.0, 0.0, 0.0, 0.0, 0.0, 0.0, 0.0, 0.0, 0.0, 0.0, 0.0, 0.0, 0.0, 0.0, 0.0, 0.0, 0.0, 0.0, 0.0, 0.0, 0.0, 0.0, 0.0, 0.0, 0.0, 0.0, 0.0, 0.0, 0.0, 0.0, 0.0, 0.0, 0.0, 0.0, 0.0, 0.0, 0.0, 0.0, 0.0, 0.0, 0.0, 0.0, 0.0, 0.0, 0.0, 0.0, 0.0, 0.0, 0.0, 0.0, 0.0, 0.0, 0.0, 0.0, 0.0, 0.0, 0.0, 0.0, 0.0, 0.0, 0.0, 0.0, 0.0, 0.0, 0.0, 0.0, 0.0, 0.0, 0.0, 0.0, 0.0, 0.0, 0.0, 0.0, 0.0, 0.0, 0.0, 0.0, 0.0, 0.0, 0.0, 0.0, 0.0, 0.0, 0.0, 0.0, 0.0, 0.0, 0.0, 0.0, 0.0, 0.0, 0.0, 0.0, 0.0, 0.0, 0.0, 0.0, 0.0, 0.0, 0.0, 0.0, 0.0, 0.0, 0.0, 0.0, 0.0, 0.0, 0.0, 0.0, 0.0, 0.0, 0.0, 0.0, 0.0, 0.0, 0.0, 0.0, 0.0, 0.0, 0.0, 0.0, 0.0, 0.0, 0.0, 0.0, 0.0, 0.0, 0.0, 0.0, 0.0, 0.0, 0.0, 0.0, 0.0, 0.0, 0.0, 0.0, 0.0, 0.0, 0.0, 0.0, 0.0, 0.0, 0.0, 0.0, 0.0, 0.0, 0.0, 0.0, 0.0, 0.0, 0.0, 0.0, 0.0, 0.0, 0.0, 0.0, 0.0, 0.0, 0.0, 0.0, 0.0, 0.0, 0.0, 0.0, 0.0, 0.0, 0.0, 0.0, 0.0, 0.0, 0.0, 0.0, 0.0, 0.0, 0.0, 0.0, 0.0, 0.0, 0.0, 0.0, 0.0, 0.0, 0.0, 0.0, 0.0, 0.0, 0.0, 0.0, 0.0, 0.0, 0.0, 0.0, 0.0, 0.0, 0.0, 0.0, 0.0, 0.0, 0.0, 0.0, 0.0, 0.0, 0.0, 0.0, 0.0, 0.0, 0.0, 0.0, 0.0, 0.0, 0.0, 0.0, 0.0, 0.0, 0.0, 0.0, 0.0, 0.0, 0.0, 0.0, 0.0, 0.0, 0.0, -0.0258, 0.0, 0.0, 0.0, 0.0, 0.0, 0.0, 0.0, 0.0, 0.0, 0.0, 0.0, 0.0, 0.0, 0.0, 0.0, 0.0, 0.0, 0.0, 0.0, 0.0, 0.0, 0.0, 0.0, 0.0, 0.0, 0.0, 0.0, 0.0, 0.0, 0.0, 0.0, 0.0, 0.0, 0.0258, 0.0, 0.0, 0.0, 0.0, 0.0, 0.0, 0.0, 0.0, 0.0, 0.0, 0.0, 0.0, 0.0, 0.0, 0.0, 0.0, 0.0, 0.0, 0.0, 0.0, 0.0, 0.0, 0.0, 0.0, 0.0, 0.0, 0.0, 0.0, 0.0, 0.0, 0.0, 0.0, 0.0, 0.0, 0.0, 0.0, 0.0, 0.0, 0.0, 0.0, 0.0, 0.0, 0.0, 0.0, 0.0, 0.0, 0.0, 0.0, 0.0, 0.0, 0.0, 0.0, 0.0, 0.0, 0.0, 0.0, 0.0, 0.0, 0.0, 0.0, 0.0, 0.0, 0.0, 0.0, 0.0, 0.0, 0.0, 0.0, 0.0, 0.0, 0.0, 0.0, 0.0, 0.0, 0.0, 0.0, 0.0, 0.0, 0.0, 0.0, 0.0, 0.0, 0.0, 0.0, 0.0, 0.0, 0.0, 0.0, 0.0, 0.0, 0.0, 0.0, 0.0, 0.0, 0.0, 0.0, 0.0, 0.0, 0.0, 0.0, 0.0, 0.0, 0.0, 0.0, 0.0, 0.0, 0.0, 0.0, 0.0, 0.0, 0.0, 0.0, 0.0, 0.0, 0.0, 0.0, 0.0, 0.0, 0.0, 0.0, 0.0, 0.0, 0.0, 0.0, 0.0, 0.0, 0.0, 0.0, 0.0, 0.0, 0.0, 0.0258, 0.0, 0.0, 0.0, 0.0, 0.0, 0.0, 0.0, 0.0, 0.0, 0.0, 0.0, 0.0, 0.0, 0.0, 0.0, 0.0, 0.0, 0.0, 0.0, 0.0, 0.0, 0.0, 0.0, 0.0, 0.0, 0.0, 0.0, 0.0, 0.0, 0.0, 0.0, 0.0, 0.0, 0.0, 0.0, 0.0, 0.0, 0.0, 0.0, 0.0, 0.0, 0.0, 0.0, 0.0, 0.0, 0.0, 0.0, 0.0, 0.0, 0.0, 0.0, 0.0, 0.0, 0.0, 0.0, 0.0, 0.0, 0.0, 0.0, 0.0, 0.0, 0.0, 0.0, 0.0, 0.0, 0.0, 0.0, 0.0, 0.0, 0.0, 0.0, 0.0, 0.0, 0.0, 0.0, 0.0, 0.0, 0.0, 0.0, 0.0, 0.0, 0.0, 0.0, 0.0, 0.0, 0.0, 0.0, 0.0, 0.0, 0.0, 0.0, 0.0, 0.0, 0.0, 0.0, 0.0, 0.0, 0.0, 0.0, 0.0, 0.0, 0.0, 0.0, 0.0, 0.0, 0.0, 0.0, 0.0, 0.0, 0.0, 0.0, 0.0, 0.0, 0.0, 0.0, 0.0, 0.0, 0.0, 0.0, 0.0, 0.0, 0.0, 0.0, 0.0, 0.0, 0.0, 0.0, 0.0, 0.0, 0.0, 0.0, 0.0, 0.0, 0.0, 0.0, 0.0, 0.0, 0.0, 0.0, 0.0, 0.0, 0.0, 0.0, 0.0, 0.0, 0.0, 0.0, 0.0, 0.0, 0.0, 0.0, 0.0, 0.0, 0.0, 0.0, 0.0, 0.0, 0.0, 0.0, 0.0, 0.0, 0.0, 0.0, 0.0, 0.0, 0.0, 0.0, 0.0, 0.0, 0.0, 0.0, 0.0, 0.0, 0.0, 0.0, 0.0, 0.0, 0.0, 0.0, 0.0, 0.0, 0.0, 0.0, 0.0, 0.0, 0.0, 0.0, 0.0, 0.0, 0.0, 0.0, 0.0, 0.0, 0.0, 0.0, 0.0, 0.0, 0.0, 0.0, 0.0, 0.0, 0.0, 0.0, 0.0, 0.0, 0.0258, 0.0, 0.0, 0.0, 0.0, 0.0, 0.0258, 0.0, 0.0, 0.0, 0.0, 0.0, 0.0, 0.0, 0.0, 0.0, 0.0, 0.0, 0.0, 0.0, 0.0, 0.0, 0.0, 0.0, 0.0, 0.0, 0.0, 0.0, 0.0, 0.0, 0.0, 0.0, 0.0, 0.0, 0.0, 0.0, 0.0, 0.0, 0.0, 0.0, 0.0, 0.0, 0.0, 0.0, 0.0, 0.0, 0.0, 0.0, 0.0, 0.0, 0.0, 0.0, 0.0, 0.0, 0.0, 0.0, 0.0, 0.0, 0.0, 0.0, 0.0, 0.0, 0.0, 0.0, 0.0, 0.0, 0.0, 0.0, 0.0, 0.0, 0.0, 0.0, 0.0, 0.0, 0.0, 0.0, 0.0, 0.0, 0.0, 0.0, 0.0, 0.0, 0.0, 0.0, 0.0, 0.0, 0.0, 0.0, 0.0, 0.0, 0.0, 0.0, 0.0, 0.0, 0.0, 0.0, 0.0, 0.0, 0.0, 0.0, 0.0, 0.0, 0.0, 0.0, 0.0, 0.0, 0.0, 0.0, 0.0, 0.0, 0.0, 0.0, 0.0, 0.0, 0.0, 0.0, 0.0, 0.0, 0.0, 0.0, 0.0, 0.0, 0.0, 0.0, 0.0, 0.0, 0.0, 0.0, 0.0, 0.0, 0.0, 0.0, 0.0, 0.0, 0.0, 0.0, 0.0, 0.0, 0.0, 0.0, 0.0, 0.0, 0.0, 0.0, 0.0258, 0.0, 0.0, 0.0, 0.0, 0.0258, 0.0, 0.0, 0.0, 0.0, 0.0, 0.0, 0.0, 0.0, 0.0, 0.0, 0.0, 0.0, 0.0, 0.0, 0.0, 0.0, 0.0, 0.0, 0.0, 0.0, 0.0, 0.0, 0.0, 0.0, 0.0, 0.0, 0.0, 0.0, 0.0, 0.0, 0.0, 0.0, 0.0, 0.0, 0.0, 0.0, 0.0, 0.0, 0.0, 0.0, 0.0, 0.0, 0.0, 0.0, 0.0, 0.0, 0.0, 0.0, 0.0, 0.0, 0.0, 0.0, 0.0, 0.0, 0.0, 0.0, 0.0, 0.0, 0.0, 0.0, 0.0, 0.0, 0.0, 0.0387, 0.0, 0.0, 0.0, 0.0, 0.0, 0.0, 0.0, 0.0, 0.0, 0.0, 0.0, -0.0258, 0.0, 0.0, 0.0, 0.0, 0.0, 0.0, 0.0, 0.0, 0.0, 0.0, 0.0, 0.0, 0.0, 0.0, 0.0, 0.0, 0.0, 0.0, 0.0, 0.0, 0.0, 0.0, 0.0, 0.0, 0.0, 0.0, 0.0, 0.0, 0.0, 0.0, 0.0, 0.0, 0.0, 0.0, 0.0, 0.0, 0.0, 0.0, 0.0, 0.0, 0.0, 0.0, 0.0, 0.0, 0.0, 0.0, 0.0, 0.0, 0.0, 0.0, 0.0, 0.0, 0.0, 0.0, 0.0, 0.0, 0.0, 0.0, 0.0, 0.0, 0.0, 0.0, 0.0, 0.0, 0.0, 0.0, 0.0, 0.0, 0.0, 0.0, 0.0, 0.0, 0.0, 0.0, 0.0, 0.0, 0.0, 0.0, 0.0, 0.0, 0.0, 0.0, 0.0, 0.0, 0.0, 0.0, 0.0, 0.0, 0.0, 0.0, 0.0, 0.0, 0.0, 0.0, 0.0, 0.0, 0.0, 0.0, 0.0, 0.0, 0.0, 0.0, 0.0, 0.0, 0.0, 0.0, 0.0, 0.0, 0.0, 0.0387, 0.0, 0.0, 0.0, 0.0, 0.0, 0.0, 0.0, 0.0, 0.0, -0.0191, 0.0, 0.0, 0.0, 0.0, 0.0, 0.0, 0.0, 0.0, 0.0, 0.0, 0.0, 0.0, 0.0, 0.0, 0.0, 0.0, 0.0, 0.0, 0.0, 0.0, 0.0, 0.0, 0.0, 0.0, 0.0, 0.0, 0.0, 0.0, -0.0258, 0.0, 0.0, 0.0, 0.0, 0.0, 0.0, 0.0, 0.0, 0.0, 0.0, 0.0, 0.0, 0.0, 0.0, 0.0, 0.0, 0.0, 0.0, 0.0, 0.0, 0.0, 0.0, 0.0, 0.0, 0.0, 0.0, 0.0, 0.0, 0.0, 0.0, 0.0, 0.0, 0.0, 0.0, 0.0, 0.0, 0.0, 0.0, 0.0, 0.0, 0.0, 0.0, 0.0, 0.0, 0.0, 0.0, 0.0, 0.0, 0.0, 0.0, 0.0, 0.0, 0.0, 0.0, 0.0, 0.0, 0.0, 0.0, 0.0, 0.0, 0.0, 0.0, 0.0, 0.0, 0.0, 0.0, 0.0, 0.0, 0.0, 0.0, 0.0, 0.0, 0.0, 0.0, 0.0, 0.0, 0.0, 0.0, 0.0, 0.0, 0.0, 0.0, 0.0, 0.0, 0.0, 0.0, 0.0, 0.0, 0.0, 0.0, 0.0, 0.0, 0.0, 0.0, 0.0, 0.0, 0.0, 0.0, 0.0, 0.0, 0.0, 0.0, 0.0, 0.0, 0.0, 0.0, 0.0, 0.0, 0.0, 0.0, 0.0, 0.0, 0.0, 0.0, 0.0, 0.0, 0.0, 0.0, 0.0, 0.0, 0.0, 0.0, 0.0, 0.0, 0.0, 0.0, 0.0, 0.0, 0.0, 0.0, 0.0, 0.0, 0.0, 0.0, 0.0, 0.0, 0.0, 0.0, 0.0, 0.0, 0.0, 0.0, 0.0, 0.0, 0.0, 0.0, 0.0, 0.0, 0.0, 0.0, 0.0, 0.0, 0.0, 0.0, 0.0, 0.0, 0.0, 0.0, 0.0, 0.0, 0.0, 0.0, 0.0, 0.0, 0.0, 0.0, 0.0, 0.0, 0.0, 0.0, 0.0, 0.0, 0.0, 0.0, 0.0, 0.0, 0.0, 0.0, 0.0, 0.0, 0.0, 0.0, 0.0, 0.0, 0.0, 0.0, 0.0, 0.0, 0.0, 0.0, 0.0, 0.0, 0.0, 0.0, 0.0, 0.0, 0.0, 0.0, 0.0, 0.0, 0.0, 0.0, 0.0, 0.0, 0.0, 0.0, 0.0, 0.0, 0.0, 0.0, 0.0, 0.0, 0.0, 0.0, 0.0, 0.0, 0.0, 0.0, 0.0, 0.0, 0.0, 0.0, 0.0, 0.0, 0.0, 0.0, 0.0, 0.0, 0.0, 0.0, 0.0, 0.0, 0.0, 0.0, 0.0, 0.0, 0.0, 0.0, 0.0, 0.0, 0.0, 0.0, 0.0, 0.0, 0.0, 0.0, 0.0, 0.0, 0.0, 0.0, 0.0, 0.0, 0.0, 0.0366, 0.0, 0.0, 0.0, 0.0, 0.0, 0.0, 0.0, 0.0, 0.0, 0.0, 0.0, 0.0, 0.0, 0.0, 0.0, 0.0, 0.0, 0.0, 0.0, 0.0, 0.0, 0.0, 0.0, 0.0, 0.0, 0.0, 0.0, 0.0, 0.0, 0.0, 0.0, 0.0, 0.0, 0.0, 0.0, 0.0, 0.0, 0.0, 0.0, 0.0, 0.0, 0.0, 0.0, 0.0, 0.0, 0.0, 0.0258, 0.0, 0.0, 0.0, 0.0, 0.0, 0.0, 0.0, 0.0, 0.0, 0.0, 0.0, 0.0, 0.0, 0.0, 0.0, 0.0, 0.0, 0.0, 0.0, 0.0, 0.0, 0.0, 0.0, 0.0, 0.0, 0.0, 0.0, 0.0, 0.0, 0.0, 0.0, 0.0, 0.0, 0.0, 0.0, 0.0, 0.0, 0.0, 0.0, 0.0, 0.0, 0.0, 0.0, 0.0, 0.0, 0.0, 0.0, 0.0, 0.0, 0.0, 0.0, 0.0, 0.0, 0.0, 0.0, 0.0, 0.0, 0.0, 0.0, 0.0, 0.0, 0.0, 0.0, 0.0, 0.0, 0.0, 0.0, 0.0, 0.0, 0.0, 0.0, 0.0, 0.0, 0.0, 0.0, 0.0, 0.0, 0.0, 0.0, 0.0, 0.0, 0.0, 0.0, 0.0, 0.0, 0.0, 0.0, 0.0, 0.0, 0.0, 0.0, 0.0, 0.0, 0.0, 0.0, 0.0, 0.0, 0.0, 0.0, 0.0, 0.0, 0.0, 0.0, 0.0, 0.0, 0.0, 0.0, 0.0, 0.0, 0.0, 0.0, 0.0, 0.0, 0.0, 0.0, 0.0, 0.0, 0.0, 0.0, 0.0, 0.0, 0.0, 0.0, 0.0, 0.0, 0.0, 0.0, 0.0, 0.0, 0.0, 0.0, 0.0, 0.0, 0.0, 0.0, 0.0, 0.0, 0.0, 0.0, 0.0, 0.0, 0.0, 0.0, 0.0, 0.0, 0.0, 0.0, 0.0, 0.0, 0.0, 0.0, 0.0, 0.0, 0.0, 0.0, 0.0, 0.0, 0.0, 0.0, 0.0, 0.0, 0.0, 0.0, 0.0, 0.0, 0.0, 0.0, 0.0, 0.0, 0.0, 0.0, 0.0, 0.0, 0.0, 0.0, 0.0, 0.0, 0.0, 0.0, 0.0, 0.0, 0.0, 0.0, -0.0129, 0.0, 0.0, 0.0, 0.0, 0.0, 0.0, 0.0, 0.0, 0.0, 0.0, 0.0, 0.0, 0.0, 0.0, 0.0, 0.0, 0.0, 0.0, 0.0, 0.0, 0.0, 0.0, 0.0, 0.0, 0.0, 0.0, 0.0, 0.0, 0.0, 0.0, 0.0, 0.0, 0.0, 0.0, 0.0258, 0.0258, 0.0, 0.0, 0.0, 0.0, 0.0, 0.0, 0.0236, 0.0, 0.0, 0.0, 0.0, 0.0, 0.0, 0.0, 0.0, 0.0, 0.0, 0.0, 0.0, 0.0, 0.0, 0.0, 0.0, 0.0, 0.0, 0.0, 0.0, 0.0, 0.0, 0.0005, 0.0, 0.0, 0.0, 0.0, 0.0, 0.0, 0.0, 0.0, 0.0, 0.0, 0.0, 0.0, 0.0, 0.0, 0.0, 0.0, 0.0, 0.0, 0.0, 0.0, 0.0, 0.0, 0.0, 0.0, 0.0, 0.0, 0.0, 0.0, 0.0, 0.0, 0.0, 0.0, 0.0, 0.0, 0.0, 0.0, 0.0, 0.0, 0.0, 0.0, 0.0, 0.0, 0.0, 0.0, 0.0, 0.0, 0.0, 0.0, 0.0, 0.0, 0.0, 0.0, 0.0, 0.0, 0.0, 0.0, 0.0, 0.0, 0.0, 0.0, 0.0, 0.0, 0.0, 0.0, 0.0, 0.0, 0.0, 0.0, 0.0, 0.0, 0.0, 0.0, 0.0, 0.0, 0.0, 0.0, 0.0, 0.0, 0.0, 0.0, 0.0, 0.0, 0.0, 0.0, 0.0, 0.0, 0.0, 0.0, 0.0, 0.0258, 0.0, 0.0, 0.0, 0.0, 0.0, 0.0, 0.0, 0.0, 0.0, 0.0, 0.0, 0.0, 0.0, 0.0, 0.0, 0.0, 0.0, 0.0, 0.0, 0.0, 0.0, 0.0, 0.0, 0.0, 0.0, 0.0, 0.0, 0.0, 0.0, 0.0, 0.0, 0.0, 0.0, 0.0, 0.0, 0.0, 0.0, 0.0, 0.0, 0.0, 0.0, 0.0, 0.0, 0.0, 0.0, 0.0, 0.0, 0.0, 0.0, 0.0, 0.0, 0.0, 0.0, 0.0, 0.0, 0.0, 0.0, 0.0, 0.0, 0.0, 0.0, 0.0, 0.0, 0.0, 0.0, 0.0, 0.0, 0.0, 0.0, -0.0387, 0.0, 0.0, 0.0, 0.0, 0.0, 0.0, 0.0, 0.0, 0.0, 0.0, -0.0258, 0.0, 0.0, 0.0, 0.0, 0.0, 0.0, 0.0, 0.0, 0.0, 0.0, 0.0, 0.0, -0.0387, 0.0, 0.0, 0.0, 0.0, 0.0, 0.0, 0.0, 0.0, 0.0, 0.0, 0.0, 0.0, 0.0, 0.0, 0.0, 0.0, 0.0, 0.0, 0.0, 0.0, 0.0, 0.0, 0.0, 0.0, 0.0, 0.0, 0.0, 0.0, 0.0, 0.0, 0.0191, 0.0, 0.0, 0.0, 0.0, -0.0258, 0.0, 0.0258, 0.0, 0.0, 0.0, 0.0, 0.0, 0.0, 0.0, 0.0, 0.0, 0.0, 0.0, 0.0, 0.0, 0.0, -0.0258, 0.0, 0.0, 0.0, 0.0, 0.0, 0.0, 0.0, 0.0, 0.0, 0.0, 0.0, -0.0258, 0.0258, 0.0, 0.0, 0.0, 0.0, 0.0, 0.0, 0.0, 0.0, 0.0, 0.0, 0.0, 0.0, 0.0, 0.0, 0.0, 0.0, 0.0, 0.0, 0.0, 0.0, -0.0072, 0.0, 0.0, 0.0, 0.0, 0.0, 0.0, 0.0, 0.0, 0.0, 0.0, 0.0, 0.0, 0.0, 0.0, 0.0, 0.0, 0.0, 0.0, 0.0, 0.0, 0.0, 0.0, 0.0, 0.0, 0.0, 0.0, 0.0, 0.0, 0.0, 0.0, 0.0, 0.0, 0.0, 0.0, 0.0, 0.0, 0.0, 0.0, 0.0, 0.0, 0.0, 0.0, 0.0, 0.0, 0.0, 0.0, 0.0, 0.0, 0.0, 0.0, 0.0, 0.0, 0.0, 0.0, 0.0094, 0.0, 0.0, 0.0, 0.0, 0.0, 0.0, 0.0, 0.0, 0.0, 0.0, 0.0, 0.0, 0.0, 0.0, 0.0, 0.0, 0.0, 0.0, 0.0, 0.0, 0.0, 0.0, 0.0, 0.0, 0.0, 0.0, 0.0, 0.0, 0.0, 0.0, 0.0, 0.0, 0.0, 0.0, 0.0, 0.0, 0.0, 0.0, 0.0, 0.0, 0.0, 0.0, 0.0, 0.0, 0.0, 0.0, 0.0, 0.0, 0.0, 0.0, 0.0, 0.0, 0.0, 0.0, 0.0, 0.0, 0.0, 0.0, 0.0, 0.0, 0.0, 0.0, 0.0, 0.0, 0.0, 0.0, 0.0, 0.0, 0.0, 0.0, 0.0, 0.0, 0.0, 0.0, 0.0, 0.0, 0.0, 0.0, 0.0, 0.0, 0.0, 0.0, 0.0, 0.0, 0.0, 0.0, 0.0, 0.0, 0.0, 0.0, 0.0, 0.0, 0.0, 0.0, -0.0258, 0.0, 0.0, 0.0, -0.0164, 0.0, 0.0, 0.0, 0.0, 0.0, 0.0, 0.0, 0.0, 0.0, 0.0, 0.0, 0.0, 0.0, 0.0, 0.0, 0.0, 0.0, 0.0, 0.0, 0.0, 0.0, 0.0, 0.0, 0.0, 0.0, 0.0, 0.0, 0.0, 0.0, 0.0, 0.0, 0.0, 0.0, 0.0, 0.0, 0.0, 0.0, 0.0, 0.0, 0.0, 0.0, 0.0, 0.0, 0.0, 0.0, 0.0, 0.0, 0.0, 0.0, 0.0, 0.0, 0.0, 0.0, 0.0, 0.0, 0.0, 0.0, 0.0, 0.0, 0.0, 0.0, 0.0, 0.0, 0.0, 0.0, 0.0, 0.0, 0.0, 0.0, 0.0, 0.0, 0.0, 0.0, 0.0, 0.0, 0.0, 0.0, 0.0, 0.0, 0.0, 0.0, 0.0305, 0.0, 0.0, 0.0, 0.0, 0.0, 0.0, 0.0, 0.0, 0.0, 0.0, 0.0, 0.0, 0.0, 0.0, 0.0, 0.0, 0.0, 0.0, 0.0, 0.0, 0.0, 0.0, 0.0, 0.0, 0.0, 0.0, 0.0, 0.0, 0.0, 0.0, 0.0, 0.0, 0.0, 0.0, 0.0, 0.0, 0.0, 0.0, 0.0, 0.0, 0.0, 0.0, 0.0, 0.0, 0.0, 0.0, 0.0, 0.0, 0.0, 0.0, 0.0, 0.0, 0.0, 0.0, 0.0, 0.0, 0.0, 0.0, 0.0, 0.0, 0.0, 0.0, 0.0, 0.0, 0.0, 0.0, 0.0, 0.0, 0.0, 0.0, 0.0, 0.0, 0.0, 0.0, 0.0, 0.0, 0.0, 0.0, 0.0, 0.0, 0.0, 0.0, 0.0, 0.0, 0.0, 0.0, 0.0, 0.0, 0.0, 0.0, 0.0, 0.0, 0.0, 0.0, 0.0, 0.0, 0.0, 0.0, 0.0, 0.0, 0.0, 0.0, 0.0, 0.0, 0.0, 0.0, 0.0, 0.0, 0.0, 0.0, 0.0, 0.0, 0.0, 0.0, 0.0, 0.0, 0.0, 0.0, 0.0, 0.0, 0.0, 0.0, 0.0, 0.0, 0.0, 0.0, 0.0, 0.0, 0.0, 0.0, 0.0, 0.0, 0.0, 0.0, 0.0, 0.0, 0.0, 0.0, 0.0, 0.0, 0.0, 0.0, 0.0, 0.0, 0.0258, 0.0, 0.0, 0.0, 0.0, 0.0, 0.0, 0.0, 0.0, 0.0, 0.0, 0.0, 0.0, 0.0, 0.0, 0.0, 0.0, 0.0, 0.0, 0.0, 0.0, 0.0, 0.0, 0.0, 0.0, 0.0, 0.0, 0.0, 0.0, 0.0, 0.0, 0.0, 0.0, 0.0, 0.0, 0.0, 0.0, 0.0, 0.0, 0.0, 0.0, 0.0, 0.0, 0.0, 0.0, 0.0, 0.0, 0.0, 0.0, 0.0, 0.0, 0.0, 0.0, 0.0, 0.0, 0.0, 0.0, 0.0, 0.0, 0.0, 0.0, 0.0, 0.0, 0.0, 0.0, 0.0, 0.0, 0.0, 0.0, 0.0, 0.0, 0.0, 0.0, 0.0, 0.0, 0.0, 0.0, 0.0, 0.0, 0.0, 0.0, 0.0, 0.0, 0.0, 0.0, 0.0, 0.0, 0.0, 0.0, 0.0, 0.0, 0.0, 0.0, 0.0, 0.0, 0.0, 0.0, 0.0, 0.0, 0.0, 0.0, 0.0, 0.0, 0.0, 0.0, 0.0, 0.0, 0.0, 0.0, 0.0, 0.0, 0.0, 0.0, 0.0, 0.0, 0.0, 0.0, 0.0, 0.0, 0.0, 0.0, 0.0, 0.0, 0.0, 0.0, 0.0, 0.0, 0.0, 0.0, 0.0, 0.0, 0.0, 0.0, 0.0, 0.0, 0.0, 0.0, 0.0, 0.0, 0.0, 0.0, 0.0, 0.0, 0.0, 0.0, 0.0, 0.0, 0.0, 0.0, 0.0, 0.0, 0.0, 0.0, 0.0, 0.0, 0.0, 0.0, 0.0, 0.0, 0.0, 0.0, 0.0, 0.0, 0.0, 0.0, 0.0, 0.0, 0.0, 0.0, 0.0, 0.0, 0.0, 0.0, 0.0, 0.0, 0.0, 0.0258, 0.0, 0.0, 0.0, 0.0, 0.0, 0.0, 0.0, 0.0, 0.0, 0.0, 0.0, 0.0, 0.0, 0.0, 0.0, 0.0, 0.0, 0.0, 0.0, 0.0, 0.0, 0.0, 0.0, 0.0, 0.0, 0.0, 0.0, 0.0, 0.0, 0.0, 0.0, 0.0, 0.0, 0.0, 0.0, 0.0, 0.0, 0.0, 0.0, 0.0, 0.0, 0.0, 0.0, 0.0, 0.0, 0.0, 0.0, 0.0, 0.0, 0.0, 0.0, 0.0, 0.0, 0.0, 0.0, 0.0, 0.0, 0.0, 0.0, 0.0, 0.0, 0.0, 0.0, 0.0, 0.0, 0.0, 0.0, 0.0, 0.0, 0.0, 0.0, 0.0, 0.0, 0.0, 0.0, 0.0, 0.0, 0.0, 0.0, 0.0, 0.0, 0.0, 0.0, 0.0, 0.0, 0.0, 0.0, 0.0, 0.0, 0.0, 0.0, 0.0, 0.0323, 0.0, 0.0, 0.0, 0.0, 0.0, 0.0, 0.0, 0.0, 0.0, 0.0, 0.0, 0.0, 0.0, 0.0, 0.0, 0.0, 0.0, 0.0, 0.0, 0.0, 0.0, 0.0, 0.0, 0.0, 0.0, 0.0, 0.0, 0.0, 0.0, 0.0, 0.0, 0.0, 0.0, 0.0, 0.0, 0.0, 0.0, 0.0, 0.0, 0.0, 0.0, 0.0, 0.0, 0.0, 0.0, 0.0, 0.0, 0.0, 0.0, 0.0, 0.0, 0.0, 0.0, 0.0, 0.0, 0.0, 0.0, 0.0, 0.0, 0.0, 0.0, 0.0, 0.0, 0.0, 0.0, 0.0, 0.0, 0.0, 0.0, 0.0, 0.0, 0.0, 0.0, 0.0, 0.0, 0.0, 0.0, 0.0, 0.0, 0.0, 0.0, 0.0, 0.0, 0.0, 0.0, 0.0, 0.0, 0.0, 0.0, 0.0, 0.0, 0.0, 0.0, 0.0, 0.0, 0.0, 0.0, 0.0, 0.0, 0.0, 0.0, 0.0, 0.0, 0.0, 0.0, 0.0, 0.0, 0.0, 0.0, 0.0, 0.0, 0.0, 0.0, 0.0, 0.0, 0.0, 0.0, 0.0, 0.0, 0.0, 0.0, 0.0, 0.0, 0.0, 0.0, 0.0, 0.0, 0.0, 0.0, 0.0, 0.0, 0.0, 0.0, 0.0, 0.0, 0.0, 0.0, 0.0, 0.0, 0.0, 0.0, 0.0, 0.0, 0.0, 0.0, 0.0, 0.0, 0.0, 0.0, 0.0, 0.0, 0.0, 0.0, 0.0, 0.0, 0.0, 0.0, 0.0, 0.0, 0.0, 0.0, 0.0, 0.0, 0.0, 0.0, 0.0, 0.0, 0.0, 0.0, 0.0, 0.0, 0.0, 0.0, 0.0, 0.0, 0.0, 0.0, 0.0, 0.0, 0.0, 0.0, 0.0, 0.0, 0.0258, 0.0, 0.0, 0.0, 0.0, 0.0, 0.0, 0.0, 0.0, 0.0, 0.0, 0.0, 0.0, 0.0, 0.0, 0.0, 0.0, 0.0, 0.0, 0.0, 0.0, 0.0, 0.0, 0.0, 0.0, 0.0, 0.0, 0.0, -0.0258, 0.0, 0.0, 0.0, 0.0, 0.0, 0.0, 0.0, 0.0, 0.0, 0.0387, 0.0, 0.0, 0.0, 0.0, 0.0, 0.0, 0.0, 0.0, 0.0, 0.0, 0.0, 0.0, 0.0, 0.0, 0.0, 0.0, 0.0, 0.0, 0.0, 0.0, 0.0, 0.0, 0.0, 0.0, 0.0, 0.0, 0.0, 0.0, 0.0, 0.0, 0.0, 0.0, 0.0, 0.0, 0.0, 0.0, 0.0, 0.0, 0.0, 0.0, 0.0, 0.0, 0.0, 0.0, 0.0, 0.0, 0.0, 0.0, 0.0, 0.0, 0.0, 0.0258, 0.0, 0.0, 0.0, 0.0, 0.0, 0.0, 0.0, 0.0, 0.0, 0.0, 0.0, 0.0, 0.0, 0.0, 0.0, 0.0, 0.0, 0.0, 0.0, 0.0, 0.0, 0.0, 0.0, 0.0, 0.0, 0.0, 0.0, 0.0258, 0.0, 0.0, 0.0, 0.0, 0.0, 0.0, 0.0, 0.0, 0.0, 0.0, 0.0, 0.0, 0.0, 0.0, 0.0, 0.0, 0.0, 0.0, 0.0, 0.0, 0.0, 0.0, 0.0, 0.0, 0.0, 0.0, 0.0, 0.0, 0.0, 0.0, 0.0, 0.0, 0.0, 0.0, 0.0, 0.0, 0.0, 0.0, 0.0, 0.0, 0.0258, 0.0, 0.0, 0.0, 0.0, 0.0, 0.0, 0.0, 0.0, 0.0, 0.0, 0.0, 0.0, 0.0, 0.0, 0.0, 0.0, 0.0, 0.0, 0.0, 0.0, 0.0, 0.0, 0.0, 0.0, 0.0, 0.0, 0.0, 0.0, 0.0, 0.0, 0.0, 0.0, 0.0, 0.0, 0.0, 0.0, 0.0, 0.0, 0.0, 0.0, 0.0, 0.0, 0.0, 0.0, 0.0, 0.0, 0.0, 0.0, 0.0, 0.0, 0.0, 0.0, 0.0258, 0.0, 0.0, 0.0, 0.0, 0.0, 0.0, 0.0, 0.0, 0.0, 0.0, 0.0, 0.0, 0.0, 0.0, 0.0, 0.0, 0.0, 0.0, 0.0, 0.0, 0.0, 0.0, 0.0, 0.0, 0.0, 0.0258, 0.0, 0.0, 0.0, 0.0, 0.0, 0.0, 0.0, 0.0, 0.0, 0.0, 0.0, 0.0, 0.0, 0.0, 0.0, 0.0, 0.0, -0.0258, 0.0, 0.0, 0.0, 0.0, 0.0, 0.0, 0.0, 0.0, 0.0, 0.0, 0.0, 0.0, 0.0, 0.0, 0.0, 0.0, 0.0, 0.0, 0.0, 0.0, 0.0, 0.0, 0.0, 0.0, 0.0, 0.0, 0.0, 0.0, 0.0, 0.0, 0.0, 0.0, 0.0, 0.0, 0.0, 0.0, 0.0, 0.0, 0.0, 0.0, 0.0, 0.0, 0.0, 0.0, 0.0, 0.0, 0.0, 0.0, 0.0, 0.0, 0.0, 0.0, 0.0, 0.0, 0.0, 0.0, 0.0, 0.0, 0.0, 0.0, 0.0, 0.0, 0.0, 0.0, 0.0, 0.0, 0.0, 0.0, 0.0, 0.0, 0.0, 0.0, 0.0, 0.0, 0.0, 0.0, 0.0, 0.0, 0.0, 0.0, 0.0, 0.0, 0.0, 0.0, 0.0, 0.0258, 0.0, 0.0, 0.0, 0.0, 0.0, 0.0, 0.0, 0.0, 0.0, 0.0, 0.0, 0.0, 0.0, 0.0258, 0.0, 0.0, 0.0, 0.0, 0.0, 0.0, 0.0, 0.0, 0.0, 0.0, 0.0, 0.0, 0.0, 0.0, 0.0, 0.0, 0.0, 0.0, 0.0, 0.0, 0.0, 0.0, 0.0, 0.0, 0.0, 0.0, 0.0, 0.0, 0.0, 0.0, 0.0, 0.0, 0.0, 0.0, 0.0, 0.0, 0.0, 0.0, 0.0, 0.0, 0.0, 0.0, 0.0, 0.0, 0.0, 0.0, 0.0, 0.0, 0.0, 0.0, 0.0, 0.0, 0.0, 0.0, 0.0, 0.0, 0.0, 0.0, 0.0, 0.0, 0.0, 0.0, 0.0, 0.0, 0.0, 0.0, 0.0, 0.0, 0.0, 0.0, 0.0, 0.0, 0.0, 0.0, 0.0, 0.0, 0.0, 0.0, 0.0, 0.0, 0.0, 0.0, 0.0, 0.0, 0.0, 0.0, 0.0, 0.0, 0.0, 0.0, 0.0, 0.0, 0.0, 0.0, 0.0, 0.0, 0.0, 0.0, 0.0, 0.0, 0.0, 0.0, 0.0, 0.0, 0.0, 0.0, 0.0, 0.0, 0.0, 0.0, 0.0, 0.0, 0.0, 0.0, 0.0, 0.0, 0.0, 0.0, 0.0, 0.0, 0.0, 0.0, 0.0, 0.0, 0.0, 0.0, 0.0, 0.0, 0.0, 0.0, 0.0, 0.0, 0.0, 0.0, 0.0, 0.0, 0.0, 0.0, 0.0, 0.0, 0.0, 0.0, 0.0, 0.0, 0.0, 0.0, 0.0, 0.0, 0.0, 0.0, 0.0, 0.0, 0.0, 0.0, 0.0, 0.0, 0.0, 0.0, 0.0, 0.0, 0.0, 0.0, 0.0, 0.0, 0.0, 0.0, 0.0, 0.0, 0.0, 0.0, 0.0, 0.0, 0.0, 0.0, 0.0, 0.0, 0.0, 0.0, 0.0, 0.0, 0.0258, 0.0, 0.0, 0.0, 0.0, 0.0, 0.0, 0.0, 0.0, 0.0, 0.0, 0.0, 0.0, 0.0, 0.0, 0.0, 0.0, 0.0, 0.0, 0.0, 0.0, 0.0, 0.0, 0.0, 0.0, 0.0, 0.0, 0.0, 0.0, 0.0, 0.0, 0.0, 0.0, 0.0, 0.0, 0.0, 0.0, 0.0, 0.0, 0.0, 0.0, 0.0, 0.0, 0.0, 0.0, 0.0, 0.0, 0.0, 0.0, 0.0, 0.0, 0.0, 0.0, 0.0, 0.0, 0.0, 0.0, 0.0, 0.0, 0.0, 0.0, 0.0, 0.0, 0.0, 0.0, 0.0, 0.0, 0.0, 0.0, 0.0, 0.0, 0.0, 0.0, 0.0, 0.0, 0.0, 0.0, 0.0, 0.0, 0.0, 0.0, 0.0, 0.0, 0.0, 0.0, 0.0, 0.0, 0.0, 0.0, 0.0, 0.0, 0.0, 0.0, 0.0, 0.0, 0.0, 0.0, 0.0, 0.0, 0.0, 0.0, 0.0, 0.0, 0.0, 0.0, 0.0, 0.0, 0.0, 0.0, 0.0, 0.0, 0.0, 0.0, 0.0, 0.0, 0.0, 0.0, 0.0, 0.0, 0.0, 0.0, 0.0, 0.0, 0.0, 0.0, 0.0, 0.0, 0.0, 0.0, 0.0, 0.0, 0.0, 0.0, 0.0, 0.0, 0.0, 0.0, 0.0, 0.0, 0.0, 0.0, 0.0, 0.0, 0.0, 0.0, 0.0, 0.0, 0.0, 0.0, -0.0258, 0.0, 0.0, 0.0, 0.0, 0.0, 0.0, 0.0, 0.0, 0.0, 0.0, 0.0, 0.0, 0.0, 0.0, 0.0, 0.0, 0.0, 0.0, 0.0, 0.0, 0.0, 0.0, 0.0, 0.0, 0.0, 0.0, 0.0, 0.0387, 0.0, 0.0, 0.0, 0.0, 0.0, 0.0, 0.0, 0.0, 0.0, 0.0, 0.0, 0.0, 0.0, 0.0, 0.0, 0.0, 0.0, 0.0, 0.0, 0.0, 0.0, 0.0, 0.0, 0.0, 0.0, 0.0, 0.0, 0.0, 0.0, 0.0, 0.0, 0.0, 0.0, 0.0, 0.0, 0.0, 0.0, 0.0, 0.0, 0.0, 0.0, 0.0, 0.0, 0.0, 0.0, 0.0, 0.0, 0.0, 0.0, 0.0, 0.0, 0.0, 0.0, 0.0, 0.0, 0.0, 0.0, 0.0, 0.0, 0.0, 0.0, 0.0, 0.0, 0.0, 0.0, 0.0, 0.0, 0.0, 0.0, 0.0, 0.0, 0.0, 0.0, 0.0, 0.0, 0.0, 0.0, 0.0, 0.0, 0.0, 0.0, 0.0, 0.0, 0.0, 0.0, 0.0, 0.0, 0.0, 0.0, 0.0, 0.0, 0.0, 0.0, 0.0, 0.0, 0.0, 0.0, 0.0, 0.0, -0.0258, 0.0, 0.0, 0.0, 0.0, 0.0, 0.0, 0.0, 0.0, 0.0, 0.0, 0.0, 0.0, -0.0258, 0.0, 0.0, 0.0, 0.0, 0.0, 0.0, 0.0, 0.0, 0.0, 0.0, 0.0, 0.0, 0.0, 0.0, 0.0, 0.0, 0.0, 0.0, 0.0, 0.0, 0.0, 0.0, 0.0, 0.0, 0.0, 0.0, 0.0, 0.0, 0.0, 0.0, 0.0, 0.0, 0.0, 0.0, 0.0, 0.0, 0.0, 0.0, 0.0, 0.0, 0.0, 0.0, 0.0, 0.0, 0.0, 0.0, 0.0, 0.0, 0.0, 0.0, 0.0, 0.0, 0.0, 0.0, 0.0, 0.0, 0.0, 0.0, 0.0, 0.0, 0.0, 0.0, 0.0, 0.0, 0.0, 0.0, 0.0, 0.0, 0.0, 0.0, 0.0, 0.0, 0.0, 0.0, 0.0, 0.0, 0.0, 0.0, 0.0, 0.0, 0.0, 0.0, 0.0, 0.0, 0.0, 0.0, 0.0, 0.0, 0.0, 0.0, 0.0, 0.0, 0.0, 0.0, 0.0, 0.0, 0.0, 0.0, 0.0, 0.0, 0.0, 0.0, 0.0, 0.0, 0.0, 0.0, 0.0, 0.0, 0.0, 0.0, 0.0, 0.0, 0.0, 0.0, 0.0, 0.0, 0.0, 0.0, 0.0, 0.0, 0.0, 0.0, 0.0, 0.0, -0.0202, 0.0, 0.0, 0.0, 0.0, 0.0, 0.0, 0.0, 0.0, 0.0, 0.0, 0.0, 0.0, 0.0, 0.0, 0.0, 0.0, 0.0, 0.0, 0.0, 0.0, 0.0, 0.0382, 0.0, 0.0, 0.0, 0.0, 0.0, 0.0, 0.0, 0.0, 0.0, 0.0, 0.0, 0.0, 0.0, 0.0, -0.0276, 0.0, 0.0, 0.0258, 0.0, 0.0, 0.0, 0.0, 0.0, 0.0, 0.0, -0.0387, 0.0, 0.0, 0.0, 0.0, 0.0, 0.0, 0.0, 0.0, 0.0, 0.0, 0.0, 0.0, 0.0, 0.0, 0.0, 0.0, 0.0, 0.0, 0.0, 0.0, 0.0, 0.0, 0.0314, 0.0, 0.0, 0.0, 0.0, 0.0, 0.0, 0.0, 0.0, 0.0, 0.0, 0.0, 0.0, 0.0, 0.0, 0.0, 0.0, 0.0, 0.0, 0.0, 0.0, 0.0, 0.0, 0.0, 0.0, 0.0, 0.0, 0.0, 0.0, 0.0, 0.0, 0.0, 0.0, 0.0, 0.0, 0.0, 0.0, 0.0, 0.0, 0.0, 0.0, 0.0, -0.0258, 0.0, 0.0, 0.0, 0.0, 0.0, 0.0, 0.0, 0.0, 0.0, 0.0, 0.0258, 0.0, 0.0, 0.0, 0.0, 0.0, 0.0, 0.0, 0.0, 0.0, 0.0, 0.0, 0.0, 0.0, 0.0, 0.0, 0.0, 0.0, 0.0, 0.0, 0.0, 0.0, 0.0, 0.0, 0.0, 0.0, 0.0, 0.0, 0.0, 0.0, 0.0, 0.0, 0.0, 0.0, 0.0, 0.0, 0.0, 0.0, 0.0, 0.0, 0.0, 0.0, 0.0, 0.0, 0.0, 0.0, 0.0, 0.0, 0.0, 0.0, 0.0, 0.0, 0.0, 0.0, 0.0, 0.0, 0.0, 0.0, 0.0, 0.0, 0.0, 0.0, 0.0, 0.0, 0.0, 0.0, 0.0, 0.0, 0.0, 0.0, 0.0, 0.0, 0.0, 0.0, 0.0, 0.0, 0.0, 0.0, 0.0, 0.0, 0.0, 0.0, 0.0, 0.0, 0.0, 0.0, 0.0, 0.0, 0.0, 0.0, 0.0, 0.0, 0.0, 0.0, 0.0, 0.0, 0.0, 0.0, 0.0, 0.0, 0.0, 0.0, 0.0, 0.0, 0.0, 0.0, 0.0, 0.0, 0.0, 0.0, 0.0, 0.0, 0.0, 0.0, 0.0, 0.0, 0.0, 0.0, 0.0, 0.0, 0.0, 0.0, 0.0, 0.0, 0.0, 0.0, 0.0, 0.0, 0.0, 0.0, 0.0, 0.0, 0.0, 0.0, 0.0, 0.0, 0.0, 0.0, 0.0, 0.0, 0.0, 0.0, 0.0, 0.0, 0.0, 0.0, 0.0, 0.0, 0.0, 0.0, 0.0, 0.0, 0.0, 0.0, 0.0, 0.0, 0.0, 0.0, 0.0, 0.0, 0.0, 0.0, 0.0, 0.0, 0.0, 0.0, 0.0, 0.0, 0.0, 0.0, 0.0, 0.0, 0.0, 0.0, 0.0, 0.0, 0.0, 0.0, 0.0, 0.0, 0.0, 0.0, 0.0, 0.0, 0.0, 0.0, 0.0, 0.0, 0.0, 0.0258, 0.0, 0.0, 0.0, 0.0, 0.0, 0.0, 0.0, 0.0, 0.0, 0.0, 0.0, 0.0, 0.0, 0.0, 0.0, 0.0173, 0.0, 0.0, 0.0, 0.0, 0.0, 0.0, 0.0, 0.0, 0.0, 0.0, 0.0, 0.0, 0.0, 0.0, 0.0, 0.0, 0.0, 0.0, 0.0, 0.0, 0.0, 0.0, 0.0, 0.0, 0.0, 0.0, 0.0, 0.0, 0.0, 0.0, 0.0, 0.0, 0.0, 0.0, 0.0, 0.0, 0.0, 0.0, 0.0, 0.0, 0.0, 0.0, 0.0, 0.0, 0.0, 0.0, 0.0, 0.0, 0.0, 0.0, 0.0, 0.0, 0.0, 0.0, 0.0, 0.0, 0.0, 0.0, 0.0, 0.0, 0.0, 0.0, 0.0, 0.0, 0.0, 0.0, 0.0, 0.0, 0.0, 0.0, 0.0, 0.0, 0.0, 0.0, 0.0, 0.0, 0.0, 0.0, 0.0, 0.0, 0.0, 0.0, 0.0, 0.0, 0.0, 0.0, 0.0, 0.0, 0.0, 0.0, 0.0, 0.0, 0.0, 0.0, 0.0, 0.0, 0.0, 0.0, 0.0, 0.0, 0.0, 0.0, 0.0, 0.0, 0.0, 0.0, 0.0, 0.0, 0.0, 0.0, 0.0, 0.0, 0.0, 0.0258, 0.0, 0.0, 0.0, 0.0, 0.0, 0.0, 0.0, 0.0, 0.0, 0.0, 0.0, 0.0, 0.0, 0.0, 0.0, 0.0, 0.0, 0.0, 0.0, 0.0, 0.0, 0.0, 0.0, 0.0, 0.0, 0.0, 0.0, 0.0, 0.0, 0.0, 0.0, 0.0, 0.0, 0.0, 0.0, 0.0, 0.0, 0.0, 0.0, 0.0, 0.0, 0.0, 0.0, 0.0, 0.0, 0.0, 0.0, 0.0, 0.0, 0.0, 0.0, 0.0, 0.0, 0.0, 0.0, 0.0, 0.0, 0.0, 0.0, 0.0, 0.0, 0.0, 0.0, 0.0, 0.0, 0.0, 0.0, 0.0, 0.0, 0.0, 0.0, 0.0, 0.0, 0.0, 0.0, 0.0, 0.0, 0.0, 0.0, 0.0, 0.0, 0.0, 0.0, 0.0, 0.0, 0.0, 0.0, 0.0, 0.0, 0.0, 0.0, 0.0, 0.0, 0.0, 0.0, 0.0, 0.0, 0.0, 0.0, 0.0, 0.0, 0.0, 0.0, 0.0, 0.0, 0.0, 0.0, 0.0, 0.0, 0.0, 0.0, 0.0, 0.0, 0.0, 0.0, 0.0, 0.0, 0.0, 0.0, 0.0, 0.0, 0.0, 0.0, 0.0, 0.0323, 0.0, 0.0258, 0.0, 0.0, -0.0276, 0.0, 0.0, 0.0, 0.0, 0.0, 0.0, 0.0, -0.0258, 0.0, 0.0, 0.0, 0.0, 0.0, 0.0, 0.0, 0.0, 0.0, 0.0, 0.0, 0.0, 0.0, 0.0, 0.0, 0.0, 0.0, 0.0, 0.0, 0.0, 0.0, 0.0, 0.0, 0.0, 0.0, 0.0, 0.0, 0.0, 0.0, 0.0, 0.0, 0.0, 0.0, 0.0, 0.0, 0.0, 0.0, 0.0, 0.0, 0.0, 0.0, 0.0, 0.0, 0.0, 0.0, 0.0, 0.0, 0.0, 0.0, 0.0, 0.0, 0.0258, 0.0, 0.0, 0.0, 0.0, 0.0, 0.0, 0.0, 0.0, 0.0, 0.0, 0.0, 0.0, 0.0, 0.0, 0.0, 0.0, 0.0, 0.0, 0.0, 0.0, 0.0, 0.0, 0.0, 0.0, 0.0, 0.0, 0.0, 0.0, 0.0, 0.0, 0.0, 0.0, 0.0, 0.0, 0.0, 0.0, 0.0, 0.0, 0.0, 0.0, 0.0, 0.0, 0.0, 0.0, 0.0, 0.0, 0.0, 0.0, 0.0, 0.0, 0.0, 0.0, 0.0, 0.0, 0.0, 0.0, 0.0, 0.0, 0.0, 0.0, 0.0, 0.0, 0.0, 0.0, 0.0, 0.0, 0.0, 0.0, 0.0, 0.0, 0.0, 0.0, 0.0, 0.0, 0.0, 0.0, 0.0, 0.0, 0.0, 0.0, 0.0, 0.0, 0.0, 0.0, -0.0094, 0.0, 0.0, 0.0, 0.0, 0.0, 0.0, 0.0, 0.0, 0.0, 0.0, 0.0, 0.0, 0.0, 0.0, 0.0, 0.0, 0.0, 0.0, 0.0, 0.0, 0.0, 0.0, 0.0, 0.0, 0.0, 0.0, 0.0, 0.0, 0.0, 0.0, 0.0, 0.0, 0.0, 0.0, 0.0, 0.0, 0.0, 0.0, 0.0, 0.0, 0.0, 0.0, 0.0, 0.0, 0.0, 0.0, 0.0, 0.0129, 0.0, 0.0, 0.0, 0.0258, 0.0, 0.0, 0.0, 0.0, 0.0, 0.0, 0.0, 0.0, -0.0191, 0.0, 0.0, 0.0, 0.0, 0.0, 0.0, 0.0, 0.0, 0.0, 0.0, -0.0258, 0.0, 0.0, 0.0, 0.0, 0.0, 0.0, 0.0, 0.0, 0.0, 0.0, 0.0, 0.0, 0.0, 0.0, 0.0, 0.0, 0.0, 0.0, 0.0, 0.0, 0.0, 0.0, 0.0, 0.0, 0.0, 0.0, 0.0, 0.0, 0.0, 0.0, 0.0, 0.0, 0.0, 0.0, 0.0, 0.0, 0.0, 0.0, 0.0, 0.0, 0.0, 0.0, 0.0, 0.0, 0.0, 0.0, 0.0, 0.0, 0.0, 0.0, 0.0, 0.0, 0.0, 0.0, 0.0, 0.0, 0.0, 0.0, 0.0, 0.0, 0.0, 0.0, 0.0, 0.0, 0.0, 0.0, 0.0, 0.0, 0.0, 0.0, 0.0, 0.0, 0.0, 0.0, 0.0, 0.0, 0.0, 0.0, 0.0, 0.0, 0.0, 0.0, -0.0258, 0.0, 0.0, 0.0, 0.0258, 0.0, 0.0, 0.0, 0.0, 0.0, 0.0, 0.0, 0.0, 0.0, 0.0, 0.0, 0.0, 0.0, 0.0, 0.0, 0.0, 0.0, 0.0, 0.0, 0.0, 0.0, 0.0, 0.0, 0.0, 0.0, 0.0, 0.0, 0.0, 0.0, 0.0, 0.0, 0.0, 0.0, 0.0, 0.0, 0.0, 0.0, 0.0, 0.0, 0.0, 0.0, 0.0, 0.0, 0.0, 0.0, 0.0, 0.0, 0.0, 0.0, 0.0, 0.0, -0.0258, 0.0, 0.0, 0.0, 0.0, 0.0, 0.0, 0.0, 0.0, 0.0, 0.0, 0.0, 0.0, 0.0, 0.0, 0.0, 0.0, 0.0, 0.0, 0.0, 0.0, 0.0, 0.0, 0.0, 0.0, 0.0, 0.0, 0.0, 0.0, 0.0, 0.0, 0.0, 0.0, 0.0, 0.0, 0.0, 0.0, 0.0, 0.0, 0.0, 0.0, 0.0, 0.0, 0.0, 0.0, 0.0, 0.0, 0.0, 0.0, 0.0, 0.0, 0.0, 0.0, 0.0, 0.0, 0.0, 0.0, 0.0, -0.0258, 0.0, 0.0, 0.0, 0.0, 0.0, 0.0, 0.0, 0.0, 0.0258, 0.0, 0.0, 0.0323, 0.0, 0.0, 0.0, 0.0, 0.0, 0.0, 0.0, 0.0, 0.0, 0.0, 0.0, 0.0, 0.0, 0.0, 0.0, 0.0, 0.0, 0.0, 0.0, 0.0, 0.0, 0.0, 0.0, 0.0, 0.0, 0.0, 0.0, 0.0, 0.0, 0.0, 0.0, 0.0, 0.0, 0.0, 0.0, 0.0, 0.0, 0.0, 0.0, 0.0, 0.0, 0.0, 0.0, 0.0, 0.0, 0.0, 0.0, 0.0, 0.0, 0.0, 0.0, 0.0, 0.0, 0.0, 0.0, 0.0, 0.0, 0.0, 0.0, 0.0, 0.0, 0.0, 0.0, 0.0, 0.0, 0.0, 0.0, 0.0, 0.0, 0.0, 0.0, 0.0, 0.0, 0.0, 0.0, 0.0, 0.0, 0.0, 0.0, 0.0258, 0.0, 0.0, 0.0, 0.0, 0.0, 0.0, 0.0, 0.0, 0.0, 0.0, 0.0, 0.0, 0.0, 0.0, 0.0, 0.0, 0.0, 0.0, 0.0, 0.0, 0.0, 0.0, 0.0, 0.0, 0.0, 0.0, 0.0, 0.0, 0.0, 0.0, 0.0, 0.0, 0.0, 0.0, 0.0, 0.0, 0.0, 0.0, 0.0, 0.0, 0.0, 0.0, 0.0, 0.0, 0.0, 0.0, 0.0, 0.0, 0.0, 0.0, 0.0, 0.0, 0.0, 0.0, 0.0, 0.0, 0.0, 0.0, 0.0, 0.0, 0.0, 0.0, 0.0, 0.0, 0.0, 0.0072, 0.0, 0.0, 0.0, 0.0, 0.0, 0.0, 0.0, 0.0, 0.0, 0.0, 0.0, 0.0, 0.0, 0.0, 0.0, 0.0, 0.0, 0.0, -0.0258, 0.0, 0.0, 0.0, 0.0, 0.0, 0.0, 0.0, 0.0, 0.0, 0.0, 0.0, 0.0, 0.0, 0.0, 0.0, 0.0, 0.0, 0.0, 0.0, 0.0, 0.0, 0.0, 0.0, 0.0, 0.0, 0.0, 0.0, 0.0, 0.0, 0.0, 0.0, 0.0, 0.0, 0.0, 0.0, 0.0, 0.0, 0.0, 0.0, 0.0, 0.0, 0.0, 0.0, 0.0, 0.0, 0.0, 0.0, 0.0, 0.0, 0.0, -0.0258, 0.0, 0.0, 0.0, 0.0, 0.0, 0.0, 0.0, 0.0, 0.0, 0.0, 0.0, 0.0, 0.0, 0.0, 0.0, 0.0, 0.0, 0.0, 0.0, 0.0, 0.0, 0.0, 0.0, 0.0, 0.0, 0.0, 0.0, 0.0, 0.0, 0.0, 0.0, 0.0, 0.0, 0.0, 0.0, 0.0, 0.0, 0.0, 0.0, 0.0, 0.0, 0.0, 0.0, 0.0, 0.0, 0.0, 0.0, 0.0, 0.0, 0.0, 0.0, 0.0, 0.0, 0.0, 0.0, 0.0, 0.0, 0.0, 0.0, 0.0, 0.0, 0.0, 0.0, 0.0, 0.0, 0.0, 0.0, 0.0, 0.0, 0.0, 0.0, 0.0, 0.0, 0.0, 0.0, 0.0, 0.0, 0.0, 0.0, 0.0, 0.0, 0.0, 0.0, 0.0, 0.0, 0.0, 0.0, 0.0, 0.0, 0.0, 0.0, 0.0, 0.0, 0.0, 0.0, 0.0, 0.0, 0.0, 0.0, 0.0, 0.0, -0.0258, 0.0, 0.0, 0.0, 0.0, 0.0, 0.0, 0.0, 0.0, 0.0, 0.0, 0.0, -0.0258, 0.0, 0.0, 0.0, 0.0, 0.0, 0.0, 0.0, 0.0, 0.0, 0.0, 0.0, 0.0, 0.0, 0.0, 0.0, 0.0, 0.0, 0.0, 0.0, 0.0, 0.0, 0.0, 0.0, 0.0, 0.0, 0.0, 0.0, 0.0, 0.0, 0.0, 0.0, 0.0, 0.0, 0.0, 0.0, 0.0, 0.0, 0.0, 0.0, 0.0, 0.0, -0.0387, 0.0, 0.0, 0.0, 0.0, 0.0, 0.0, 0.0, 0.0, 0.0, 0.0, 0.0, 0.0, 0.0, 0.0, 0.0, 0.0, 0.0, 0.0, 0.0, 0.0, 0.0, 0.0, 0.0, 0.0, 0.0, 0.0, 0.0, 0.0, 0.0, 0.0, 0.0, 0.0, 0.0, 0.0, 0.0, 0.0, 0.0, 0.0258, 0.0, 0.0, 0.0, 0.0, 0.0, 0.0, 0.0, 0.0, 0.0, 0.0, 0.0, 0.0, 0.0, 0.0, 0.0, 0.0, 0.0, 0.0, 0.0, 0.0, 0.0, 0.0, 0.0, 0.0, 0.0, 0.0, 0.0, 0.0, 0.0, 0.0, 0.0, 0.0, 0.0, 0.0, 0.0, 0.0, 0.0, 0.0, 0.0, 0.0, 0.0, 0.0, 0.0, 0.0, 0.0, 0.0, 0.0, 0.0, 0.0, 0.0, 0.0, 0.0, 0.0, 0.0, 0.0, 0.0, 0.0, 0.0, 0.0, 0.0, 0.0, 0.0, 0.0, 0.0, 0.0, 0.0, 0.0, 0.0, 0.0, 0.0, 0.0, 0.0, 0.0, 0.0, 0.0, 0.0, 0.0, 0.0, 0.0258, 0.0, 0.0, 0.0, 0.0, 0.0, 0.0, 0.0, 0.0, 0.0, 0.0, 0.0, 0.0, 0.0, 0.0, 0.0, 0.0, 0.0, 0.0, -0.0258, 0.0, 0.0, 0.0, 0.0, 0.0, 0.0, 0.0, 0.0, 0.0, 0.0, 0.0, 0.0, 0.0, 0.0, 0.0, 0.0, 0.0, 0.0, 0.0, 0.0, 0.0, 0.0, 0.0, 0.0, 0.0, 0.0, 0.0, 0.0, 0.0, 0.0, 0.0, 0.0, 0.0, 0.0, 0.0, 0.0, 0.0, 0.0, 0.0, 0.0, 0.0, 0.0, 0.0, 0.0, 0.0, 0.0, 0.0, 0.0, 0.0, 0.0, 0.0, 0.0, 0.0, 0.0, 0.0, 0.0, 0.0, 0.0, 0.0, 0.0, 0.0, 0.0, 0.0, 0.0, 0.0, 0.0, 0.0, 0.0, 0.0, 0.0, 0.0, 0.0, 0.0, 0.0, 0.0, 0.0, 0.0, 0.0, 0.0, 0.0, 0.0, 0.0, 0.0, 0.0, 0.0, 0.0, 0.0, 0.0, 0.0, 0.0, 0.0, 0.0, 0.0, 0.0, 0.0, 0.0, 0.0, 0.0, 0.0, 0.0, 0.0, 0.0, 0.0, 0.0, 0.0, 0.0, 0.0, 0.0, 0.0, 0.0, 0.0, 0.0, 0.0, 0.0, 0.0, 0.0, 0.0, 0.0, 0.0, 0.0, 0.0, 0.0, 0.0, 0.0258, 0.0, 0.0, 0.0, 0.0, 0.0, 0.0, 0.0, 0.0, 0.0, 0.0, 0.0, 0.0, 0.0, 0.0, 0.0, 0.0, 0.0258, 0.0, 0.0, 0.0, 0.0, 0.0, 0.0, 0.0, 0.0, 0.0, 0.0, 0.0, 0.0, 0.0, 0.0, 0.0, 0.0, 0.0, 0.0, 0.0, 0.0, 0.0258, 0.0, 0.0, 0.0, 0.0, -0.0194, 0.0, 0.0, 0.0, 0.0, 0.0, 0.0, 0.0, 0.0, 0.0, 0.0, 0.0, 0.0, 0.0, 0.0, 0.0, 0.0, 0.0, 0.0, 0.0, 0.0, 0.0, 0.0, 0.0, 0.0, 0.0, 0.0, 0.0, 0.0, 0.0, 0.0, 0.0, 0.0, 0.0, 0.0, 0.0, 0.0, 0.0, 0.0, 0.0, 0.0, 0.0, 0.0, 0.0, 0.0, 0.0, 0.0, 0.0, 0.0, 0.0, 0.0, 0.0, 0.0, 0.0, 0.0, 0.0, 0.0, 0.0, 0.0, 0.0, 0.0, 0.0, -0.031, 0.0, 0.0, 0.0, 0.0, 0.0, 0.0, 0.0, 0.0, 0.0, 0.0, 0.0, 0.0, 0.0, 0.0, 0.0, 0.0, 0.0, 0.0, 0.0, 0.0, 0.0, 0.0, 0.0, 0.0, 0.0, 0.0, 0.0258, 0.0, 0.0, 0.0, 0.0, 0.0, 0.0, 0.0, 0.0, 0.0, 0.0, 0.0, 0.0, 0.0, 0.0, 0.0, 0.0, 0.0, 0.0, 0.0, -0.0258, 0.0334, 0.0, 0.0, 0.0, 0.0, 0.0, 0.0, 0.0, 0.0, 0.0, 0.0, 0.0, 0.0, 0.0, 0.0, 0.0, 0.0, 0.0, 0.0, 0.0, 0.0, 0.0, 0.0, 0.0, 0.0, 0.0, 0.0, 0.0, 0.0, 0.0, 0.0, 0.0, 0.0, 0.0, 0.0, 0.0, 0.0, 0.0, 0.0, 0.0, 0.0, 0.0, 0.0, 0.0, 0.0, 0.0, 0.0, 0.0, 0.0, 0.0, 0.0, 0.0, 0.0, 0.0, 0.0, 0.0, 0.0, 0.0, 0.0, 0.0, 0.0, 0.0, 0.0, 0.0, 0.0, 0.0, 0.0, 0.0, 0.0, 0.0, 0.0, 0.0, 0.0, 0.0, 0.0, 0.0, 0.0, 0.0, 0.0, 0.0, 0.0, 0.0, 0.0, 0.0, 0.0, 0.0, 0.0, 0.0, 0.0, 0.0, 0.0, 0.0, 0.0, 0.0, 0.0, 0.0, 0.0, 0.0, 0.0, 0.0, 0.0, 0.0, 0.0, 0.0, 0.0, 0.0, 0.0, 0.0, 0.0, 0.0, 0.0, 0.0, 0.0, 0.0, 0.0, 0.0, 0.0, 0.0, 0.0, 0.0, 0.0, 0.0, 0.0, 0.0, 0.0, 0.0, 0.0, 0.0, 0.0, -0.0191, 0.0, 0.0, 0.0, 0.0, 0.0, 0.0, 0.0, 0.0, 0.0, 0.0, 0.0, 0.0, 0.0, 0.0, 0.0, 0.0, 0.0, 0.0, 0.0, 0.0, 0.0, 0.0, 0.0, 0.0, 0.0, 0.0, 0.0, 0.0, 0.0, 0.0, 0.0, 0.0, 0.0, 0.0, 0.0, 0.0, 0.0, 0.0, 0.0, 0.0, 0.0, 0.0, 0.0, 0.0, 0.0, 0.0, 0.0, 0.0, 0.0, 0.0, 0.0, 0.0, 0.0, 0.0, 0.0, 0.0, 0.0, 0.0, 0.0, 0.0, 0.0, 0.0, 0.0, 0.0, 0.0, 0.0, 0.0, 0.0, 0.0, 0.0, 0.0, 0.0, 0.0, 0.0, 0.0, 0.0, 0.0, 0.0, 0.0, 0.0, 0.0, 0.0, 0.0, 0.0, 0.0, 0.0, 0.0, 0.0, 0.0, 0.0, 0.0, 0.0, 0.0, 0.0, 0.0, 0.0, 0.0, 0.0, 0.0, 0.0, 0.0, 0.0, 0.0, 0.0, 0.0, 0.0, 0.0, 0.0, 0.0, 0.0, 0.0, 0.0, 0.0, 0.0, 0.0, 0.0, 0.0, 0.0, 0.0, 0.0, 0.0, 0.0, 0.0, 0.0, 0.0, 0.0, 0.0, 0.0, 0.0, 0.0, 0.0, 0.0, 0.0, 0.0, 0.0, 0.0, 0.0, 0.0, 0.0, 0.0, 0.0, 0.0, 0.0, 0.0, 0.0, 0.0, 0.0, 0.0, 0.0, 0.0, 0.0, 0.0, 0.0, 0.0, 0.0, 0.0, 0.0, 0.0, 0.0, 0.0, 0.0, 0.0, 0.0, 0.0, 0.0, 0.0, 0.0, 0.0, 0.0, 0.0, 0.0, 0.0, 0.0, 0.0, 0.0, 0.0, 0.0, 0.0, 0.0, 0.0, 0.0, 0.0, 0.0258, 0.0, 0.0, 0.0, 0.0, 0.0, 0.0, 0.0, 0.0, 0.0, 0.0, 0.0, 0.0, 0.0, 0.0, 0.0, 0.0, 0.0, 0.0, 0.0, 0.0, 0.0, 0.0, 0.0, 0.0, 0.0, 0.0, -0.0258, 0.0, 0.0, 0.0, 0.0, 0.0, 0.0, 0.0, 0.0, 0.0, 0.0, 0.0, 0.0, 0.0, 0.0, 0.0, 0.0, 0.0, 0.0, 0.0, 0.0, 0.0, 0.0, 0.0, 0.0, 0.0, 0.0, 0.0, 0.0, 0.0, 0.0, 0.0, 0.0, 0.0, 0.0, 0.0, 0.0, 0.0, 0.0, 0.0, 0.0, 0.0, 0.0, 0.0, 0.0, 0.0, 0.0, 0.0, 0.0, 0.0, 0.0, 0.0, 0.0, 0.0, 0.0, 0.0, 0.0, 0.0, 0.0, 0.0, -0.0428, 0.0, 0.0, 0.0, 0.0, 0.0, 0.0, 0.0, 0.0, 0.0, 0.0, 0.0, 0.0, 0.0, 0.0, 0.0, 0.0, 0.0, 0.0, 0.0, 0.0, 0.0, 0.0, 0.0, 0.0, 0.0, 0.0, 0.0, 0.0, 0.0, 0.0, 0.0, 0.0, 0.0, 0.0, 0.0, 0.0, 0.0, 0.0, 0.0, 0.0, 0.0, 0.0, 0.0, 0.0, 0.0, 0.0, 0.0, 0.0, 0.0, 0.0, 0.0, 0.0, 0.0, 0.0, 0.0, 0.0, 0.0, 0.0, 0.0, 0.0, 0.0, 0.0, 0.0, 0.0, 0.0, 0.0, 0.0, 0.0258, 0.0, 0.0, 0.0, 0.0, 0.0, 0.0, 0.0, 0.0, 0.0, 0.0, 0.0, 0.0, 0.0, 0.0, 0.0, 0.0, 0.0, 0.0, 0.0, 0.0, 0.0, 0.0, 0.0, 0.0, 0.0, 0.0, 0.0, 0.0, 0.0, 0.0, 0.0, 0.0, 0.0, 0.0, 0.0, 0.0, 0.0, 0.0, 0.0, 0.0, 0.0, 0.0, 0.0, 0.0, 0.0, 0.0, 0.0, 0.0, 0.0, 0.0, 0.0, 0.0, 0.0, 0.0, 0.0, 0.0, 0.0, 0.0, 0.0, 0.0, 0.0, 0.0, 0.0258, 0.0, 0.0, 0.0, 0.0, 0.0, 0.0, 0.0, 0.0, 0.0, 0.0, 0.0, 0.0, 0.0, 0.0, 0.0, 0.0, 0.0, 0.0, 0.0, 0.0, 0.0, 0.0, 0.0, 0.0, 0.0, 0.0, 0.0, 0.0, 0.0, 0.0, 0.0, 0.0, 0.0, 0.0, 0.0, 0.0, 0.0, 0.0, 0.0, 0.0, 0.0, 0.0, 0.0, 0.0, 0.0, 0.0, 0.0, 0.0, 0.0, 0.0, 0.0, 0.0, 0.0, 0.0, 0.0, 0.0, 0.0, 0.0, 0.0, 0.0, 0.0, 0.0, 0.0, 0.0, 0.0, 0.0, 0.0, 0.0, 0.0, 0.0, 0.0, 0.0, 0.0, 0.0, 0.0, 0.0, 0.0, 0.0, 0.0, 0.0, 0.0, 0.0, 0.0, 0.0, 0.0, 0.0, 0.0, 0.0, 0.0, 0.0, 0.0, 0.0, 0.0, 0.0, 0.0, 0.0, 0.0, 0.0, 0.0, 0.0, 0.0, 0.0, 0.0, 0.0, 0.0, 0.0, 0.0, 0.0, 0.0, 0.0, 0.0, 0.0, 0.0, 0.0, 0.0, 0.0, 0.0, 0.0, 0.0, 0.0, 0.0, 0.0, 0.0, 0.0, 0.0, 0.0, 0.0, 0.0, 0.0, 0.0, 0.0, 0.0, 0.0, 0.0, 0.0, 0.0, 0.0, 0.0, 0.0, 0.0, 0.0, 0.0, 0.0, 0.0, 0.0, 0.0, 0.0387, 0.0, 0.0, 0.0, 0.0, 0.0, 0.0, 0.0, 0.0, 0.0, 0.0, 0.0, 0.0, 0.0, 0.0, 0.0, 0.0, 0.0, 0.0, 0.0, 0.0, 0.0, 0.0, 0.0, 0.0, 0.0, 0.0, 0.0, 0.0, 0.0, 0.0, 0.0, 0.0, 0.0, 0.0, 0.0, 0.0, 0.0, 0.0, 0.0, 0.0, 0.0, 0.0, 0.0, 0.0, 0.0, 0.0, 0.0, 0.0, 0.0, 0.0, 0.0, 0.0, 0.0, 0.0, 0.0, 0.0, 0.0, 0.0, 0.0, 0.0, 0.0, 0.0, 0.0, 0.0, 0.0, 0.0, 0.0, 0.0, 0.0, 0.0, 0.0, 0.0, 0.0, 0.0, 0.0, 0.0, 0.0, 0.0, 0.0, 0.0, 0.0, 0.0, 0.0, 0.0, 0.0, 0.0, 0.0, 0.0, 0.0, 0.0, 0.0, 0.0, 0.0, 0.0, 0.0, 0.0, 0.0, 0.0, 0.0, 0.0, 0.0, 0.0, 0.0, 0.0, 0.0, 0.0, 0.0, 0.0, 0.0, 0.0, 0.0, 0.0, 0.0, 0.0, 0.0, 0.0, 0.0, 0.0, 0.0, 0.0, 0.0, 0.0, 0.0, 0.0, 0.0, 0.0, 0.0, 0.0, 0.0, 0.0, 0.0, 0.0, 0.0, 0.0, 0.0, 0.0, 0.0, 0.0, 0.0, 0.0, 0.0, 0.0, 0.0, 0.0, 0.0, 0.0, 0.0, 0.0, 0.0, 0.0, 0.0, 0.0, 0.0, 0.0, 0.0, 0.0, 0.0, 0.0, 0.0, 0.0, 0.0, 0.0, 0.0, 0.0, 0.0, 0.0, 0.0, 0.0, 0.0, 0.0, 0.0, 0.0, 0.0, 0.0, 0.0, 0.0, 0.0, 0.0, 0.0, 0.0, 0.0, 0.0, 0.0, 0.0, 0.0, 0.0, 0.0, 0.0, 0.0258, 0.0, 0.0, 0.0, 0.0, 0.0, 0.0, 0.0, 0.0, 0.0, 0.0, 0.0, 0.0, 0.0, 0.0, 0.0, 0.0, 0.0, 0.0, 0.0, 0.0, 0.0258, 0.0, 0.0, 0.0, 0.0, 0.0, 0.0, 0.0, 0.0, 0.0, 0.0, 0.0, 0.0, 0.0, 0.0, 0.0, 0.0, 0.0, 0.0, 0.0, 0.0, 0.0, 0.0, 0.0, 0.0, 0.0, 0.0, 0.0, 0.0, 0.0, 0.0, 0.0, 0.0, 0.0, 0.0, 0.0, 0.0, 0.0, 0.0, 0.0, 0.0, 0.0, 0.0, 0.0, 0.0, 0.0, 0.0, 0.0, 0.0, 0.0, 0.0, 0.0, 0.0, 0.0, 0.0, 0.0, 0.0, 0.0, 0.0, 0.0, 0.0, 0.0, 0.0, 0.0, 0.0, 0.0, 0.0, 0.0, 0.0, 0.0, 0.0, 0.0, -0.0258, 0.0, 0.0, 0.0, 0.0, 0.0, 0.0, 0.0, 0.0, 0.0, 0.0, 0.0, 0.0, 0.0, 0.0, 0.0, 0.0, 0.0, 0.0, 0.0, 0.0, 0.0, 0.0, 0.0258, 0.0, 0.0, 0.0, 0.0, 0.0, 0.0, 0.0, 0.0, 0.0, 0.0, 0.0, 0.0, 0.0, 0.0, 0.0, 0.0, 0.0, 0.0, 0.0, 0.0, 0.0, 0.0258, 0.0, 0.0, 0.0, 0.0, -0.0258, 0.0, 0.0, 0.0, 0.0, 0.0, 0.0, 0.0, 0.0, 0.0, 0.0, 0.0, 0.0, 0.0, 0.0, 0.0, 0.0, 0.0, 0.0, 0.0, 0.0, 0.0, 0.0, 0.0, 0.0, 0.0, 0.0, 0.0, 0.0, 0.0, 0.0, 0.0, 0.0, 0.0, 0.0, 0.0, 0.0, 0.0, 0.0, 0.0, 0.0, 0.0, 0.0, 0.0, 0.0, 0.0, 0.0, 0.0, 0.0, 0.0, 0.0, 0.0, 0.0, 0.0, 0.0, 0.0, 0.0, 0.0, 0.0, 0.0, 0.0, 0.0, 0.0, 0.0, 0.0, 0.0, 0.0, 0.0, 0.0, 0.0, 0.0, 0.0, 0.0, 0.0, 0.0, 0.0, 0.0, 0.0, 0.0, 0.0, 0.0258, 0.0, 0.0, 0.0, 0.0, 0.0, 0.0, 0.0, 0.0, 0.0, 0.0, 0.0, 0.0, 0.0, 0.0, 0.0, 0.0, 0.0, 0.0, 0.0, 0.0, 0.0, 0.0, 0.0, 0.0, 0.0, 0.0, 0.0, 0.0, 0.0, 0.0, 0.0, 0.0, 0.0, 0.0, 0.0, 0.0, 0.0, 0.0, 0.0, 0.0, 0.0, 0.0, 0.0, 0.0, -0.0258, 0.0, 0.0, 0.0, 0.0, 0.0, 0.0, 0.0, 0.0, 0.0, 0.0, 0.0, 0.0, 0.0, 0.0, 0.0, 0.0, 0.0, 0.0, 0.0, 0.0, 0.0, 0.0, 0.0, 0.0, 0.0, 0.0, 0.0, 0.0, 0.0, 0.0, 0.0, 0.0, 0.0, 0.0, 0.0, 0.0, 0.0, 0.0, 0.0, 0.0, 0.0, 0.0, 0.0, 0.0, 0.0, 0.0, 0.0, 0.0, 0.0, 0.0, 0.0, 0.0, 0.0, 0.0, 0.0, 0.0, 0.0, 0.0, 0.0, -0.0258, 0.0, 0.0, 0.0, 0.0, 0.0, 0.0, 0.0, 0.0, 0.0, 0.0, 0.0, 0.0, 0.0, 0.0, 0.0, 0.0, 0.0, 0.0, 0.0, 0.0, 0.0, 0.0, 0.0, 0.0, 0.0, 0.0, 0.0, 0.0, 0.0, 0.0, 0.0, 0.0, 0.0, 0.0, 0.0, 0.0, 0.0, 0.0, 0.0, 0.0, 0.0, 0.0, 0.0, 0.0, 0.0, 0.0, 0.0, 0.0, 0.0, 0.0, 0.0, 0.0, 0.0, 0.0, 0.0, 0.024, 0.0, 0.0, 0.0, 0.0, 0.0, 0.0, 0.0258, 0.0, 0.0, 0.0, 0.0, 0.0, 0.0, 0.0, 0.0, 0.0, 0.0, 0.0, 0.0, 0.0, 0.0, 0.0, 0.0, 0.0, 0.0, 0.0, 0.0, 0.0, 0.0, 0.0, 0.0, 0.0, 0.0, 0.0, 0.0, 0.0, 0.0, 0.0, 0.0, 0.0, 0.0, 0.0, 0.0, 0.0, 0.0, 0.0, 0.0, 0.0, 0.0, 0.0, 0.0, 0.0, 0.0, 0.0, 0.0, 0.0, 0.0, 0.0, 0.0, 0.0, 0.0, 0.0, 0.0, 0.0, 0.0, 0.0, 0.0, 0.0, 0.0, 0.0, 0.0, -0.0382, 0.0, 0.0, 0.0, 0.0, 0.0, 0.0, 0.0, 0.0, 0.0, 0.0, 0.0, 0.0, 0.0, 0.0, 0.0, 0.0, 0.0, 0.0, 0.0, 0.0, 0.0, 0.0, 0.0, 0.0, 0.0, 0.0, 0.0, 0.0, 0.0, 0.0, 0.0, 0.0, 0.0, 0.0, 0.0, 0.0, 0.0, 0.0, 0.0, 0.0, 0.0, 0.0, 0.0, -0.0258, 0.0, 0.0, 0.0, 0.0, 0.0, 0.0, 0.0, 0.0, 0.0, 0.0, 0.0, 0.0, 0.0, 0.0, 0.0, 0.0, 0.0, 0.0, 0.0, 0.0, 0.0, 0.0, 0.0, 0.0, 0.0, 0.0, 0.0, 0.0, 0.0, 0.0, 0.0, 0.0, 0.0, 0.0, 0.0, 0.0, 0.0, 0.0, 0.0, 0.0, 0.0, 0.0, 0.0, 0.0, 0.0, 0.0, 0.0, 0.0, 0.0, 0.0, 0.0, 0.0, 0.0, 0.0, 0.0, 0.0, 0.0, 0.0, 0.0, 0.0, 0.0, 0.0, 0.0, 0.0, 0.0, 0.0, 0.0, 0.0, 0.0, 0.0, 0.0, 0.0, 0.0, 0.0, 0.0, 0.0, 0.0, 0.0, 0.0, 0.0, 0.0, 0.0, 0.0, 0.0, 0.0, 0.0, 0.0, 0.0, 0.0, 0.0, 0.0, 0.0, 0.0, 0.0, 0.0, 0.0, 0.0, 0.0, 0.0, 0.0, 0.0, 0.0, 0.0, 0.0, 0.0, 0.0, 0.0, 0.0, 0.0, 0.0, 0.0, 0.0, 0.0, 0.0, 0.0, 0.0, 0.0258, 0.0, 0.0, 0.0, 0.0, 0.0, 0.0, 0.0, 0.0, 0.0, 0.0, 0.0, 0.0, 0.0, 0.0, 0.0, 0.0, 0.0, 0.0, 0.0, 0.0, 0.0, 0.0, 0.0, 0.0, 0.0, 0.0, 0.0, 0.0, 0.0, 0.0, 0.0, -0.0258, 0.0, 0.0, 0.0, 0.0, 0.0, 0.0, 0.0, 0.0, 0.0, 0.0, 0.0, 0.0, 0.0, 0.0, 0.0, 0.0, 0.0, 0.0, 0.0, 0.0, 0.0, 0.0, 0.0, 0.0, 0.0, 0.0, 0.0, 0.0, 0.0, 0.0, 0.0, 0.0, 0.0, 0.0, 0.0, 0.0, 0.0, 0.0, 0.0, 0.0, 0.0, 0.0, 0.0, 0.0, 0.0, 0.0, 0.0, 0.0, 0.0, 0.0, 0.0, 0.0, 0.0, 0.0, 0.0, 0.0, 0.0, 0.0, 0.0, 0.0, 0.0, 0.0, 0.0, 0.0, 0.0, 0.0, 0.0258, 0.0, 0.0, 0.0, 0.0, 0.0, 0.0, 0.0, 0.0, 0.0, 0.0, 0.0, 0.0, 0.0, 0.0, 0.0, 0.0, 0.0, 0.0, 0.0, 0.0, 0.0, 0.0, 0.0, 0.0, 0.0, 0.0, 0.0, 0.0, 0.0, 0.0, 0.0, 0.0, 0.0, 0.0, 0.0, 0.0, 0.0, 0.0, 0.0, 0.0, 0.0, 0.0, 0.0, 0.0, 0.0, 0.0, 0.0, 0.0, 0.0, 0.0, 0.0, 0.0, 0.0, 0.0, 0.0, 0.0, 0.0, 0.0, 0.0, 0.0, 0.0, 0.0, 0.0258, 0.0, 0.0, 0.0, 0.0, 0.0, 0.0, 0.0, 0.0, 0.0, 0.0, 0.0, 0.0, 0.0, 0.0, 0.0, 0.0, 0.0, 0.0, 0.0, 0.0, 0.0, 0.0, 0.0, 0.0, 0.0, 0.0, 0.0, 0.0, 0.0, 0.0, 0.0, 0.0, 0.0, 0.0, 0.0, 0.0, 0.0, 0.0, 0.0, 0.0, 0.0, 0.0, 0.0, -0.0191, 0.0, 0.0, 0.0, 0.0, 0.0, 0.0, 0.0, 0.0, 0.0, 0.0, 0.0, 0.0, 0.0, 0.0, 0.0, 0.0, 0.0, 0.0, 0.0, 0.0, 0.0, 0.0, 0.0, 0.0, 0.0, 0.0, 0.0, 0.0, 0.0, 0.0, 0.0, 0.0, 0.0, 0.0, 0.0, 0.0, 0.0, 0.0, 0.0, 0.0, 0.0, 0.0, 0.0, 0.0, 0.0, 0.0, 0.0, 0.0, 0.0, 0.0, 0.0, 0.0, 0.0, 0.0, 0.0, 0.0, 0.0, 0.0, 0.0, 0.0, 0.0, 0.0, 0.0, 0.0, 0.0, 0.0, 0.0, 0.0, 0.0, 0.0, 0.0, 0.0, 0.0, 0.0, 0.0, 0.0, 0.0, 0.0, 0.0, 0.0, 0.0, 0.0, 0.0, 0.0, 0.0, 0.0, 0.0, 0.0, 0.0, 0.0, 0.0, 0.0, 0.0, 0.0, 0.0, 0.0, 0.0, 0.0, 0.0, 0.0, 0.0, 0.0, 0.0, 0.0, 0.0, 0.0, 0.0, 0.0, 0.0, 0.0, 0.0, 0.0, -0.0258, 0.0, 0.0, 0.0, 0.0, 0.0, 0.0, 0.0, 0.0, 0.0, 0.0, 0.0, 0.0, 0.0, 0.0, 0.0, -0.0258, 0.0, 0.0, 0.0, 0.0, 0.0, 0.0, 0.0, 0.0, 0.0, 0.0, 0.0, 0.0, 0.0, 0.0, 0.0, 0.0, 0.0, 0.0, 0.0, 0.0, 0.0, 0.0, 0.0, 0.0, 0.0, 0.0, 0.0, 0.0, 0.0, 0.0, 0.0, -0.0258, 0.0, 0.0, 0.0, 0.0, 0.0, 0.0, 0.0, 0.0, 0.0, 0.0, 0.0, 0.0, 0.0, 0.0, 0.0, 0.0, 0.0, 0.0, 0.0, 0.0, 0.0, 0.0, 0.0, 0.0, 0.0, 0.0, 0.0, 0.0, 0.0, 0.0, 0.0, 0.0, 0.0, 0.0, 0.0, 0.0, 0.0, 0.0, 0.0, 0.0, 0.0, 0.0, -0.0129, 0.0, 0.0, 0.0, 0.0, 0.0, 0.0, 0.0, 0.0, 0.0, 0.0, 0.0, 0.0, 0.0, 0.0, 0.0, 0.0, 0.0, 0.0, 0.0, 0.0, 0.0, 0.0, 0.0, 0.0, 0.0, 0.0, 0.0, 0.0, 0.0, 0.0, 0.0, 0.0, 0.0, 0.0, 0.0, 0.0, 0.0, 0.0, 0.0, 0.0, 0.0, 0.0, 0.0, 0.0, 0.0, 0.0, 0.0, 0.0, 0.0, 0.0, 0.0, 0.0, 0.0, -0.0368, 0.0, 0.0, 0.0, 0.0, 0.0, 0.0, 0.0, 0.0, 0.0, 0.0, 0.0258, 0.0, 0.0, 0.0, 0.0, 0.0, 0.0, 0.0, 0.0, 0.0, 0.0, 0.0, 0.0, 0.0, 0.0, 0.0, 0.0, 0.0, -0.0258, 0.0, 0.0, 0.0, 0.0, 0.0, 0.0, 0.0, 0.0, 0.0, 0.0, 0.0, 0.0, 0.0, 0.0, 0.0, 0.0, 0.0, 0.0, 0.0, 0.0, -0.0, 0.0, 0.0, 0.0, 0.0, 0.0, 0.0, 0.0, 0.0, 0.0, 0.0, 0.0, 0.0, 0.0, 0.0, 0.0, 0.0, 0.0, 0.0, 0.0, 0.0, 0.0, 0.0, 0.0, 0.0, 0.0, 0.0, 0.0, 0.0, 0.0, 0.0, 0.0, 0.0, 0.0, 0.0, 0.0, 0.0, 0.0, 0.0, 0.0, 0.0, 0.0, 0.0, 0.0, 0.0, 0.0, 0.0, 0.0, 0.0, 0.0, 0.0, 0.0, 0.0, 0.0, 0.0, 0.0, 0.0, 0.0, 0.0, 0.0, 0.0, 0.0, 0.0, 0.0, 0.0, 0.0, 0.0, 0.0, 0.0, 0.0, 0.0, 0.0, 0.0, 0.0, 0.0, 0.0, 0.0, 0.0, 0.0, 0.0, 0.0, 0.0, 0.0, 0.0, 0.0, 0.0, 0.0, 0.0, 0.0, 0.0, 0.0, 0.0, 0.0, 0.0, 0.0, 0.0, 0.0, 0.0, 0.0, 0.0, 0.0, 0.0, 0.0, 0.0, 0.0, 0.0, 0.0, 0.0, 0.0, 0.0, 0.0, 0.0, 0.0, 0.0, 0.0, 0.0, 0.0, 0.0, 0.0, 0.0, 0.0, 0.0, 0.0, 0.0, 0.0, 0.0, 0.0, 0.0, 0.0, 0.0, 0.0, 0.0, 0.0, 0.0, 0.0, 0.0, 0.0, 0.0, 0.0, 0.0, 0.0, 0.0, 0.0, 0.0, 0.0, 0.0, 0.0, 0.0, 0.0, 0.0, 0.0, 0.0, 0.0, 0.0, 0.0, 0.0, 0.0, -0.0258, 0.0, 0.0, 0.0, 0.0, 0.0, 0.0, 0.0, 0.0, 0.0, 0.0, 0.0, 0.0, 0.0258, 0.0, 0.0, 0.0, 0.0, 0.0, 0.0, 0.0, 0.0, 0.0, 0.0, 0.0, 0.0, 0.0, 0.0, 0.0, 0.0, 0.0, 0.0, 0.0, 0.0, 0.0, 0.0, 0.0, 0.0, 0.0, 0.0, 0.0, 0.0, 0.0, 0.0, 0.0, 0.0, 0.0, 0.0, 0.0, 0.0, 0.0, 0.0, 0.0, 0.0, 0.0, 0.0, 0.0, 0.0, 0.0, 0.0, 0.0, 0.0, 0.0, 0.0258, 0.0, 0.0, 0.0, 0.0, 0.0, 0.0, 0.0, 0.0, 0.0, 0.0, 0.0, 0.0, 0.0, 0.0, 0.0, 0.0, 0.0, 0.0, 0.0, 0.0, 0.0, 0.0, 0.0, 0.0, 0.0, 0.0, 0.0, 0.0, 0.0, 0.0, 0.0, 0.0, 0.0, 0.0, 0.0, 0.0, 0.0, 0.0, 0.0, 0.0, 0.0, 0.0, 0.0, 0.0, 0.0, 0.0, 0.0, 0.0, 0.0, 0.0, 0.0, 0.0, 0.0, 0.0, 0.0, 0.0, 0.0, 0.0, 0.0, 0.0, 0.0, 0.0, 0.0, 0.0, 0.0, 0.0, 0.0, 0.0, 0.0, 0.0, 0.0, 0.0, 0.0, 0.0, 0.0, 0.0, 0.0, 0.0, 0.0, 0.0, 0.0, 0.0, 0.0, 0.0, -0.0129, 0.0, 0.0, 0.0, 0.0, 0.0, 0.0, 0.0, 0.0, 0.0, 0.0, 0.0, 0.0, 0.0, 0.0, 0.0, 0.0, 0.0, 0.0, 0.0, 0.0, 0.0, 0.0, 0.0, 0.0, 0.0, 0.0, 0.0, -0.0334, 0.0, 0.0, 0.0, 0.0, 0.0, 0.0, 0.0, 0.0, 0.0, 0.0, 0.0, 0.0, 0.0, 0.0, 0.0, 0.0, 0.0, 0.0, 0.0, 0.0, 0.0, 0.0, 0.0, -0.0258, 0.0, 0.0, 0.0, 0.0, 0.0, 0.0, 0.0, 0.0, 0.0, 0.0, 0.0, 0.0, 0.0, 0.0, 0.0, 0.0, 0.0, 0.0, 0.0, 0.0, 0.0, 0.0, 0.0, 0.0, 0.0, 0.0, 0.0, 0.0, 0.0, 0.0, 0.0, 0.0, 0.0, 0.0258, 0.0, 0.0, 0.0, 0.0, 0.0, 0.0, 0.0, 0.0, 0.0, 0.0, 0.0, 0.0, 0.0, 0.0, 0.0, 0.0, 0.0, 0.0, 0.0, 0.0, 0.0, 0.0, 0.0, 0.0, 0.0, 0.0, 0.0, 0.0, 0.0, 0.0, 0.0, 0.0, 0.0, 0.0, 0.0, 0.0, 0.0, 0.0, 0.0, 0.0, 0.0, 0.0, 0.0, 0.0, 0.0, 0.0, 0.0, 0.0, 0.0, 0.0, 0.0, 0.0, 0.0, 0.0, 0.0, 0.0, 0.0, 0.0, 0.0, 0.0, 0.0, 0.0, 0.0, 0.0, 0.0, 0.0, 0.0, 0.0, 0.0, 0.0, 0.0, 0.0387, 0.0, 0.0, 0.0, 0.0, 0.0, 0.0, 0.0, 0.0, 0.0, 0.0, 0.0, 0.0, 0.0, 0.0, 0.0, 0.0, 0.0, 0.0, 0.0, 0.0, 0.0, 0.0, 0.0, 0.0, 0.0, 0.0, 0.0, 0.0, 0.0, 0.0, 0.0, 0.0, 0.0, 0.0, 0.0, 0.0, 0.0, 0.0, 0.0, 0.0, 0.0, 0.0, 0.0, 0.0, 0.0, 0.0, 0.0, 0.0, 0.0, 0.0, 0.0, 0.0, 0.0, 0.0, 0.0, 0.0, 0.0, 0.0, 0.0, 0.0, 0.0, 0.0, 0.0, 0.0, 0.0, 0.0, 0.0, 0.0, 0.0, 0.0, 0.0, 0.0, 0.0, 0.0, 0.0, 0.0, 0.0, 0.0, 0.0, 0.0, 0.0, 0.0, 0.0, 0.0, 0.0, 0.0, 0.0, 0.0, 0.0, 0.0, 0.0, 0.0, 0.0, 0.0, 0.0, 0.0, 0.0, 0.0, 0.0, 0.0, 0.0, 0.0, 0.0, 0.0, 0.0, 0.0, 0.0, 0.0, 0.0, 0.0, 0.0, 0.0, 0.0, 0.0, 0.0, 0.0, 0.0, 0.0, 0.0, 0.0, 0.0, 0.0, 0.0, 0.0, 0.0, 0.0, 0.0, 0.0, 0.0, 0.0, 0.0, 0.0, 0.0, 0.0, 0.0, 0.0, 0.0, 0.0, 0.0, 0.0, 0.0, 0.0, 0.0, 0.0, 0.0, 0.0, 0.0, 0.0, 0.0498, 0.0, 0.0, 0.0, 0.0, 0.0, 0.0, 0.0, 0.0, 0.0, 0.0, 0.0, 0.0, 0.0, 0.0, 0.0, 0.0, 0.0, 0.0, 0.0, 0.0, 0.0, 0.0, 0.0, 0.0, 0.0, 0.0, 0.0, 0.0, 0.0, 0.0, 0.0, 0.0, 0.0, 0.0258, 0.0, 0.0, 0.0, 0.0, 0.0, 0.0, 0.0, 0.0, 0.0, 0.0, 0.0, 0.0, 0.0, 0.0, 0.0, 0.0, 0.0, 0.0, 0.0, 0.0, 0.0, 0.0, 0.0, 0.0, 0.0, 0.0, 0.0, 0.0, 0.0, 0.0, 0.0, 0.0, 0.0, 0.0, 0.0, 0.0, 0.0, 0.0, 0.0, 0.0, 0.0, 0.0, 0.0, 0.0, 0.0, 0.0, 0.0, 0.0, 0.0, 0.0, 0.0, 0.0, 0.0, 0.0, 0.0, 0.0, 0.0, 0.0, 0.0, 0.0, 0.0, 0.0, 0.0, 0.0, 0.0, 0.0, 0.0, 0.0, 0.0, 0.0, 0.0, 0.0, 0.0, 0.0, 0.0, 0.0, 0.0, 0.0, 0.0, 0.0, 0.0, 0.0, 0.0, 0.0, 0.0, 0.0, 0.0, 0.0, 0.0, 0.0, 0.0, 0.0, 0.0, 0.0, 0.0, 0.0, 0.0, 0.0, 0.0, 0.0, 0.0, 0.0, 0.0, 0.0, 0.0, 0.0, 0.0, 0.0, 0.0, 0.0, 0.0, 0.0, 0.0, 0.0, 0.0, 0.0, 0.0, 0.0, 0.0, 0.0, 0.0, 0.0, 0.0, 0.0, 0.0, 0.0, 0.0, 0.0, 0.0, 0.0, 0.0, 0.0, 0.0, 0.0, 0.0, 0.0, 0.0, 0.0, 0.0, 0.0, 0.0, 0.0, 0.0, 0.0, 0.0, 0.0, 0.0, 0.0, 0.0, 0.0, 0.0, 0.0, 0.0, 0.0, 0.0, 0.0, 0.0, 0.0, 0.0, 0.0, 0.0, 0.0, 0.0, 0.0, 0.0, 0.0, 0.0, 0.0, 0.0, 0.0, 0.0, 0.0, 0.0, 0.0, 0.0, 0.0, 0.0, 0.0, 0.0, 0.0, 0.0, 0.0, 0.0, 0.0, 0.0, 0.0, 0.0, 0.0, 0.0, 0.0, 0.0, 0.0, 0.0, 0.0, 0.0, 0.0, 0.0, 0.0, 0.0, 0.0, 0.0, 0.0, 0.0, 0.0, 0.0, 0.0, 0.0, 0.0, 0.0, 0.0, 0.0, 0.0, 0.0, 0.0, 0.0, 0.0, 0.0, 0.0, 0.0, 0.0, 0.0, 0.0, 0.0, 0.0, 0.0, 0.0, 0.0, 0.0, 0.0, 0.0, 0.0, 0.0, 0.0, 0.0, 0.0, 0.0, 0.0, 0.0, 0.0, 0.0, 0.0, 0.0, 0.0, 0.0, 0.0, 0.0, 0.0, 0.0, 0.0, 0.0, 0.0, 0.0, 0.0, 0.0, 0.0, 0.0, 0.0, 0.0, 0.0, 0.0, 0.0, 0.0, 0.0, 0.0, 0.0, 0.0, 0.0, 0.0, 0.0, 0.0, 0.0, 0.0, 0.0382, 0.0, 0.0, 0.0, 0.0, 0.0, 0.0, 0.0, 0.0, 0.0, 0.0, 0.0, 0.0, 0.0, 0.0, 0.0, 0.0, 0.0, 0.0, 0.0, 0.0, 0.0, 0.0, 0.0, 0.0, 0.0, 0.0, 0.0, 0.0, 0.0, 0.0, 0.0, 0.0, 0.0, 0.0, 0.0, 0.0, 0.0, 0.0, 0.0, 0.0, 0.0, 0.0, 0.0, 0.0, 0.0, 0.0, 0.0, 0.0, 0.0, 0.0, 0.0, 0.0, 0.0, 0.0, 0.0, 0.0, 0.0, 0.0, 0.0, 0.0, 0.0, 0.0, 0.0, 0.0, 0.0, 0.0, 0.0, 0.0, 0.0, 0.0, 0.0, 0.0, 0.0, 0.0, 0.0, 0.0, 0.0, 0.0, 0.0, 0.0, 0.0, 0.0, 0.0, 0.0, 0.0, 0.0, 0.0, 0.0, 0.0, 0.0, 0.0, 0.0, 0.0, 0.0, 0.0, 0.0, 0.0, 0.0, 0.0, 0.0, 0.0, 0.0, 0.0, 0.0, 0.0, 0.0, 0.0, 0.0, 0.0, 0.0, 0.0, 0.0, 0.0, 0.0, 0.0, 0.0, 0.0, 0.0, 0.0, 0.0, 0.0, 0.0, 0.0, 0.0, 0.0, 0.0, 0.0, 0.0, 0.0, 0.0, 0.0, 0.0, 0.0, 0.0, 0.0, 0.0, 0.0, 0.0, 0.0, 0.0, 0.0, 0.0, 0.0, 0.0, 0.0, 0.0, 0.0, 0.0, 0.0, 0.0, 0.0, 0.0, 0.0, 0.0, 0.0258, 0.0, 0.0, 0.0, 0.0, 0.0, 0.0, 0.0, 0.0, 0.0, 0.0, 0.0, 0.0, 0.0, 0.0, 0.0, 0.0, 0.0, 0.0, 0.0, 0.0, 0.0, 0.0, 0.0, 0.0, 0.0, 0.0, 0.0, 0.0, 0.0, 0.0, 0.0, 0.0, 0.0, 0.0, 0.0, 0.0, 0.0, 0.0, 0.0, 0.0, 0.0, 0.0, 0.0, 0.0, 0.0, 0.0, 0.0, 0.0, 0.0, 0.0, 0.0, 0.0, 0.0, 0.0, 0.0, 0.0, 0.0, -0.0258, 0.0, 0.0, 0.0, 0.0, 0.0, 0.0, 0.0, 0.0, 0.0, 0.0, 0.0, 0.0, 0.0, 0.0, 0.0, 0.0, 0.0, 0.0, 0.0, 0.0, 0.0, 0.0, 0.0, 0.0, 0.0, 0.0, 0.0, 0.0, 0.0, 0.0, 0.0, 0.0, 0.0, 0.0, 0.0, 0.0, 0.0, 0.0, 0.0, 0.0, 0.0, 0.0, 0.0, 0.0, 0.0, 0.0, 0.0, 0.0, 0.0, 0.0, 0.0, 0.0, 0.0, 0.0, 0.0, 0.0, 0.0, 0.0, 0.0, 0.0, 0.0, 0.0, 0.0, 0.0, 0.0, 0.0, 0.0, 0.0, 0.0, 0.0, 0.0, 0.0, 0.0, 0.0, 0.0, 0.0, 0.0, 0.0, 0.0, 0.0, 0.0, 0.0, 0.0, 0.0, 0.0, 0.0, 0.0, 0.0, 0.0, 0.0, 0.0, 0.0, 0.0, 0.0, 0.0, 0.0, 0.0, 0.0, 0.0, 0.0, 0.0, 0.0, 0.0, 0.0, 0.0, 0.0, 0.0, 0.0, 0.0, 0.0, 0.0, 0.0, 0.0, 0.0, 0.0, 0.0, 0.0, 0.0, 0.0, 0.0, 0.0, 0.0, 0.0, 0.0, 0.0, 0.0, 0.0, 0.0, 0.0, 0.0, 0.0, 0.0, 0.0, 0.0, 0.0, 0.0, 0.0, 0.0, 0.0, 0.0, 0.0, 0.0, 0.0, 0.0, 0.0, 0.0, 0.0, 0.0, 0.0, 0.0, 0.0, 0.0, 0.0, 0.0, 0.0, 0.0, 0.0, 0.0, 0.0, 0.0, 0.0, 0.0, 0.0, 0.0, 0.0, 0.0, 0.0, 0.0, 0.0, 0.0, 0.0, 0.0, 0.0, 0.0, 0.0, 0.0, 0.0, 0.0, 0.0, 0.0, 0.0, 0.0, 0.0, 0.0, 0.0, 0.0, 0.0, 0.0, 0.0, 0.0, 0.0, 0.0, 0.0, 0.0, 0.0, 0.0, 0.0, 0.0, 0.0, 0.0, 0.0, 0.0, 0.0, 0.0, 0.0, 0.0, 0.0, 0.0, 0.0, 0.0, 0.0, 0.0, 0.0, 0.0, 0.0, 0.0, 0.0, 0.0, 0.0, 0.0, 0.0, 0.0, 0.0, 0.0, 0.0, 0.0, 0.0, 0.0, 0.0, 0.0, 0.0, 0.0, 0.0], \"xaxis\": \"x\", \"yaxis\": \"y\"}, {\"alignmentgroup\": \"True\", \"bingroup\": \"x\", \"hovertemplate\": \"Overall Sentiment=Negative<br>Compound Score=%{x}<br>count=%{y}<extra></extra>\", \"legendgroup\": \"Negative\", \"marker\": {\"color\": \"#EF553B\"}, \"name\": \"Negative\", \"offsetgroup\": \"Negative\", \"orientation\": \"v\", \"showlegend\": true, \"type\": \"histogram\", \"x\": [-0.4118, -0.1531, -0.5994, -0.128, -0.3818, -0.6124, -0.4019, -0.296, -0.2732, -0.5994, -0.7579, -0.3818, -0.34, -0.6486, -0.6124, -0.6027, -0.3182, -0.0571, -0.296, -0.5859, -0.128, -0.6124, -0.0772, -0.6514, -0.5106, -0.2263, -0.2263, -0.3612, -0.4019, -0.5719, -0.3612, -0.4019, -0.4767, -0.25, -0.3071, -0.5574, -0.6808, -0.2382, -0.296, -0.5267, -0.4767, -0.1255, -0.6597, -0.4019, -0.4019, -0.5423, -0.4588, -0.3252, -0.1154, -0.5574, -0.296, -0.2411, -0.5423, -0.4404, -0.4939, -0.5106, -0.0772, -0.2023, -0.4019, -0.4019, -0.2732, -0.296, -0.3597, -0.4215, -0.3818, -0.4404, -0.7184, -0.3182, -0.34, -0.4588, -0.6486, -0.296, -0.3818, -0.0762, -0.3612, -0.296, -0.6597, -0.2235, -0.4588, -0.25, -0.3818, -0.34, -0.4019, -0.3818, -0.6369, -0.5994, -0.5574, -0.2584, -0.5574, -0.3612, -0.4404, -0.2732, -0.34, -0.2732, -0.296, -0.296, -0.0516, -0.7003, -0.5574, -0.5423, -0.6124, -0.3182, -0.0523, -0.34, -0.6597, -0.8519, -0.296, -0.4717, -0.2411, -0.34, -0.296, -0.7579, -0.5859, -0.3818, -0.2263, -0.2263, -0.0516, -0.296, -0.2732, -0.3818, -0.2732, -0.296, -0.4588, -0.5859, -0.296, -0.1027, -0.9136, -0.3612, -0.3818, -0.4939, -0.6808, -0.5423, -0.3818, -0.3818, -0.4939, -0.4767, -0.296, -0.6728, -0.6249, -0.0516, -0.5423, -0.5719, -0.2235, -0.1531, -0.6964, -0.2411, -0.5859, -0.4588, -0.2411, -0.5994, -0.3182, -0.4019, -0.296, -0.0772, -0.1531, -0.2411, -0.3818, -0.0516, -0.4215, -0.3818, -0.7003, -0.2235, -0.2732, -0.6597, -0.3818, -0.4588, -0.296, -0.2732, -0.34, -0.3182, -0.3182, -0.296, -0.128, -0.3182, -0.4019, -0.2732, -0.5719, -0.3182, -0.6369, -0.2617, -0.25, -0.5859, -0.5423, -0.5994, -0.5423, -0.5267, -0.2263, -0.5423, -0.34, -0.4588, -0.5423, -0.5423, -0.5423, -0.4404, -0.6369, -0.7615, -0.2732, -0.1695, -0.2732, -0.296, -0.3818, -0.3182, -0.296, -0.6249, -0.3612, -0.5994, -0.7003, -0.4767, -0.34, -0.5574, -0.5413, -0.0516, -0.5859, -0.1027, -0.3182, -0.4215, -0.6597, -0.8591, -0.2023, -0.0516, -0.25, -0.5994, -0.296, -0.5859, -0.5423, -0.2263, -0.8481, -0.4404, -0.3134, -0.296, -0.5859, -0.3182, -0.0772, -0.5574, -0.4767, -0.3182, -0.4019, -0.4404, -0.34, -0.296, -0.5994, -0.34, -0.296, -0.5423, -0.5423, -0.5859, -0.34, -0.1027, -0.4767, -0.3182, -0.4939, -0.296, -0.3818, -0.5574, -0.315, -0.3818, -0.5423, -0.5423, -0.6808, -0.6597, -0.25, -0.8126, -0.296, -0.4767, -0.34, -0.3818, -0.2263, -0.5994, -0.3875, -0.4767, -0.5267, -0.0516, -0.5423, -0.3491, -0.4767, -0.3818, -0.1695, -0.3182, -0.2815, -0.296, -0.296, -0.4939, -0.481, -0.0516, -0.2411, -0.5994, -0.5423, -0.1027, -0.5574, -0.5106, -0.3182, -0.0772, -0.296, -0.5423, -0.5106, -0.5423, -0.2732, -0.128, -0.0772, -0.1027, -0.4019, -0.0516, -0.5994, -0.5423, -0.7351, -0.6597, -0.4404, -0.7506, -0.3182, -0.34, -0.6956, -0.1027, -0.6705, -0.4588, -0.1027, -0.8481, -0.4767, -0.4939, -0.7579, -0.4019, -0.3412, -0.5423, -0.25, -0.0516, -0.3182, -0.1531, -0.4404, -0.6486, -0.2732, -0.5994, -0.5106, -0.7391, -0.4767, -0.128, -0.25, -0.3412, -0.5423, -0.5423, -0.5859, -0.4019, -0.1027, -0.5719, -0.3818, -0.4588, -0.2732, -0.4767, -0.6369, -0.5994, -0.296, -0.5423, -0.5423, -0.3182, -0.5267, -0.5423, -0.296, -0.5423, -0.5994, -0.3182, -0.2006, -0.4767, -0.6908, -0.0516, -0.2023, -0.3818, -0.3919, -0.7506, -0.4019, -0.2732, -0.5423, -0.4404, -0.3182, -0.296, -0.8519, -0.5423, -0.1531, -0.5423, -0.296, -0.1531, -0.25, -0.481, -0.4588, -0.1027, -0.5563, -0.296, -0.5106, -0.1531, -0.3818, -0.4019, -0.128, -0.4588, -0.3612, -0.3612, -0.2732, -0.3612, -0.624, -0.296, -0.5267, -0.3818, -0.6369, -0.4019, -0.34, -0.5106, -0.296, -0.5423, -0.3818, -0.296, -0.4404, -0.3612, -0.5423, -0.296, -0.6597, -0.4019, -0.296, -0.3182, -0.5423, -0.296, -0.4588, -0.5984, -0.8225, -0.2732, -0.3612, -0.7096, -0.296, -0.4767, -0.4939, -0.2732, -0.1027, -0.5423, -0.8779, -0.296, -0.2732, -0.5106, -0.5994, -0.2263, -0.5423, -0.296, -0.2263, -0.296, -0.4404, -0.3182, -0.5499, -0.296, -0.0772, -0.8126, -0.5267, -0.2732, -0.2732, -0.765, -0.2263, -0.5423, -0.5709, -0.1027, -0.4019, -0.1027, -0.2732, -0.5106, -0.4019, -0.296, -0.3818, -0.6369, -0.6124, -0.3182, -0.1531, -0.34, -0.5859, -0.5994, -0.3818, -0.4404, -0.4404, -0.1531, -0.4767, -0.5994, -0.4019, -0.5574, -0.4215, -0.3182, -0.5994, -0.5859, -0.6808, -0.5423, -0.6369, -0.8316, -0.5267, -0.296, -0.0772, -0.5423, -0.4588, -0.34, -0.1027, -0.2263, -0.3089, -0.2263, -0.296, -0.0516, -0.5984, -0.4767, -0.5994, -0.5859, -0.5106, -0.5574, -0.2732, -0.2887, -0.4767, -0.7579, -0.5994, -0.296, -0.5106, -0.296, -0.5994, -0.5423, -0.7579, -0.5106, -0.296, -0.4404, -0.6361, -0.5994, -0.5859, -0.7964, -0.296, -0.296, -0.2732, -0.4404, -0.2732, -0.2263, -0.34, -0.5106, -0.128, -0.2732, -0.0516, -0.5267, -0.5574, -0.5423, -0.4215, -0.296, -0.0772, -0.6808, -0.3818, -0.296, -0.5719, -0.2617, -0.5563, -0.5423, -0.1531, -0.25, -0.1531, -0.4404, -0.3182, -0.5423, -0.5423, -0.25, -0.3875, -0.3182, -0.5859, -0.5423, -0.6072, -0.5574, -0.4939, -0.5423, -0.296, -0.296, -0.4939, -0.7184, -0.4767, -0.228, -0.3182, -0.3818, -0.7269, -0.5719, -0.5859, -0.1027, -0.3182, -0.5719, -0.2263, -0.1027, -0.3818, -0.631, -0.2732, -0.6705, -0.5423, -0.4404, -0.765, -0.3818, -0.7906, -0.5994, -0.3818, -0.5574, -0.3818, -0.5423, -0.25, -0.4588, -0.3818, -0.2023, -0.2411, -0.0516, -0.4767, -0.5423, -0.3182, -0.5859, -0.6705, -0.296, -0.25, -0.5994, -0.0516, -0.5423, -0.5859, -0.128, -0.2732, -0.2732, -0.3612, -0.6935, -0.296, -0.3612, -0.4391, -0.4019, -0.4215, -0.296, -0.3818, -0.1406, -0.3612, -0.5574, -0.4019, -0.3612, -0.3612, -0.296, -0.1779, -0.4767, -0.296, -0.5423, -0.3612, -0.4588, -0.5423, -0.3612, -0.4019, -0.4767, -0.296, -0.3612, -0.296, -0.3612, -0.1531, -0.5423, -0.4019, -0.0772, -0.2732, -0.1043, -0.34, -0.5574, -0.3182, -0.2732, -0.5267, -0.5719, -0.4404, -0.1531, -0.4939, -0.3612, -0.5994, -0.8979, -0.5994, -0.7964, -0.5574, -0.5423, -0.6808, -0.3612, -0.3818, -0.296, -0.2732, -0.4215, -0.4588, -0.5423, -0.2337, -0.2263, -0.3182, -0.5267, -0.4404, -0.296, -0.5267, -0.5423, -0.5719, -0.6597, -0.6124, -0.4767, -0.2732, -0.5423, -0.5994, -0.296, -0.3612, -0.4767, -0.2732, -0.296, -0.34, -0.25, -0.2732, -0.3818, -0.7003, -0.3182, -0.6908, -0.128, -0.3931, -0.2732, -0.296, -0.0516, -0.4019, -0.2732, -0.5859, -0.7184, -0.4215, -0.4767, -0.2023, -0.5423, -0.296, -0.7964, -0.296, -0.296, -0.4019, -0.4588, -0.2732, -0.6597, -0.4939, -0.2023, -0.5574, -0.5267, -0.3612, -0.0516, -0.3612, -0.765, -0.5267, -0.2732, -0.4717, -0.7579, -0.3612, -0.4767, -0.5423, -0.4019, -0.5994, -0.296, -0.7845, -0.25, -0.5859, -0.296, -0.34, -0.2732, -0.296, -0.4767, -0.4019, -0.5228, -0.3818, -0.4588, -0.481, -0.431, -0.7957, -0.1027, -0.7845, -0.1531, -0.5574, -0.5106, -0.3182, -0.5423, -0.765, -0.3182, -0.296, -0.4767, -0.4767, -0.3182, -0.2023, -0.6597, -0.5267, -0.296, -0.5423, -0.128, -0.296, -0.0516, -0.4767, -0.296, -0.4767, -0.5423, -0.7096, -0.5423, -0.3612, -0.3491, -0.3818, -0.8269, -0.4019, -0.25, -0.6652, -0.4939, -0.1027, -0.296, -0.2732, -0.7269, -0.3818, -0.8807, -0.7579, -0.296, -0.296, -0.3818, -0.2732, -0.2732, -0.5574, -0.2057, -0.8173, -0.2732, -0.34, -0.2263, -0.5423, -0.4019, -0.4588, -0.4019, -0.3818, -0.296, -0.2617, -0.7906, -0.2732, -0.6908, -0.4215, -0.2732, -0.2263, -0.2732, -0.3818, -0.2023, -0.4019, -0.34, -0.3818, -0.5719, -0.2732, -0.5719, -0.3612, -0.296, -0.6997, -0.2732, -0.3818, -0.4019, -0.6454, -0.296, -0.5859, -0.4588, -0.6369, -0.25, -0.6124, -0.8036, -0.4404, -0.5423, -0.2498, -0.7783, -0.5994, -0.1027, -0.296, -0.296, -0.5423, -0.6369, -0.6597, -0.5719, -0.3818, -0.2732, -0.3818, -0.5423, -0.296, -0.4767, -0.296, -0.296, -0.296, -0.2732, -0.5719, -0.296, -0.3724, -0.34, -0.1012, -0.3818, -0.2732, -0.0516, -0.2732, -0.7003, -0.296, -0.1154, -0.3612, -0.2411, -0.296, -0.4939, -0.5423, -0.296, -0.34, -0.6369, -0.5859, -0.296, -0.128, -0.0516, -0.25, -0.5165, -0.3818, -0.4019, -0.5423, -0.2732, -0.2755, -0.3818, -0.5859, -0.4767, -0.128, -0.2732, -0.7964, -0.6908, -0.3612, -0.0516, -0.4404, -0.4939, -0.5423, -0.296, -0.25, -0.2584, -0.2382, -0.3182, -0.3612, -0.4404, -0.5574, -0.228, -0.6808, -0.296, -0.7184, -0.4404, -0.5106, -0.5423, -0.2263, -0.1027, -0.296, -0.7269, -0.34, -0.3182, -0.2263, -0.3818, -0.7783, -0.5719, -0.3818, -0.4019, -0.3818, -0.5859, -0.3818, -0.3612, -0.4939, -0.7184, -0.296, -0.4019, -0.296, -0.5859, -0.2263, -0.2263, -0.1779, -0.6486, -0.5859, -0.2083, -0.7184, -0.5423, -0.296, -0.3818, -0.4215, -0.323, -0.8885, -0.5994, -0.0516, -0.2023, -0.1779, -0.296, -0.128, -0.6369, -0.296, -0.296, -0.0516, -0.296, -0.2755, -0.4939, -0.5859, -0.8736, -0.3612, -0.6249, -0.296, -0.4588, -0.4939, -0.3559, -0.7269, -0.4215, -0.296, -0.2732, -0.7906, -0.296, -0.4588, -0.296, -0.4939, -0.5423, -0.3818, -0.5423, -0.4767, -0.296, -0.296, -0.4939, -0.296, -0.2259, -0.5423, -0.4215, -0.296, -0.0516, -0.2732, -0.296, -0.5423, -0.5256, -0.3612, -0.5096, -0.2023, -0.5267, -0.0516, -0.34, -0.1531, -0.7579, -0.4019, -0.4767, -0.6808, -0.4588, -0.5574, -0.2584, -0.1027, -0.1786, -0.0772, -0.5574, -0.4404, -0.5423, -0.2732, -0.296, -0.7579, -0.2732, -0.25, -0.765, -0.2411, -0.4019, -0.25, -0.1779, -0.6486, -0.6808, -0.8442, -0.4019, -0.0516, -0.5859, -0.3612, -0.5859, -0.5423, -0.296, -0.7269, -0.2263, -0.296, -0.5719, -0.6249, -0.3818, -0.1027, -0.3875, -0.8004, -0.4404, -0.3182, -0.6486, -0.4215, -0.6249, -0.7003, -0.7783, -0.3291, -0.4939, -0.5423, -0.3182, -0.5574, -0.6124, -0.6486, -0.6705, -0.5423, -0.296, -0.5859, -0.5423, -0.5267, -0.6705, -0.2263, -0.5267, -0.5994, -0.4215, -0.2023, -0.1779, -0.1779, -0.5574, -0.296, -0.3182, -0.2732, -0.2732, -0.7184, -0.4215, -0.4939, -0.5859, -0.5423, -0.4939, -0.3818, -0.296, -0.4019, -0.4404, -0.6369, -0.5994, -0.4019, -0.6908, -0.6428, -0.5423, -0.802, -0.34, -0.4588, -0.6705, -0.5719, -0.6249, -0.1027, -0.296, -0.4019, -0.296, -0.2023, -0.3818, -0.296, -0.25, -0.3818, -0.4588, -0.296, -0.8074, -0.2516, -0.4939, -0.3716, -0.5267, -0.4019, -0.5574, -0.4939, -0.2732, -0.5574, -0.4767, -0.2732, -0.34, -0.5994, -0.2732, -0.4767, -0.4404, -0.5719, -0.4404, -0.8885, -0.6597, -0.3612, -0.3612, -0.0516, -0.8625, -0.3178, -0.5994, -0.2955, -0.6705, -0.2732, -0.6369, -0.3612, -0.2368, -0.2732, -0.296, -0.7003, -0.4767, -0.4019, -0.4404, -0.128, -0.2263, -0.296, -0.5984, -0.8971, -0.3818, -0.5994, -0.2955, -0.4588, -0.323, -0.6369, -0.5106, -0.1027, -0.5994, -0.128, -0.4588, -0.2732, -0.1531, -0.3863, -0.3832, -0.3182, -0.5267, -0.4581, -0.296, -0.5423, -0.4588, -0.0516, -0.5267, -0.128, -0.5423, -0.4767, -0.8625, -0.3182, -0.5106, -0.4588, -0.296, -0.5719, -0.5423, -0.5994, -0.296, -0.5106, -0.4767, -0.8442, -0.3818, -0.296, -0.2263, -0.5423, -0.3818, -0.8268, -0.5994, -0.0516, -0.7721, -0.3612, -0.0772, -0.296, -0.5423, -0.3535, -0.2732, -0.2732, -0.296, -0.5423, -0.5106, -0.5859, -0.4939, -0.5859, -0.4019, -0.4588, -0.4215, -0.4019, -0.4404, -0.5423, -0.8386, -0.4019, -0.0803, -0.3818, -0.5574, -0.25, -0.5423, -0.3818, -0.2263, -0.0516, -0.296, -0.2263, -0.296, -0.7783, -0.2263, -0.4767, -0.4019, -0.5267, -0.6124, -0.3818, -0.2732, -0.7906, -0.5423, -0.5859, -0.3182, -0.4404, -0.5994, -0.3818, -0.5994, -0.3182, -0.1027, -0.5574, -0.296, -0.2083, -0.2263, -0.34, -0.4019, -0.2263, -0.4767, -0.2382, -0.5423, -0.4767, -0.9062, -0.5267, -0.4019, -0.5106, -0.3182, -0.2924, -0.3182, -0.296, -0.5423, -0.296, -0.296, -0.2411, -0.2732, -0.128, -0.8122, -0.5106, -0.3818, -0.296, -0.5859, -0.7992, -0.2732, -0.0516, -0.802, -0.3818, -0.4767, -0.7964, -0.2732, -0.296, -0.4767, -0.296, -0.296, -0.5542, -0.7506, -0.4767, -0.4019, -0.296, -0.1027, -0.5994, -0.5423, -0.296, -0.0516, -0.1901, -0.296, -0.6597, -0.296, -0.6705, -0.6908, -0.2732, -0.0516, -0.7506, -0.5267, -0.296, -0.5859, -0.4404, -0.34, -0.5719, -0.6124, -0.3612, -0.4019, -0.0516, -0.0516, -0.5994, -0.25, -0.4767, -0.3612, -0.7249, -0.5423, -0.1082, -0.6597, -0.5859, -0.25, -0.4019, -0.4215, -0.2732, -0.4767, -0.2263, -0.5994, -0.5679, -0.5423, -0.5267, -0.6908, -0.5423, -0.3182, -0.3182, -0.4767, -0.749, -0.1082, -0.5267, -0.4767, -0.4019, -0.7249, -0.4588, -0.8126, -0.4627, -0.5106, -0.1027, -0.296, -0.5994, -0.2263, -0.128, -0.8779, -0.4019, -0.9432, -0.4767, -0.4215, -0.8128, -0.5423, -0.3182, -0.5106, -0.296, -0.1531, -0.7351, -0.128, -0.5574, -0.2263, -0.5729, -0.8779, -0.3612, -0.5423, -0.4019, -0.3818, -0.3818, -0.5423, -0.4023, -0.1027, -0.802, -0.3182, -0.8481, -0.1531, -0.296, -0.7506, -0.1779, -0.2263, -0.3818, -0.4767, -0.7184, -0.1154, -0.4019, -0.3818, -0.34, -0.4939, -0.5267, -0.4404, -0.4019, -0.2263, -0.3182, -0.8658, -0.5574, -0.4588, -0.5574, -0.4939, -0.6597, -0.8055, -0.5267, -0.5719, -0.4404, -0.3818, -0.296, -0.25, -0.5423, -0.5267, -0.4767, -0.8625, -0.4767, -0.34, -0.3818, -0.4767, -0.4874, -0.5423, -0.4019, -0.6597, -0.5423, -0.2263, -0.5423, -0.7269, -0.3818, -0.3818, -0.5267, -0.815, -0.34, -0.4019, -0.4404, -0.25, -0.5423, -0.1531, -0.1868, -0.2732, -0.296, -0.5994, -0.5423, -0.3182, -0.3071, -0.657, -0.0516, -0.2732, -0.5267, -0.0891, -0.4404, -0.5994, -0.4404, -0.5994, -0.6908, -0.5574, -0.5423, -0.1531, -0.2716, -0.5423, -0.3182, -0.5267, -0.25, -0.34, -0.0772, -0.0516, -0.5574, -0.5423, -0.6249, -0.4939, -0.3182, -0.4588, -0.4767, -0.3818, -0.5267, -0.4939, -0.1406, -0.891, -0.5994, -0.296, -0.5423, -0.0772, -0.3818, -0.5423, -0.128, -0.7845, -0.3612, -0.34, -0.25, -0.4767, -0.3353, -0.6808, -0.3818, -0.5994, -0.5574, -0.296, -0.296, -0.296, -0.6705, -0.3818, -0.8807, -0.8225, -0.6657, -0.836, -0.296, -0.1531, -0.5532, -0.1531, -0.8074, -0.1531, -0.6361, -0.4588, -0.7906, -0.8588, -0.1779, -0.4404, -0.5423, -0.25, -0.4767, -0.1531, -0.2263, -0.3182, -0.1531, -0.296, -0.3818, -0.3612, -0.4767, -0.6908, -0.6361, -0.7003, -0.836, -0.3612, -0.4019, -0.25, -0.4404, -0.34, -0.4404, -0.4767, -0.4404, -0.3346, -0.25, -0.2263, -0.5423, -0.5859, -0.1531, -0.3612, -0.5574, -0.5423, -0.4588, -0.5423, -0.4019, -0.6808, -0.3818, -0.4939, -0.3818, -0.6597, -0.5106, -0.4939, -0.4754, -0.5574, -0.0516, -0.3818, -0.5423, -0.3612, -0.8555, -0.4588, -0.2732, -0.2732, -0.3818, -0.7506, -0.1531, -0.296, -0.8294, -0.3182, -0.0516, -0.7506, -0.8442, -0.4404, -0.296, -0.25, -0.0772, -0.296, -0.25, -0.3612, -0.6369, -0.8294, -0.5267, -0.5106, -0.3818, -0.4404, -0.0516, -0.2006, -0.6597, -0.4767, -0.296, -0.4767, -0.5994, -0.5106, -0.4201, -0.2052, -0.1027, -0.6249, -0.3818, -0.4767, -0.1655, -0.5574, -0.2263, -0.4767, -0.6213, -0.296, -0.296, -0.3818, -0.296, -0.25, -0.0516, -0.2263, -0.8316, -0.3818, -0.2263, -0.1531, -0.0772, -0.296, -0.1655, -0.2023, -0.4767, -0.34, -0.25, -0.3818, -0.296, -0.5423, -0.4588, -0.5423, -0.1779, -0.3182, -0.34, -0.3818, -0.5574, -0.7184, -0.6808, -0.25, -0.5574, -0.2263, -0.4588, -0.5423, -0.5994, -0.296, -0.3911, -0.1027, -0.8402, -0.631, -0.5423, -0.5423, -0.296, -0.2732, -0.2732, -0.5423, -0.7783, -0.0516, -0.3182, -0.2263, -0.5423, -0.3818, -0.25, -0.8126, -0.4019, -0.4717, -0.1154, -0.296, -0.5267, -0.3818, -0.3182, -0.5423, -0.34, -0.4767, -0.5423, -0.9118, -0.3818, -0.6124, -0.0516, -0.3182, -0.34, -0.1531, -0.1531, -0.8283, -0.7184, -0.4939, -0.2732, -0.2732, -0.5267, -0.0772, -0.4939, -0.3353, -0.25, -0.5423, -0.296, -0.2732, -0.5719, -0.4404, -0.2732, -0.5423, -0.2732, -0.5267, -0.296, -0.2263, -0.5574, -0.2204, -0.296, -0.296, -0.5267, -0.5267, -0.5574, -0.6249, -0.2263, -0.4767, -0.3182, -0.2263, -0.1406, -0.296, -0.9011, -0.3182, -0.6808, -0.34, -0.25, -0.34, -0.296, -0.3182, -0.5423, -0.5267, -0.2263, -0.3818, -0.0772, -0.3612, -0.4939, -0.1027, -0.119, -0.296, -0.3182, -0.296, -0.3818, -0.5994, -0.3818, -0.4471, -0.2263, -0.5423, -0.296, -0.2263, -0.5574, -0.3818, -0.3182, -0.5423, -0.2023, -0.5267, -0.5423, -0.1027, -0.4767, -0.3612, -0.4588, -0.5859, -0.4588, -0.5267, -0.5423, -0.4019, -0.2732, -0.25, -0.4767, -0.2263, -0.5423, -0.5106, -0.296, -0.4767, -0.5423, -0.0516, -0.4588, -0.4404, -0.1808, -0.296, -0.5106, -0.2732, -0.7783, -0.0516, -0.5423, -0.2732, -0.4019, -0.3818, -0.296, -0.7964, -0.3818, -0.5423, -0.296, -0.6124, -0.4939, -0.4404, -0.5719, -0.5423, -0.34, -0.5574, -0.5423, -0.5423, -0.296, -0.2263, -0.2263, -0.4404, -0.5423, -0.25, -0.296, -0.4767, -0.2732, -0.5106, -0.2057, -0.7184, -0.6367, -0.4391, -0.1154, -0.7351, -0.296, -0.9136, -0.296, -0.296, -0.8807, -0.3818, -0.4404, -0.1901, -0.2732, -0.2023, -0.5106, -0.3818, -0.5423, -0.5106, -0.4019, -0.2732, -0.1027, -0.4588, -0.7713, -0.2263, -0.34, -0.2732, -0.1027, -0.34, -0.5423, -0.4767, -0.6486, -0.128, -0.6808, -0.5256, -0.4019, -0.296, -0.3818, -0.2263, -0.4767, -0.5267, -0.6597, -0.3818, -0.4767, -0.7506, -0.1531, -0.0516, -0.2732, -0.5423, -0.6249, -0.296, -0.2732, -0.296, -0.0516, -0.4939, -0.3818, -0.2732, -0.4588, -0.5574, -0.296, -0.5267, -0.1027, -0.296, -0.25, -0.3818, -0.5859, -0.128, -0.0772, -0.4019, -0.5423, -0.4019, -0.4019, -0.4215, -0.5423, -0.296, -0.8126, -0.296, -0.891, -0.34, -0.8885, -0.2263, -0.2732, -0.7906, -0.5574, -0.4404, -0.4404, -0.8885, -0.4019, -0.5994, -0.128, -0.6124, -0.4767, -0.0516, -0.296, -0.8689, -0.25, -0.2732, -0.128, -0.4767, -0.2732, -0.2263, -0.296, -0.5859, -0.3612, -0.2411, -0.5423, -0.3818, -0.4767, -0.467, -0.4939, -0.296, -0.4215, -0.4019, -0.2732, -0.296, -0.296, -0.3182, -0.296, -0.2732, -0.296, -0.5106, -0.5423, -0.4939, -0.296, -0.128, -0.3182, -0.25, -0.5267, -0.5859, -0.4404, -0.6908, -0.25, -0.7184, -0.5423, -0.4019, -0.6597, -0.4939, -0.4005, -0.5994, -0.0516, -0.5574, -0.296, -0.3182, -0.8555, -0.0772, -0.3818, -0.5423, -0.5423, -0.5574, -0.296, -0.2263, -0.4173, -0.4215, -0.5267, -0.8442, -0.1531, -0.0516, -0.2263, -0.0772, -0.4019, -0.4767, -0.4404, -0.5267, -0.6705, -0.3818, -0.2263, -0.657, -0.25, -0.2924, -0.5859, -0.296, -0.5106, -0.3818, -0.25, -0.5859, -0.296, -0.1027, -0.6808, -0.2732, -0.1779, -0.4019, -0.3182, -0.7414, -0.5859, -0.4019, -0.1513, -0.0516, -0.4981, -0.5106, -0.3818, -0.2732, -0.5859, -0.6597, -0.7964, -0.4767, -0.3818, -0.5859, -0.5719, -0.0516, -0.5423, -0.5106, -0.3182, -0.296, -0.5423, -0.5267, -0.3182, -0.5106, -0.0772, -0.25, -0.5574, -0.7579, -0.3818, -0.2732, -0.2235, -0.4019, -0.5423, -0.2732, -0.4939, -0.25, -0.4939, -0.3182, -0.5859, -0.6249, -0.7579, -0.2263, -0.3612, -0.4019, -0.1682, -0.4215, -0.5574, -0.4201, -0.296, -0.4404, -0.4939, -0.2263, -0.4939, -0.3818, -0.3612, -0.0772, -0.296, -0.3818, -0.5574, -0.2023, -0.34, -0.1027, -0.4588, -0.34, -0.4588, -0.3818, -0.3626, -0.7184, -0.5859, -0.3818, -0.8625, -0.6369, -0.4927, -0.1027, -0.1779, -0.2263, -0.4767, -0.2732, -0.1027, -0.7184, -0.296, -0.6808, -0.3818, -0.6315, -0.4019, -0.4215, -0.6361, -0.6003, -0.1531, -0.3818, -0.5423, -0.296, -0.7172, -0.4215, -0.5994, -0.3612, -0.5423, -0.6124, -0.3818, -0.5423, -0.128, -0.8399, -0.5859, -0.5423, -0.5423, -0.1621, -0.4767, -0.6369, -0.2732, -0.6124, -0.25, -0.8201, -0.3182, -0.4404, -0.3346, -0.3612, -0.6712, -0.7401, -0.5994, -0.1027, -0.5994, -0.3612, -0.5574, -0.34, -0.2263, -0.2235, -0.4404, -0.4404, -0.2732, -0.5859, -0.5719, -0.3818, -0.5994, -0.2732, -0.1027, -0.3671, -0.296, -0.647, -0.296, -0.3182, -0.34, -0.2732, -0.3612, -0.1779, -0.2263, -0.4404, -0.6486, -0.6369, -0.4854, -0.296, -0.0772, -0.3818, -0.4588, -0.296, -0.296, -0.4767, -0.7906, -0.5423, -0.6115, -0.4767, -0.802, -0.5267, -0.3612, -0.34, -0.7096, -0.4019, -0.6597, -0.4939, -0.7003, -0.2732, -0.2023, -0.5574, -0.3818, -0.4588, -0.2732, -0.5574, -0.1779, -0.4588, -0.6249, -0.5994, -0.296, -0.0516, -0.296, -0.6249, -0.3818, -0.3818, -0.296, -0.296, -0.6597, -0.4588, -0.0516, -0.4033, -0.5574, -0.1531, -0.7003, -0.1531, -0.5267, -0.5574, -0.7906, -0.6597, -0.4767, -0.2732, -0.5106, -0.128, -0.5423, -0.1779, -0.7964, -0.1531, -0.3182, -0.296, -0.0772, -0.5574, -0.296, -0.5267, -0.9371, -0.4019, -0.2732, -0.2263, -0.4717, -0.836, -0.6597, -0.296, -0.5423, -0.5106, -0.296, -0.5994, -0.296, -0.7184, -0.2732, -0.296, -0.296, -0.128, -0.5574, -0.3818, -0.7717, -0.2732, -0.2732, -0.1027, -0.4767, -0.4939, -0.5106, -0.872, -0.296, -0.4215, -0.296, -0.5423, -0.7425, -0.5106, -0.4019, -0.4654, -0.128, -0.3818, -0.296, -0.128, -0.5423, -0.4939, -0.3182, -0.5423, -0.4019, -0.0772, -0.0772, -0.34, -0.5875, -0.6124, -0.2732, -0.1779, -0.4019, -0.4404, -0.4939, -0.2263, -0.296, -0.2263, -0.3818, -0.34, -0.4767, -0.6369, -0.34, -0.3612, -0.4404, -0.5994, -0.296, -0.4939, -0.3384, -0.1779, -0.1531, -0.3724, -0.4767, -0.5994, -0.296, -0.5423, -0.4215, -0.8271, -0.25, -0.5859, -0.3612, -0.3182, -0.5574, -0.5994, -0.296, -0.4404, -0.4019, -0.4767, -0.34, -0.4588, -0.3612, -0.2263, -0.5859, -0.5423, -0.5423, -0.5994, -0.5267, -0.2023, -0.4939, -0.4767, -0.4767, -0.3566, -0.2263, -0.25, -0.34, -0.4215, -0.3612, -0.4019, -0.4588, -0.7717, -0.4767, -0.7717, -0.3875, -0.5574, -0.3818, -0.5719, -0.25, -0.2057, -0.4588, -0.4767, -0.5423, -0.5106, -0.7212, -0.25, -0.296, -0.4874, -0.5423, -0.5267, -0.4939, -0.4939, -0.0516, -0.4939, -0.3818, -0.5423, -0.3612, -0.3818, -0.5423, -0.4404, -0.296, -0.6705, -0.5267, -0.6124, -0.3182, -0.5859, -0.4939, -0.3612, -0.4404, -0.1027, -0.4588, -0.5994, -0.4767, -0.6705, -0.4767, -0.743, -0.4939, -0.7783, -0.6597, -0.4215, -0.4019, -0.6808, -0.128, -0.5423, -0.197, -0.34, -0.4404, -0.128, -0.1027, -0.2263, -0.8261, -0.2023, -0.4019, -0.2263, -0.4588, -0.5423, -0.3182, -0.3182, -0.2263, -0.0772, -0.3818, -0.6597, -0.4404, -0.2023, -0.4404, -0.4767, -0.5106, -0.34, -0.296, -0.4215, -0.6124, -0.6249, -0.5423, -0.2263, -0.296, -0.6997, -0.6249, -0.2263, -0.296, -0.1027, -0.4767, -0.296, -0.5423, -0.2732, -0.5574, -0.5423, -0.4503, -0.6808, -0.5106, -0.5423, -0.5267, -0.4767, -0.1779, -0.4019, -0.5267, -0.296, -0.4019, -0.2023, -0.3612, -0.6124, -0.4019, -0.0516, -0.4767, -0.5106, -0.3612, -0.34, -0.1027, -0.3612, -0.4404, -0.1779, -0.34, -0.4019, -0.6369, -0.4767, -0.296, -0.5859, -0.5423, -0.4404, -0.2732, -0.5106, -0.0772, -0.3818, -0.4939, -0.296, -0.9022, -0.34, -0.4767, -0.4215, -0.3182, -0.128, -0.1027, -0.5423, -0.6249, -0.1513, -0.6249, -0.6361, -0.6249, -0.6808, -0.6597, -0.8074, -0.128, -0.1027, -0.4391, -0.1027, -0.1027, -0.0935, -0.4927, -0.4939, -0.296, -0.6249, -0.296, -0.4767, -0.8256, -0.1779, -0.6597, -0.5719, -0.3818, -0.4939, -0.2023, -0.6124, -0.5574, -0.5106, -0.2023, -0.5267, -0.3818, -0.6808, -0.25, -0.2732, -0.5423, -0.4767, -0.4404, -0.296, -0.4404, -0.1779, -0.0516, -0.3506, -0.4019, -0.6249, -0.802, -0.5423, -0.4215, -0.0516, -0.654, -0.4404, -0.5994, -0.6808, -0.296, -0.5709, -0.4019, -0.1779, -0.3612, -0.4767, -0.3182, -0.4215, -0.0516, -0.4939, -0.7964, -0.4939, -0.3818, -0.5267, -0.5423, -0.1027, -0.4767, -0.3612, -0.25, -0.4404, -0.4404, -0.0516, -0.296, -0.3098, -0.296, -0.5994, -0.1531, -0.4019, -0.3818, -0.25, -0.6705, -0.6908, -0.296, -0.1298, -0.3182, -0.765, -0.6361, -0.2023, -0.34, -0.5719, -0.5719, -0.296, -0.7906, -0.8176, -0.6962, -0.25, -0.1027, -0.3818, -0.296, -0.2263, -0.128, -0.5574, -0.4019, -0.4767, -0.296, -0.3612, -0.5994, -0.4019, -0.7717, -0.1027, -0.3182, -0.3182, -0.7783, -0.296, -0.296, -0.3818, -0.5423, -0.7717, -0.5859, -0.5423, -0.2263, -0.8354, -0.2732, -0.4019, -0.3818, -0.3875, -0.3818, -0.5106, -0.4939, -0.296, -0.3818, -0.5267, -0.8104, -0.6808, -0.4854, -0.4939, -0.4215, -0.6597, -0.5719, -0.5574, -0.6249, -0.3182, -0.8176, -0.4939, -0.5859, -0.296, -0.2732, -0.2023, -0.296, -0.7579, -0.296, -0.2732, -0.296, -0.296, -0.2732, -0.6808, -0.5106, -0.2263, -0.4215, -0.4767, -0.3818, -0.4215, -0.3818, -0.6597, -0.5719, -0.3384, -0.5994, -0.7906, -0.2732, -0.296, -0.6597, -0.5423, -0.4404, -0.4939, -0.2263, -0.5106, -0.5423, -0.5106, -0.4767, -0.4767, -0.5267, -0.5106, -0.5106, -0.7351, -0.2732, -0.5423, -0.0516, -0.296, -0.6908, -0.477, -0.1531, -0.3182, -0.4215, -0.5267, -0.4215, -0.3182, -0.1027, -0.3182, -0.296, -0.7003, -0.6597, -0.296, -0.3818, -0.6597, -0.2263, -0.5719, -0.7269, -0.6457, -0.4019, -0.3535, -0.3818, -0.4767, -0.2057, -0.4023, -0.6948, -0.2732, -0.4215, -0.296, -0.2263, -0.4019, -0.4019, -0.296, -0.4939, -0.296, -0.5106, -0.6705, -0.4404, -0.6908, -0.4767, -0.7906, -0.3804, -0.2263, -0.5267, -0.3818, -0.3612, -0.296, -0.5859, -0.4019, -0.1779, -0.3818, -0.1779, -0.2732, -0.3818, -0.1779, -0.765, -0.1531, -0.6808, -0.5994, -0.296, -0.3818, -0.2732, -0.3612, -0.1779, -0.296, -0.7003, -0.296, -0.4215, -0.4404, -0.5975, -0.4939, -0.4215, -0.296, -0.2732, -0.4019, -0.5106, -0.7579, -0.2732, -0.4939, -0.5106, -0.4019, -0.5994, -0.7269, -0.7964, -0.3818, -0.2732, -0.0516, -0.1406, -0.34, -0.128, -0.4215, -0.5777, -0.4404, -0.4588, -0.5719, -0.3182, -0.4588, -0.4118, -0.1531, -0.3612, -0.2732, -0.4503, -0.6597, -0.7351, -0.1779, -0.6249, -0.5267, -0.1027, -0.2732, -0.3182, -0.296, -0.4019, -0.7939, -0.1695, -0.4767, -0.3612, -0.5216, -0.4019, -0.2263, -0.4215, -0.2023, -0.34, -0.1531, -0.3818, -0.6249, -0.5423, -0.0772, -0.1531, -0.2732, -0.2732, -0.0772, -0.5574, -0.7003, -0.7506, -0.4939, -0.3182, -0.3818, -0.3875, -0.4767, -0.296, -0.34, -0.743, -0.1796, -0.128, -0.4019, -0.5859, -0.296, -0.1531, -0.5423, -0.5423, -0.5423, -0.4767, -0.3089, -0.4404, -0.4588, -0.0516, -0.628, -0.6369, -0.4404, -0.6976, -0.5859, -0.34, -0.9061, -0.1027, -0.6705, -0.0516, -0.3818, -0.2732, -0.296, -0.5423, -0.3182, -0.1531, -0.4767, -0.2023, -0.1779, -0.7506, -0.3818, -0.296, -0.6908, -0.5267, -0.6428, -0.5423, -0.2709, -0.7013, -0.296, -0.743, -0.0772, -0.4767, -0.8126, -0.3182, -0.296, -0.5106, -0.5423, -0.296, -0.4767, -0.34, -0.0772, -0.296, -0.4019, -0.6808, -0.8271, -0.4767, -0.25, -0.296, -0.3612, -0.4767, -0.5267, -0.296, -0.4019, -0.25, -0.25, -0.1655, -0.2263, -0.2023, -0.3818, -0.3804, -0.3612, -0.5423, -0.0772, -0.4357, -0.2732, -0.296, -0.5574, -0.296, -0.5423, -0.296, -0.5809, -0.6344, -0.3818, -0.5267, -0.2732, -0.2263, -0.5267, -0.3612, -0.2584, -0.34, -0.34, -0.5423, -0.6369, -0.5423, -0.6249, -0.7717, -0.3186, -0.34, -0.4404, -0.4019, -0.5574, -0.2023, -0.4019, -0.2732, -0.4019, -0.2732, -0.2023, -0.5267, -0.296, -0.4404, -0.5574, -0.8181, -0.0772, -0.3182, -0.1027, -0.4588, -0.296, -0.0516, -0.3182, -0.3182, -0.5719, -0.7003, -0.8519, -0.1027, -0.34, -0.296, -0.1779, -0.296, -0.4019, -0.1531, -0.5965, -0.1027, -0.5574, -0.5106, -0.1531, -0.7184, -0.4939, -0.7269, -0.2732, -0.5994, -0.296, -0.2732, -0.3818, -0.5118, -0.5719, -0.3612, -0.296, -0.5574, -0.3818, -0.765, -0.7184, -0.2023, -0.8519, -0.4939, -0.5859, -0.5106, -0.3182, -0.5423, -0.3182, -0.5994, -0.6478, -0.4588, -0.2732, -0.2023, -0.5267, -0.7506, -0.7184, -0.4767, -0.3832, -0.5106, -0.34, -0.1531, -0.2732, -0.765, -0.4767, -0.5859, -0.9413, -0.4201, -0.5267, -0.5719, -0.1779, -0.1531, -0.5709, -0.5574, -0.3182, -0.6771, -0.34, -0.5719, -0.6887, -0.5256, -0.1531, -0.4023, -0.2023, -0.5994, -0.5423, -0.3535, -0.2263, -0.1779, -0.296, -0.4939, -0.1786, -0.5106, -0.5574, -0.4019, -0.3182, -0.4019, -0.765, -0.1779, -0.4019, -0.2732, -0.5267, -0.5106, -0.2263, -0.5719, -0.4019, -0.5267, -0.7351, -0.4497, -0.296, -0.7964, -0.3182, -0.3182, -0.25, -0.3182, -0.25, -0.296, -0.2263, -0.5719, -0.4588, -0.5423, -0.3182, -0.5106, -0.1027, -0.2183, -0.5267, -0.0772, -0.296, -0.3182, -0.5267, -0.5719, -0.3182, -0.4767, -0.5574, -0.5574, -0.4404, -0.5719, -0.128, -0.3818, -0.6486, -0.4939, -0.4767, -0.2732, -0.6249, -0.8126, -0.1779, -0.7845, -0.4215, -0.6249, -0.4748, -0.34, -0.2732, -0.5719, -0.6705, -0.4939, -0.2732, -0.5801, -0.296, -0.5267, -0.0772, -0.3182, -0.3182, -0.3182, -0.4019, -0.2732, -0.1779, -0.5719, -0.2732, -0.5994, -0.5849, -0.2846, -0.4215, -0.5267, -0.5267, -0.4019, -0.4588, -0.7845, -0.0772, -0.4019, -0.4404, -0.4404, -0.34, -0.836, -0.1779, -0.7351, -0.5994, -0.5859, -0.296, -0.4404, -0.128, -0.5267, -0.5574, -0.4939, -0.8268, -0.8301, -0.2732, -0.34, -0.4522, -0.2732, -0.4939, -0.1513, -0.5106, -0.5574, -0.3182, -0.875, -0.2263, -0.5267, -0.4019, -0.25, -0.3182, -0.296, -0.296, -0.3946, -0.7096, -0.128, -0.3804, -0.25, -0.4742, -0.7003, -0.3182, -0.296, -0.1531, -0.3182, -0.4019, -0.2263, -0.3182, -0.1531, -0.8519, -0.5574, -0.3182, -0.5346, -0.3182, -0.34, -0.296, -0.25, -0.6808, -0.5859, -0.1531, -0.1027, -0.3818, -0.296, -0.4767, -0.8201, -0.3182, -0.296, -0.3182, -0.296, -0.1725, -0.3182, -0.3804, -0.1027, -0.3612, -0.3182, -0.0772, -0.6486, -0.2732, -0.3182, -0.2411, -0.0772, -0.7003, -0.5423, -0.296, -0.8074, -0.4019, -0.296, -0.3182, -0.891, -0.2111, -0.9071, -0.6486, -0.1689, -0.7906, -0.489, -0.128, -0.6124, -0.7518, -0.4215, -0.5423, -0.5994, -0.296, -0.5423, -0.3818, -0.5859, -0.3182, -0.7351, -0.2732, -0.6249, -0.6369, -0.128, -0.2057, -0.4019, -0.5106, -0.6705, -0.4404, -0.7269, -0.296, -0.8074, -0.296, -0.6124, -0.5106, -0.1779, -0.296, -0.3818, -0.6597, -0.2732, -0.7184, -0.3353, -0.2023, -0.4019, -0.296, -0.4728, -0.4601, -0.4404, -0.3182, -0.1526, -0.4939, -0.5719, -0.4951, -0.2023, -0.5719, -0.4201, -0.5279, -0.6705, -0.4215, -0.8316, -0.3818, -0.6486, -0.5106, -0.25, -0.3818, -0.25, -0.4404, -0.6124, -0.3818, -0.0772, -0.5777, -0.25, -0.0772, -0.4019, -0.296, -0.4939, -0.1531, -0.7717, -0.0772, -0.5574, -0.7184, -0.3182, -0.3182, -0.7351, -0.7506, -0.0772, -0.296, -0.5106, -0.6259, -0.128, -0.0772, -0.3818, -0.2732, -0.1779, -0.3818, -0.3182, -0.6808, -0.296, -0.765, -0.6597, -0.4767, -0.1531, -0.2263, -0.4019, -0.9153, -0.5719, -0.5859, -0.5267, -0.4019, -0.1779, -0.0772, -0.296, -0.3182, -0.296, -0.2732, -0.2023, -0.128, -0.3182, -0.5267, -0.34, -0.0772, -0.4019, -0.5719, -0.2263, -0.3182, -0.2732, -0.296, -0.0772, -0.296, -0.5574, -0.2263, -0.1027, -0.4767, -0.2732, -0.4019, -0.0772, -0.296, -0.128, -0.4767, -0.2584, -0.2584, -0.5859, -0.2235, -0.296, -0.5267, -0.5106, -0.5915, -0.3818, -0.5267, -0.4767, -0.5859, -0.296, -0.1531, -0.296, -0.25, -0.5106, -0.5499, -0.4889, -0.7184, -0.7269, -0.4404, -0.25, -0.3182, -0.0772, -0.296, -0.3182, -0.2732, -0.3182, -0.296, -0.6771, -0.4019, -0.2484, -0.7845, -0.296, -0.5106, -0.1779, -0.5859, -0.5574, -0.4522, -0.5859, -0.3182, -0.6115, -0.4767, -0.34, -0.0772, -0.8175, -0.7506, -0.296, -0.3566, -0.6808, -0.3612, -0.4927, -0.296, -0.4404, -0.1027, -0.2023, -0.3818, -0.5423, -0.6749, -0.5859, -0.5267, -0.2732, -0.4939, -0.2023, -0.25, -0.5423, -0.5423, -0.5423, -0.3182, -0.8481, -0.4215, -0.4019, -0.4588, -0.25, -0.3612, -0.4019, -0.0534, -0.5859, -0.5542, -0.0516, -0.5423, -0.6908, -0.631, -0.296, -0.0772, -0.296, -0.6705, -0.6597, -0.296, -0.5719, -0.7269, -0.1531, -0.4767, -0.3182, -0.4019, -0.25, -0.5423, -0.1531, -0.296, -0.3612, -0.296, -0.0772, -0.7906, -0.5719, -0.1027, -0.4588, -0.7506, -0.5267, -0.1027, -0.2617, -0.4215, -0.5859, -0.3182, -0.5574, -0.296, -0.4576, -0.4404, -0.1531, -0.5994, -0.2023, -0.0772, -0.2263, -0.4404, -0.5859, -0.0772, -0.5423, -0.296, -0.3875, -0.0772, -0.2732, -0.1531, -0.4019, -0.7506, -0.128, -0.5267, -0.1655, -0.5106, -0.4939, -0.5574, -0.5994, -0.25, -0.4767, -0.1406, -0.1779, -0.7783, -0.3182, -0.5423, -0.0772, -0.631, -0.3612, -0.4767, -0.34, -0.4585, -0.4677, -0.4215, -0.5574, -0.34, -0.2924, -0.5574, -0.2732, -0.4404, -0.1027, -0.2732, -0.6705, -0.296, -0.1531, -0.1779, -0.4019, -0.5267, -0.5267, -0.1027, -0.7003, -0.5267, -0.4019, -0.5423, -0.5719, -0.6249, -0.4404, -0.7184, -0.4678, -0.4019, -0.3818, -0.0772, -0.34, -0.7506, -0.3182, -0.296, -0.7506, -0.2023, -0.5423, -0.4215, -0.1027, -0.34, -0.3818, -0.4939, -0.3182, -0.2263, -0.5256, -0.7506, -0.7659, -0.7184, -0.5423, -0.5423, -0.6808, -0.296, -0.7269, -0.3252, -0.5106, -0.5413, -0.7964, -0.296, -0.2263, -0.5859, -0.4215, -0.3182, -0.5423, -0.3612, -0.6096, -0.1531, -0.0516, -0.3818, -0.8678, -0.5423, -0.0516, -0.5719, -0.296, -0.6113, -0.2732, -0.4767, -0.0516, -0.1655, -0.5267, -0.6249, -0.3071, -0.5106, -0.6249, -0.4767, -0.5267, -0.1635, -0.34, -0.6808, -0.5087, -0.3488, -0.6444, -0.0516, -0.34, -0.6428, -0.4404, -0.5994, -0.3182, -0.4215, -0.5719, -0.296, -0.5106, -0.765, -0.5574, -0.4215, -0.4215, -0.5574, -0.2732, -0.1027, -0.3818, -0.5719, -0.25, -0.1779, -0.1027, -0.4939, -0.1027, -0.7579, -0.5423, -0.296, -0.4019, -0.6369, -0.2584, -0.4215, -0.3818, -0.0951, -0.5859, -0.4588, -0.1226, -0.1027, -0.4767, -0.4215, -0.09, -0.296, -0.1531, -0.2263, -0.34, -0.3182, -0.5106, -0.1779, -0.2144, -0.2023, -0.25, -0.6597, -0.4404, -0.2023, -0.6908, -0.3612, -0.7783, -0.2263, -0.3818, -0.296, -0.5859, -0.5994, -0.7906, -0.1779, -0.5423, -0.3612, -0.2263, -0.493, -0.5423, -0.7701, -0.5106, -0.1531, -0.7003, -0.2755, -0.2023, -0.5423, -0.1027, -0.5719, -0.3818, -0.1531, -0.3724, -0.5719, -0.4588, -0.2023, -0.296, -0.4585, -0.5106, -0.5719, -0.5719, -0.4939, -0.296, -0.4019, -0.5267, -0.6597, -0.3818, -0.4549, -0.5994, -0.1531, -0.296, -0.1531, -0.2732, -0.3182, -0.2382, -0.4019, -0.1695, -0.3818, -0.7351, -0.25, -0.5423, -0.3492, -0.5267, -0.4692, -0.2732, -0.5106, -0.0772, -0.7506, -0.4019, -0.7184, -0.6369, -0.8074, -0.3182, -0.4215, -0.6249, -0.4019, -0.1531, -0.5423, -0.5256, -0.3182, -0.6486, -0.25, -0.7906, -0.3182, -0.3818, -0.3818, -0.4767, -0.3818, -0.4767, -0.5267, -0.3612, -0.4019, -0.296, -0.5719, -0.5574, -0.34, -0.0516, -0.3612, -0.3182, -0.6597, -0.1027, -0.34, -0.3744, -0.3182, -0.0772, -0.296, -0.0772, -0.296, -0.2287, -0.4019, -0.4767, -0.2023, -0.296, -0.8271, -0.5574, -0.3182, -0.1027, -0.296, -0.1027, -0.2755, -0.1779, -0.4717, -0.296, -0.8316, -0.3182, -0.5106, -0.2023, -0.5574, -0.0516, -0.2263, -0.1027, -0.5927, -0.2023, -0.3612, -0.5423, -0.3818, -0.6597, -0.34, -0.0516, -0.6486, -0.5859, -0.2023, -0.5423, -0.5267, -0.4767, -0.296, -0.4767, -0.4215, -0.5719, -0.4767, -0.5574, -0.25, -0.4019, -0.4939, -0.296, -0.7506, -0.0772, -0.6597, -0.4019, -0.5267, -0.296, -0.5849, -0.4019, -0.4588, -0.4728, -0.2023, -0.6808, -0.2263, -0.4767, -0.1027, -0.2263, -0.4588, -0.4939, -0.4404, -0.5994, -0.296, -0.4939, -0.1531, -0.5574, -0.4215, -0.5574, -0.296, -0.3182, -0.4404, -0.4939, -0.6486, -0.296, -0.4588, -0.4939, -0.296, -0.3612, -0.0772, -0.2484, -0.25, -0.2732, -0.25, -0.2023, -0.4215, -0.128, -0.5574, -0.5574, -0.4019, -0.4939, -0.3919, -0.5423, -0.25, -0.5267, -0.4767, -0.3182, -0.4019, -0.5423, -0.7184, -0.3612, -0.3182, -0.296, -0.296, -0.3818, -0.2732, -0.7506, -0.5719, -0.5859, -0.4804, -0.2732, -0.4939, -0.5423, -0.296, -0.5719, -0.7915, -0.4588, -0.7096, -0.7579, -0.0772, -0.1531, -0.3089, -0.3818, -0.5423, -0.3182, -0.4939, -0.5719, -0.5574, -0.4019, -0.25, -0.0516, -0.765, -0.5859, -0.1779, -0.296, -0.4767, -0.5106, -0.3182, -0.2789, -0.2732, -0.1027, -0.4767, -0.1809, -0.6597, -0.296, -0.6486, -0.3182, -0.5859, -0.5664, -0.2263, -0.0516, -0.1779, -0.2263, -0.3818, -0.4215, -0.6705, -0.5574, -0.5574, -0.5719, -0.1027, -0.1531, -0.5574, -0.7783, -0.4019, -0.4404, -0.5423, -0.0772, -0.2263, -0.7845, -0.7351, -0.6167, -0.3182, -0.2023, -0.4588, -0.296, -0.1779, -0.2869, -0.296, -0.7351, -0.6369, -0.5106, -0.2755, -0.3818, -0.34, -0.2023, -0.5719, -0.4019, -0.6808, -0.4215, -0.5719, -0.5423, -0.5399, -0.3612, -0.2263, -0.0516, -0.2732, -0.296, -0.1027, -0.3182, -0.0516, -0.5719, -0.6808, -0.3818, -0.1027, -0.2732, -0.296, -0.1531, -0.0772, -0.5859, -0.3102, -0.128, -0.4588, -0.3071, -0.5994, -0.0772, -0.5267, -0.5267, -0.2732, -0.3182, -0.4939, -0.5719, -0.1779, -0.4215, -0.3182, -0.5574, -0.5965, -0.296, -0.34, -0.4404, -0.2732, -0.4404, -0.34, -0.4585, -0.0516, -0.5994, -0.4019, -0.296, -0.0516, -0.3612, -0.2732, -0.5849, -0.25, -0.34, -0.3612, -0.6369, -0.5994, -0.1531, -0.4019, -0.3182, -0.2732, -0.1779, -0.0772, -0.6597, -0.4215, -0.802, -0.5574, -0.5267, -0.2937, -0.296, -0.6369, -0.7003, -0.8225, -0.3182, -0.3818, -0.296, -0.4019, -0.2263, -0.25, -0.25, -0.2732, -0.25, -0.3818, -0.34, -0.34, -0.4404, -0.25, -0.1779, -0.5423, -0.5106, -0.3182, -0.6597, -0.2621, -0.4019, -0.296, -0.3612, -0.6249, -0.2716], \"xaxis\": \"x\", \"yaxis\": \"y\"}, {\"alignmentgroup\": \"True\", \"bingroup\": \"x\", \"hovertemplate\": \"Overall Sentiment=Positive<br>Compound Score=%{x}<br>count=%{y}<extra></extra>\", \"legendgroup\": \"Positive\", \"marker\": {\"color\": \"#00cc96\"}, \"name\": \"Positive\", \"offsetgroup\": \"Positive\", \"orientation\": \"v\", \"showlegend\": true, \"type\": \"histogram\", \"x\": [0.4767, 0.3291, 0.1531, 0.296, 0.0516, 0.4019, 0.5574, 0.0772, 0.5719, 0.3182, 0.0516, 0.34, 0.4588, 0.5267, 0.4404, 0.34, 0.5256, 0.0772, 0.6369, 0.1027, 0.0772, 0.3612, 0.4847, 0.7506, 0.5106, 0.3612, 0.7717, 0.5423, 0.1877, 0.4019, 0.3612, 0.4019, 0.2263, 0.4939, 0.4404, 0.296, 0.4404, 0.4215, 0.3412, 0.1531, 0.6369, 0.1513, 0.1779, 0.5614, 0.5859, 0.3182, 0.3612, 0.1027, 0.4019, 0.5106, 0.5994, 0.4215, 0.4019, 0.296, 0.7783, 0.7425, 0.6249, 0.4404, 0.6369, 0.4019, 0.4215, 0.0516, 0.296, 0.34, 0.7096, 0.4019, 0.6124, 0.1531, 0.4215, 0.34, 0.6249, 0.4019, 0.6369, 0.3612, 0.886, 0.3612, 0.0772, 0.5739, 0.4215, 0.5994, 0.3612, 0.4767, 0.3612, 0.25, 0.34, 0.0516, 0.296, 0.4019, 0.128, 0.4019, 0.25, 0.1531, 0.4404, 0.3612, 0.6369, 0.3182, 0.3612, 0.1779, 0.4019, 0.3612, 0.1027, 0.5719, 0.7958, 0.4019, 0.7351, 0.2023, 0.4588, 0.4939, 0.0772, 0.1779, 0.7717, 0.3612, 0.4019, 0.4023, 0.6369, 0.5859, 0.4019, 0.1695, 0.4215, 0.7713, 0.3182, 0.0772, 0.1779, 0.5719, 0.3182, 0.1531, 0.4588, 0.4019, 0.5106, 0.3612, 0.5859, 0.6369, 0.4767, 0.2023, 0.296, 0.8225, 0.4019, 0.5106, 0.6808, 0.128, 0.7885, 0.4019, 0.4404, 0.296, 0.6369, 0.4019, 0.3182, 0.4215, 0.5423, 0.3612, 0.5106, 0.3612, 0.3612, 0.2732, 0.4031, 0.5267, 0.4019, 0.4767, 0.4404, 0.4019, 0.3182, 0.5994, 0.34, 0.5574, 0.4019, 0.3182, 0.0516, 0.2023, 0.8316, 0.296, 0.2023, 0.5267, 0.4404, 0.5994, 0.6808, 0.128, 0.3818, 0.0772, 0.5859, 0.2732, 0.4404, 0.3134, 0.5859, 0.4019, 0.296, 0.8575, 0.4019, 0.4019, 0.3612, 0.0772, 0.4019, 0.5267, 0.1695, 0.3612, 0.296, 0.3875, 0.5777, 0.4767, 0.5106, 0.2263, 0.3818, 0.5267, 0.1027, 0.6705, 0.2755, 0.4404, 0.4019, 0.7003, 0.296, 0.4019, 0.4019, 0.3612, 0.4404, 0.3612, 0.5106, 0.4215, 0.5106, 0.0772, 0.4404, 0.4101, 0.5106, 0.1779, 0.34, 0.25, 0.0772, 0.5106, 0.0516, 0.296, 0.5994, 0.5106, 0.7506, 0.34, 0.5423, 0.6106, 0.743, 0.5256, 0.1531, 0.3412, 0.2924, 0.2263, 0.5574, 0.4019, 0.296, 0.5994, 0.4019, 0.1531, 0.431, 0.4404, 0.5267, 0.128, 0.6351, 0.2732, 0.1695, 0.3612, 0.6369, 0.4215, 0.3612, 0.5106, 0.2732, 0.2057, 0.3182, 0.3612, 0.1779, 0.2732, 0.4767, 0.2263, 0.4019, 0.0772, 0.6597, 0.4019, 0.6369, 0.296, 0.2057, 0.4404, 0.4019, 0.4404, 0.4659, 0.296, 0.5574, 0.5423, 0.3612, 0.3612, 0.6124, 0.2023, 0.6124, 0.0772, 0.296, 0.1695, 0.0772, 0.4019, 0.0772, 0.7469, 0.4019, 0.34, 0.5267, 0.4404, 0.4019, 0.3182, 0.25, 0.6369, 0.3612, 0.2732, 0.0772, 0.6705, 0.4767, 0.0772, 0.34, 0.5106, 0.3818, 0.5423, 0.0516, 0.8176, 0.3134, 0.3182, 0.765, 0.0516, 0.5106, 0.5574, 0.4019, 0.2732, 0.4019, 0.4019, 0.4019, 0.4404, 0.4019, 0.4939, 0.47, 0.3089, 0.3612, 0.2924, 0.4019, 0.2023, 0.4144, 0.2263, 0.5574, 0.34, 0.2354, 0.5106, 0.128, 0.5574, 0.296, 0.34, 0.2023, 0.5106, 0.2732, 0.296, 0.3182, 0.6369, 0.7096, 0.4404, 0.8166, 0.3089, 0.296, 0.4019, 0.2023, 0.2263, 0.4215, 0.4019, 0.3612, 0.296, 0.34, 0.0772, 0.4019, 0.5777, 0.6369, 0.3612, 0.4019, 0.2382, 0.2023, 0.5106, 0.3182, 0.25, 0.4201, 0.4019, 0.4588, 0.2235, 0.5859, 0.0772, 0.6361, 0.3875, 0.2057, 0.3182, 0.296, 0.4404, 0.4767, 0.2023, 0.3612, 0.3612, 0.2263, 0.5256, 0.4449, 0.1695, 0.5106, 0.4404, 0.4215, 0.2263, 0.7096, 0.4201, 0.2263, 0.4939, 0.4404, 0.6369, 0.3612, 0.4404, 0.7269, 0.128, 0.4019, 0.7918, 0.4404, 0.3612, 0.3415, 0.5267, 0.4767, 0.4215, 0.4404, 0.5267, 0.3612, 0.1635, 0.2263, 0.5719, 0.5994, 0.5106, 0.4588, 0.4939, 0.6808, 0.4939, 0.4201, 0.6369, 0.2023, 0.6124, 0.6124, 0.4019, 0.2235, 0.0772, 0.2235, 0.5859, 0.34, 0.7579, 0.5859, 0.4576, 0.6486, 0.296, 0.5106, 0.4019, 0.0772, 0.469, 0.34, 0.296, 0.34, 0.6597, 0.5267, 0.2263, 0.4939, 0.4724, 0.7351, 0.296, 0.3612, 0.128, 0.3612, 0.5106, 0.6369, 0.296, 0.128, 0.3182, 0.765, 0.128, 0.3612, 0.7184, 0.34, 0.3008, 0.4939, 0.4215, 0.5106, 0.5709, 0.5859, 0.25, 0.4019, 0.1531, 0.4767, 0.8271, 0.6369, 0.4019, 0.0772, 0.5719, 0.2263, 0.3597, 0.0772, 0.5719, 0.2023, 0.0772, 0.1531, 0.3612, 0.2023, 0.2924, 0.3182, 0.4215, 0.4215, 0.6968, 0.2732, 0.3612, 0.34, 0.3612, 0.1531, 0.4215, 0.1027, 0.4404, 0.1695, 0.4201, 0.4767, 0.3612, 0.6369, 0.0772, 0.2732, 0.5859, 0.7579, 0.5574, 0.4404, 0.4019, 0.4767, 0.7351, 0.7096, 0.5859, 0.34, 0.5106, 0.4404, 0.5574, 0.2263, 0.5106, 0.2235, 0.296, 0.4939, 0.296, 0.4215, 0.1531, 0.1139, 0.7964, 0.0747, 0.3089, 0.3612, 0.296, 0.8481, 0.802, 0.4215, 0.6597, 0.2057, 0.5267, 0.2023, 0.0516, 0.0772, 0.2023, 0.4019, 0.5106, 0.4767, 0.2263, 0.0772, 0.5106, 0.5859, 0.4588, 0.4019, 0.5859, 0.4019, 0.5859, 0.5859, 0.3182, 0.128, 0.4767, 0.4215, 0.3134, 0.4404, 0.0772, 0.6124, 0.4404, 0.4588, 0.2732, 0.4215, 0.2263, 0.4019, 0.0772, 0.7506, 0.7964, 0.3612, 0.101, 0.296, 0.5574, 0.1531, 0.4019, 0.3612, 0.6124, 0.34, 0.5095, 0.0772, 0.4588, 0.25, 0.5106, 0.3182, 0.1779, 0.34, 0.3182, 0.296, 0.5106, 0.4019, 0.5106, 0.4404, 0.4019, 0.4215, 0.3182, 0.6124, 0.4019, 0.25, 0.34, 0.5267, 0.6392, 0.5719, 0.2732, 0.6597, 0.3182, 0.1779, 0.0772, 0.4019, 0.3182, 0.34, 0.4019, 0.2732, 0.3252, 0.6124, 0.4019, 0.296, 0.2732, 0.5859, 0.0772, 0.4019, 0.0772, 0.6369, 0.34, 0.3182, 0.4019, 0.6369, 0.5719, 0.3818, 0.2263, 0.5086, 0.2263, 0.2023, 0.2263, 0.1531, 0.1531, 0.1779, 0.34, 0.296, 0.6369, 0.296, 0.4019, 0.2924, 0.2846, 0.8555, 0.6124, 0.4019, 0.3612, 0.5859, 0.4767, 0.7096, 0.296, 0.0516, 0.4404, 0.296, 0.296, 0.6705, 0.4588, 0.5574, 0.5667, 0.2263, 0.5267, 0.2057, 0.4215, 0.2617, 0.2263, 0.3818, 0.3612, 0.0772, 0.296, 0.34, 0.6369, 0.5859, 0.4404, 0.2057, 0.0772, 0.5563, 0.0762, 0.296, 0.3415, 0.617, 0.4019, 0.296, 0.5267, 0.6124, 0.296, 0.5994, 0.296, 0.5719, 0.3182, 0.4019, 0.4767, 0.2878, 0.357, 0.6124, 0.1027, 0.128, 0.1779, 0.4019, 0.296, 0.25, 0.296, 0.3612, 0.296, 0.296, 0.296, 0.1057, 0.2732, 0.8481, 0.3412, 0.4404, 0.4588, 0.3857, 0.296, 0.6369, 0.296, 0.0865, 0.1779, 0.6717, 0.6249, 0.25, 0.5574, 0.4767, 0.7351, 0.4019, 0.7003, 0.3182, 0.3182, 0.6597, 0.2263, 0.8176, 0.5574, 0.296, 0.4019, 0.1695, 0.4404, 0.4939, 0.5267, 0.296, 0.4939, 0.4404, 0.2057, 0.4023, 0.1027, 0.4019, 0.4215, 0.3612, 0.4939, 0.4019, 0.296, 0.0772, 0.7964, 0.7545, 0.2411, 0.34, 0.4939, 0.34, 0.34, 0.3612, 0.3612, 0.4588, 0.0772, 0.4019, 0.128, 0.0772, 0.6336, 0.0772, 0.3818, 0.128, 0.2023, 0.4215, 0.4023, 0.4019, 0.4019, 0.296, 0.5994, 0.2023, 0.545, 0.4404, 0.296, 0.296, 0.4215, 0.2263, 0.2235, 0.0772, 0.4404, 0.4019, 0.0772, 0.3612, 0.6249, 0.5574, 0.296, 0.3182, 0.3612, 0.3818, 0.4939, 0.34, 0.25, 0.5719, 0.2023, 0.296, 0.5719, 0.1779, 0.5994, 0.2263, 0.6369, 0.4939, 0.4767, 0.6369, 0.7096, 0.5719, 0.4404, 0.2732, 0.3182, 0.1779, 0.4404, 0.296, 0.34, 0.0516, 0.2732, 0.6369, 0.4404, 0.3612, 0.2924, 0.296, 0.1531, 0.1556, 0.2263, 0.6808, 0.1739, 0.5106, 0.0772, 0.3597, 0.296, 0.7184, 0.2263, 0.7351, 0.3182, 0.1027, 0.6808, 0.4019, 0.4168, 0.3612, 0.0885, 0.3818, 0.34, 0.34, 0.4767, 0.5574, 0.34, 0.296, 0.3887, 0.3182, 0.8316, 0.128, 0.6369, 0.4588, 0.3818, 0.3182, 0.128, 0.6369, 0.296, 0.3182, 0.6369, 0.2023, 0.3182, 0.4939, 0.34, 0.296, 0.4023, 0.25, 0.296, 0.4588, 0.3612, 0.5859, 0.2732, 0.4019, 0.5719, 0.25, 0.3818, 0.2023, 0.296, 0.34, 0.5556, 0.3182, 0.1027, 0.5129, 0.4019, 0.3182, 0.0516, 0.3612, 0.4588, 0.2732, 0.34, 0.128, 0.2263, 0.765, 0.34, 0.4416, 0.2023, 0.3612, 0.3612, 0.4767, 0.7096, 0.6126, 0.4588, 0.3182, 0.6124, 0.1027, 0.2732, 0.3182, 0.5106, 0.0772, 0.1779, 0.3182, 0.3612, 0.5106, 0.5574, 0.2023, 0.4019, 0.0772, 0.34, 0.4019, 0.4215, 0.6249, 0.128, 0.1695, 0.3384, 0.3612, 0.3182, 0.6597, 0.296, 0.431, 0.4019, 0.5859, 0.4019, 0.34, 0.2057, 0.3182, 0.4019, 0.3182, 0.2732, 0.6908, 0.0772, 0.6249, 0.4939, 0.3875, 0.5106, 0.4939, 0.4019, 0.681, 0.296, 0.3612, 0.5267, 0.3818, 0.2212, 0.296, 0.0772, 0.4404, 0.296, 0.5859, 0.5106, 0.2057, 0.6369, 0.0772, 0.6087, 0.1139, 0.7096, 0.4848, 0.2732, 0.296, 0.296, 0.3612, 0.4588, 0.6597, 0.296, 0.4023, 0.5106, 0.3612, 0.3612, 0.6369, 0.3818, 0.2732, 0.34, 0.2924, 0.5267, 0.3612, 0.296, 0.3612, 0.34, 0.659, 0.5859, 0.5994, 0.8201, 0.6369, 0.765, 0.3612, 0.296, 0.296, 0.34, 0.3612, 0.0772, 0.2263, 0.5267, 0.3875, 0.6597, 0.5106, 0.296, 0.4215, 0.1027, 0.1531, 0.2732, 0.5719, 0.3612, 0.2263, 0.2732, 0.5719, 0.296, 0.25, 0.7003, 0.4404, 0.6597, 0.1265, 0.128, 0.2023, 0.2235, 0.1027, 0.6697, 0.3612, 0.5106, 0.3182, 0.3744, 0.5106, 0.4404, 0.1901, 0.5106, 0.5267, 0.34, 0.7845, 0.34, 0.0772, 0.3612, 0.1197, 0.3566, 0.5106, 0.4588, 0.2263, 0.3818, 0.6124, 0.4572, 0.2023, 0.4215, 0.6369, 0.5719, 0.34, 0.4588, 0.4588, 0.4588, 0.4019, 0.3182, 0.25, 0.4404, 0.1531, 0.5095, 0.2204, 0.3182, 0.296, 0.3182, 0.5938, 0.4144, 0.2528, 0.6369, 0.34, 0.4019, 0.552, 0.2732, 0.6249, 0.3818, 0.3182, 0.2924, 0.25, 0.3182, 0.6705, 0.1027, 0.5719, 0.7964, 0.0762, 0.3612, 0.4767, 0.4019, 0.296, 0.1779, 0.4019, 0.4439, 0.1779, 0.296, 0.8555, 0.5574, 0.2716, 0.3182, 0.34, 0.6369, 0.1027, 0.4019, 0.296, 0.3612, 0.296, 0.1779, 0.34, 0.1027, 0.4767, 0.4215, 0.3566, 0.3612, 0.2263, 0.4404, 0.6908, 0.4215, 0.3182, 0.631, 0.3089, 0.5859, 0.8402, 0.1531, 0.2023, 0.4019, 0.0516, 0.2732, 0.1027, 0.4019, 0.2263, 0.34, 0.539, 0.5859, 0.128, 0.6124, 0.4939, 0.6369, 0.296, 0.1779, 0.0772, 0.2924, 0.0772, 0.5727, 0.5719, 0.2263, 0.4019, 0.5994, 0.0772, 0.2235, 0.3612, 0.3612, 0.0772, 0.3612, 0.3612, 0.7269, 0.1779, 0.34, 0.1027, 0.296, 0.2924, 0.6705, 0.2924, 0.8779, 0.2263, 0.0516, 0.4019, 0.2023, 0.6597, 0.2263, 0.5824, 0.2144, 0.6369, 0.4939, 0.2263, 0.34, 0.3089, 0.1027, 0.4588, 0.34, 0.4404, 0.296, 0.765, 0.4019, 0.4023, 0.6369, 0.4588, 0.2732, 0.5719, 0.6369, 0.5719, 0.5267, 0.8674, 0.296, 0.2732, 0.6369, 0.1779, 0.34, 0.5106, 0.4404, 0.5106, 0.5267, 0.765, 0.3182, 0.4588, 0.4767, 0.6369, 0.7855, 0.4215, 0.3612, 0.0772, 0.4019, 0.6369, 0.8427, 0.128, 0.4404, 0.4019, 0.3612, 0.7271, 0.2023, 0.0772, 0.6369, 0.3818, 0.3182, 0.4877, 0.5859, 0.296, 0.3182, 0.7992, 0.2732, 0.3102, 0.4019, 0.7906, 0.6369, 0.0772, 0.3182, 0.4468, 0.4019, 0.2023, 0.3182, 0.3597, 0.3612, 0.2732, 0.4215, 0.4019, 0.1779, 0.3566, 0.0772, 0.4404, 0.1779, 0.5859, 0.3612, 0.296, 0.4877, 0.3182, 0.4019, 0.0772, 0.5106, 0.6597, 0.5106, 0.2023, 0.7425, 0.296, 0.5106, 0.6478, 0.1531, 0.3182, 0.4019, 0.5106, 0.296, 0.5106, 0.3612, 0.34, 0.5106, 0.128, 0.2263, 0.4404, 0.0772, 0.1779, 0.0772, 0.296, 0.4019, 0.2732, 0.4404, 0.4404, 0.4588, 0.1477, 0.4877, 0.6124, 0.3818, 0.4404, 0.0772, 0.4019, 0.296, 0.4158, 0.3182, 0.323, 0.5994, 0.296, 0.6124, 0.5859, 0.2023, 0.5106, 0.3612, 0.4019, 0.296, 0.6249, 0.4019, 0.5994, 0.5859, 0.9349, 0.3612, 0.5423, 0.296, 0.4404, 0.8954, 0.3818, 0.296, 0.2263, 0.3182, 0.4404, 0.0772, 0.3612, 0.4588, 0.4927, 0.6369, 0.2263, 0.5994, 0.2732, 0.0553, 0.4019, 0.3818, 0.0772, 0.34, 0.34, 0.5859, 0.0772, 0.6124, 0.5106, 0.4019, 0.25, 0.2263, 0.6486, 0.2263, 0.3612, 0.2732, 0.1779, 0.3612, 0.1027, 0.3182, 0.4939, 0.3818, 0.3612, 0.4019, 0.6705, 0.6249, 0.5719, 0.4019, 0.3612, 0.3612, 0.5859, 0.4939, 0.3597, 0.0772, 0.1531, 0.0772, 0.5994, 0.7845, 0.4215, 0.6705, 0.296, 0.25, 0.4019, 0.4019, 0.3612, 0.296, 0.8065, 0.6124, 0.4767, 0.3612, 0.6597, 0.2732, 0.6542, 0.296, 0.1027, 0.2023, 0.2263, 0.8442, 0.3612, 0.3612, 0.4404, 0.5994, 0.1901, 0.4019, 0.34, 0.9528, 0.3612, 0.7269, 0.3412, 0.3804, 0.4019, 0.4019, 0.3612, 0.4062, 0.1027, 0.3612, 0.296, 0.3612, 0.4939, 0.6908, 0.0516, 0.2023, 0.5541, 0.3182, 0.5859, 0.1027, 0.25, 0.5499, 0.2846, 0.1531, 0.4019, 0.6369, 0.7783, 0.5719, 0.2732, 0.6369, 0.4404, 0.3875, 0.3612, 0.481, 0.4767, 0.2023, 0.2023, 0.6597, 0.4767, 0.5106, 0.34, 0.5859, 0.296, 0.6808, 0.4019, 0.2263, 0.3182, 0.2732, 0.4588, 0.1893, 0.4404, 0.4019, 0.1901, 0.296, 0.5968, 0.2023, 0.128, 0.5719, 0.3612, 0.0772, 0.3612, 0.296, 0.4767, 0.4215, 0.296, 0.128, 0.4019, 0.6896, 0.4201, 0.7096, 0.296, 0.4404, 0.5859, 0.3597, 0.5994, 0.4404, 0.2732, 0.296, 0.5106, 0.4019, 0.3597, 0.4404, 0.6369, 0.296, 0.3612, 0.4767, 0.2732, 0.5563, 0.2732, 0.4019, 0.0772, 0.34, 0.5106, 0.4404, 0.4019, 0.2732, 0.8126, 0.3612, 0.3612, 0.2732, 0.4404, 0.7269, 0.2263, 0.5859, 0.296, 0.296, 0.7269, 0.2023, 0.5106, 0.3818, 0.1037, 0.5739, 0.7579, 0.5106, 0.4019, 0.872, 0.4019, 0.5106, 0.1695, 0.6486, 0.4939, 0.5859, 0.6249, 0.8481, 0.4019, 0.296, 0.5106, 0.6249, 0.2846, 0.2263, 0.1027, 0.6124, 0.4019, 0.2924, 0.802, 0.5367, 0.4767, 0.3182, 0.7964, 0.634, 0.0516, 0.4019, 0.5256, 0.447, 0.3612, 0.4767, 0.3612, 0.0647, 0.4019, 0.128, 0.2243, 0.2382, 0.3612, 0.6369, 0.296, 0.296, 0.0772, 0.2023, 0.34, 0.6249, 0.3818, 0.3182, 0.6361, 0.5106, 0.4588, 0.296, 0.7269, 0.7405, 0.6369, 0.3182, 0.4449, 0.2732, 0.4767, 0.6369, 0.5598, 0.5106, 0.4023, 0.6705, 0.7845, 0.296, 0.5574, 0.3182, 0.3321, 0.0772, 0.1027, 0.4019, 0.5994, 0.296, 0.5859, 0.4939, 0.5106, 0.4019, 0.34, 0.4019, 0.6369, 0.3818, 0.2023, 0.4939, 0.2732, 0.6369, 0.296, 0.0516, 0.296, 0.8126, 0.7717, 0.4019, 0.4019, 0.34, 0.25, 0.6369, 0.3612, 0.0772, 0.4019, 0.3412, 0.4939, 0.6486, 0.4404, 0.2732, 0.4939, 0.6369, 0.5719, 0.2235, 0.296, 0.2263, 0.34, 0.34, 0.0516, 0.8537, 0.6486, 0.6652, 0.1695, 0.5106, 0.1695, 0.2732, 0.2023, 0.9001, 0.3182, 0.2584, 0.5106, 0.1195, 0.0869, 0.1531, 0.2263, 0.3412, 0.0516, 0.296, 0.2263, 0.6096, 0.7469, 0.4939, 0.765, 0.3182, 0.7845, 0.2023, 0.34, 0.5859, 0.4019, 0.3182, 0.3875, 0.4588, 0.3412, 0.4404, 0.4745, 0.34, 0.296, 0.296, 0.4559, 0.296, 0.4588, 0.3182, 0.1027, 0.5267, 0.1901, 0.4019, 0.5859, 0.0772, 0.1779, 0.6369, 0.743, 0.2057, 0.4019, 0.6068, 0.5563, 0.3182, 0.4404, 0.5859, 0.4173, 0.0772, 0.2144, 0.296, 0.2263, 0.3182, 0.836, 0.4191, 0.7351, 0.4404, 0.6369, 0.5106, 0.2732, 0.5106, 0.4019, 0.4019, 0.3182, 0.4404, 0.802, 0.0772, 0.2732, 0.8555, 0.296, 0.5423, 0.3612, 0.1779, 0.2716, 0.4019, 0.1779, 0.3412, 0.4215, 0.34, 0.2023, 0.6124, 0.3818, 0.296, 0.4404, 0.3338, 0.4404, 0.1779, 0.4404, 0.3182, 0.6369, 0.0516, 0.4019, 0.0772, 0.0516, 0.2732, 0.1856, 0.4404, 0.4939, 0.3412, 0.25, 0.4019, 0.5106, 0.0644, 0.4939, 0.5267, 0.6222, 0.34, 0.6908, 0.3818, 0.296, 0.4019, 0.4005, 0.1779, 0.4215, 0.4019, 0.3597, 0.4019, 0.1406, 0.5499, 0.296, 0.34, 0.7184, 0.6369, 0.6808, 0.6757, 0.5719, 0.296, 0.6808, 0.4215, 0.4404, 0.4404, 0.2732, 0.4131, 0.8316, 0.431, 0.5106, 0.1531, 0.5106, 0.6124, 0.6369, 0.6369, 0.3612, 0.4588, 0.4404, 0.296, 0.1779, 0.3612, 0.6597, 0.296, 0.128, 0.3182, 0.3182, 0.2023, 0.6369, 0.296, 0.4019, 0.3612, 0.7003, 0.802, 0.128, 0.5106, 0.5574, 0.4168, 0.5267, 0.5719, 0.6249, 0.5267, 0.3612, 0.296, 0.0772, 0.34, 0.3384, 0.7003, 0.5267, 0.2023, 0.4019, 0.4019, 0.4019, 0.2732, 0.0772, 0.4404, 0.3818, 0.5859, 0.296, 0.4019, 0.5267, 0.1496, 0.3612, 0.296, 0.5106, 0.3182, 0.4588, 0.4019, 0.2716, 0.25, 0.34, 0.2247, 0.7351, 0.6124, 0.3612, 0.802, 0.3612, 0.0772, 0.8316, 0.0516, 0.6369, 0.5267, 0.0516, 0.0772, 0.34, 0.5994, 0.296, 0.296, 0.0516, 0.5859, 0.6486, 0.4767, 0.7096, 0.4767, 0.6369, 0.5106, 0.3818, 0.1779, 0.4588, 0.2732, 0.3291, 0.5267, 0.8271, 0.3818, 0.5106, 0.5423, 0.5574, 0.5574, 0.6369, 0.6369, 0.34, 0.0772, 0.6258, 0.296, 0.7096, 0.3612, 0.34, 0.6369, 0.0516, 0.2023, 0.3716, 0.4588, 0.5106, 0.8316, 0.34, 0.296, 0.34, 0.1901, 0.4939, 0.2023, 0.6249, 0.3612, 0.5423, 0.4404, 0.4404, 0.4939, 0.1531, 0.5859, 0.3919, 0.4215, 0.34, 0.1531, 0.2023, 0.1531, 0.34, 0.296, 0.6808, 0.296, 0.1779, 0.6369, 0.4404, 0.3612, 0.4588, 0.2732, 0.4717, 0.3612, 0.3612, 0.2023, 0.6124, 0.3612, 0.296, 0.6249, 0.1779, 0.6369, 0.4215, 0.4019, 0.6369, 0.3612, 0.296, 0.6369, 0.4019, 0.4019, 0.296, 0.4023, 0.6072, 0.296, 0.4019, 0.6124, 0.4019, 0.3612, 0.128, 0.2732, 0.4939, 0.25, 0.5859, 0.0772, 0.2023, 0.4767, 0.3612, 0.4939, 0.624, 0.4767, 0.4939, 0.7184, 0.4767, 0.2235, 0.3566, 0.0516, 0.296, 0.3182, 0.3818, 0.7184, 0.34, 0.4939, 0.1027, 0.3597, 0.1531, 0.3612, 0.2023, 0.2732, 0.2846, 0.2732, 0.296, 0.0516, 0.296, 0.4939, 0.6597, 0.4588, 0.4404, 0.128, 0.3182, 0.2732, 0.128, 0.0772, 0.296, 0.296, 0.1531, 0.4019, 0.3612, 0.6124, 0.4939, 0.1531, 0.4215, 0.7184, 0.5106, 0.0516, 0.296, 0.34, 0.5267, 0.4588, 0.5719, 0.2023, 0.4404, 0.2023, 0.4767, 0.0516, 0.25, 0.2023, 0.4019, 0.4588, 0.6808, 0.4588, 0.4588, 0.4939, 0.3612, 0.4019, 0.0772, 0.4019, 0.3182, 0.2023, 0.4019, 0.296, 0.3612, 0.204, 0.4588, 0.4588, 0.3566, 0.3818, 0.5994, 0.34, 0.5719, 0.5574, 0.1901, 0.8126, 0.4404, 0.2023, 0.8074, 0.2023, 0.3947, 0.3182, 0.2732, 0.34, 0.5106, 0.5106, 0.34, 0.4767, 0.3182, 0.296, 0.7506, 0.0772, 0.25, 0.6369, 0.1531, 0.6369, 0.6124, 0.8555, 0.6369, 0.4939, 0.3612, 0.4588, 0.4939, 0.296, 0.296, 0.4215, 0.1531, 0.5267, 0.4404, 0.0516, 0.25, 0.4939, 0.775, 0.7184, 0.6249, 0.4588, 0.3182, 0.4404, 0.3182, 0.4019, 0.4588, 0.0772, 0.802, 0.34, 0.4215, 0.296, 0.4939, 0.3612, 0.296, 0.7351, 0.6428, 0.4404, 0.2732, 0.3089, 0.6369, 0.4019, 0.296, 0.5994, 0.6808, 0.296, 0.1027, 0.2023, 0.4404, 0.1779, 0.7506, 0.25, 0.2023, 0.4404, 0.34, 0.3182, 0.4168, 0.4404, 0.6908, 0.4588, 0.4939, 0.296, 0.4588, 0.128, 0.3182, 0.3818, 0.3182, 0.7579, 0.5719, 0.7783, 0.296, 0.6908, 0.4588, 0.296, 0.4939, 0.0772, 0.3612, 0.4767, 0.4404, 0.3612, 0.4588, 0.6808, 0.666, 0.2516, 0.4404, 0.1779, 0.4019, 0.4005, 0.4019, 0.3818, 0.4019, 0.4019, 0.1779, 0.3612, 0.4404, 0.4767, 0.6588, 0.0772, 0.2235, 0.3182, 0.5859, 0.4717, 0.0772, 0.296, 0.3612, 0.4215, 0.4005, 0.34, 0.3327, 0.6124, 0.4588, 0.34, 0.2732, 0.0772, 0.6908, 0.5267, 0.7003, 0.2263, 0.5994, 0.5267, 0.34, 0.6597, 0.1779, 0.0772, 0.7803, 0.6249, 0.6605, 0.1531, 0.1901, 0.2263, 0.6908, 0.5106, 0.6597, 0.2732, 0.4939, 0.3327, 0.8807, 0.3818, 0.6369, 0.3612, 0.1779, 0.5709, 0.7096, 0.2023, 0.1761, 0.4404, 0.0592, 0.6369, 0.296, 0.5499, 0.4939, 0.6124, 0.5859, 0.4939, 0.296, 0.25, 0.3182, 0.7269, 0.4588, 0.222, 0.34, 0.4404, 0.7506, 0.4404, 0.6369, 0.6249, 0.2263, 0.3182, 0.3818, 0.5267, 0.6249, 0.34, 0.5423, 0.3612, 0.4019, 0.2382, 0.6921, 0.296, 0.1531, 0.128, 0.3182, 0.4939, 0.296, 0.296, 0.431, 0.2212, 0.5267, 0.296, 0.4404, 0.2023, 0.3818, 0.4588, 0.4588, 0.3818, 0.296, 0.7958, 0.3612, 0.3182, 0.0516, 0.5859, 0.0516, 0.3612, 0.4588, 0.6369, 0.2023, 0.3818, 0.5106, 0.6369, 0.4019, 0.3182, 0.5719, 0.3612, 0.8885, 0.0767, 0.4215, 0.1779, 0.5719, 0.34, 0.3612, 0.765, 0.5994, 0.4019, 0.9337, 0.7184, 0.296, 0.6392, 0.2023, 0.91, 0.6771, 0.3612, 0.6369, 0.34, 0.1779, 0.296, 0.34, 0.1027, 0.296, 0.2023, 0.6705, 0.3612, 0.4019, 0.7351, 0.3818, 0.2732, 0.4588, 0.1154, 0.6908, 0.0772, 0.3182, 0.4404, 0.3818, 0.4767, 0.4019, 0.3612, 0.296, 0.4404, 0.0772, 0.3612, 0.4019, 0.4019, 0.4019, 0.1779, 0.3612, 0.34, 0.6369, 0.4588, 0.34, 0.3818, 0.3182, 0.3818, 0.4019, 0.7506, 0.34, 0.1477, 0.1531, 0.0935, 0.296, 0.743, 0.25, 0.5777, 0.34, 0.3182, 0.7351, 0.6369, 0.6249, 0.5859, 0.2023, 0.4215, 0.2023, 0.25, 0.5574, 0.0772, 0.5859, 0.296, 0.4215, 0.4019, 0.0772, 0.4019, 0.3182, 0.6908, 0.6808, 0.4019, 0.4404, 0.25, 0.3818, 0.6369, 0.1027, 0.4588, 0.4588, 0.296, 0.2023, 0.296, 0.2755, 0.3612, 0.6249, 0.296, 0.6808, 0.3612, 0.7096, 0.128, 0.0516, 0.3612, 0.296, 0.296, 0.6597, 0.4215, 0.128, 0.25, 0.2263, 0.431, 0.2023, 0.1779, 0.3612, 0.3182, 0.2382, 0.3071, 0.8577, 0.3818, 0.25, 0.4019, 0.4404, 0.0772, 0.0516, 0.2732, 0.765, 0.2023, 0.4767, 0.4939, 0.2023, 0.4404, 0.3818, 0.4588, 0.6369, 0.5719, 0.296, 0.3597, 0.7269, 0.4588, 0.2382, 0.3182, 0.4588, 0.3818, 0.4019, 0.4767, 0.7964, 0.7003, 0.4404, 0.1027, 0.296, 0.4939, 0.4927, 0.5106, 0.128, 0.296, 0.6908, 0.2716, 0.6249, 0.2924, 0.296, 0.1779, 0.5859, 0.4939, 0.4404, 0.34, 0.34, 0.2023, 0.4215, 0.3612, 0.3182, 0.4019, 0.4215, 0.4019, 0.4404, 0.34, 0.3169, 0.5994, 0.4019, 0.6705, 0.2732, 0.5106, 0.4404, 0.0772, 0.0516, 0.5106, 0.3182, 0.4588, 0.6369, 0.34, 0.5927, 0.3182, 0.34, 0.2023, 0.3182, 0.1531, 0.6597, 0.3182, 0.4404, 0.296, 0.5927, 0.2263, 0.296, 0.2732, 0.34, 0.34, 0.4019, 0.34, 0.6249, 0.4215, 0.3182, 0.3597, 0.4588, 0.4215, 0.34, 0.4404, 0.7845, 0.624, 0.4404, 0.34, 0.6369, 0.5267, 0.34, 0.4005, 0.3089, 0.0772, 0.2732, 0.6249, 0.4588, 0.7606, 0.1531, 0.1154, 0.4404, 0.8807, 0.5106, 0.4588, 0.4404, 0.296, 0.0772, 0.5267, 0.5267, 0.4215, 0.2023, 0.5106, 0.7184, 0.4588, 0.4019, 0.5859, 0.1779, 0.296, 0.3182, 0.3612, 0.5267, 0.4939, 0.0772, 0.1531, 0.8126, 0.2023, 0.3412, 0.3818, 0.6705, 0.34, 0.1779, 0.3182, 0.0516, 0.34, 0.25, 0.4588, 0.4215, 0.2263, 0.0772, 0.6808, 0.6712, 0.1877, 0.5574, 0.34, 0.3182, 0.4588, 0.128, 0.3818, 0.4588, 0.34, 0.8625, 0.3612, 0.6249, 0.34, 0.6249, 0.8945, 0.296, 0.8713, 0.3612, 0.4939, 0.34, 0.2023, 0.8176, 0.4939, 0.2263, 0.6369, 0.6249, 0.5994, 0.128, 0.5994, 0.4215, 0.2023, 0.3612, 0.34, 0.5106, 0.3612, 0.0516, 0.34, 0.296, 0.855, 0.8765, 0.5994, 0.3612, 0.6249, 0.34, 0.4588, 0.34, 0.3182, 0.5267, 0.4767, 0.3103, 0.2716, 0.3182, 0.6249, 0.3818, 0.34, 0.7964, 0.6369, 0.5267, 0.0772, 0.4939, 0.743, 0.4215, 0.8957, 0.7845, 0.6249, 0.6249, 0.34, 0.34, 0.5106, 0.6705, 0.4767, 0.5719, 0.1531, 0.1779, 0.34, 0.34, 0.7269, 0.3182, 0.4588, 0.2023, 0.5719, 0.5267, 0.128, 0.3182, 0.6369, 0.4215, 0.6369, 0.25, 0.0772, 0.3892, 0.5777, 0.5106, 0.5994, 0.4019, 0.3818, 0.2023, 0.4588, 0.5106, 0.34, 0.296, 0.34, 0.296, 0.128, 0.1779, 0.6705, 0.6705, 0.34, 0.3612, 0.4215, 0.4588, 0.4019, 0.6369, 0.2732, 0.3818, 0.6369, 0.3182, 0.2023, 0.4404, 0.5106, 0.4404, 0.7425, 0.0772, 0.4404, 0.4215, 0.4404, 0.4939, 0.5859, 0.6542, 0.6187, 0.3612, 0.3818, 0.6369, 0.5574, 0.7579, 0.5106, 0.3182, 0.5106, 0.7569, 0.5994, 0.3182, 0.7684, 0.296, 0.1065, 0.4019, 0.5106, 0.4019, 0.34, 0.4588, 0.6124, 0.7845, 0.2732, 0.8934, 0.5423, 0.4588, 0.2732, 0.296, 0.3182, 0.836, 0.0836, 0.6697, 0.3612, 0.2732, 0.3182, 0.296, 0.296, 0.34, 0.5994, 0.6369, 0.2023, 0.2263, 0.5777, 0.5859, 0.4019, 0.5719, 0.4939, 0.6369, 0.6124, 0.2263, 0.4215, 0.5667, 0.3431, 0.5423, 0.8885, 0.25, 0.4588, 0.5994, 0.4215, 0.5994, 0.5423, 0.3612, 0.9485, 0.4019, 0.4019, 0.4019, 0.34, 0.5994, 0.0772, 0.3182, 0.5574, 0.4019, 0.5994, 0.25, 0.2732, 0.6705, 0.6249, 0.3252, 0.1027, 0.3089, 0.5574, 0.34, 0.2732, 0.5994, 0.4023, 0.4215, 0.128, 0.296, 0.7269, 0.296, 0.0516, 0.3612, 0.0516, 0.3182, 0.4588, 0.5106, 0.4019, 0.296, 0.296, 0.608, 0.4939, 0.3182, 0.34, 0.481, 0.4019, 0.296, 0.3612, 0.4019, 0.2732, 0.6475, 0.34, 0.1779, 0.2584, 0.0772, 0.296, 0.4927, 0.4404, 0.3818, 0.128, 0.4215, 0.0772, 0.7184, 0.5423, 0.2023, 0.4019, 0.3182, 0.5106, 0.3612, 0.34, 0.4019, 0.296, 0.6486, 0.4019, 0.4019, 0.128, 0.128, 0.7717, 0.5106, 0.2023, 0.128, 0.3612, 0.4588, 0.296, 0.4404, 0.2732, 0.4019, 0.7003, 0.5106, 0.8625, 0.659, 0.1027, 0.6369, 0.4404, 0.6369, 0.296, 0.5106, 0.7269, 0.6369, 0.3182, 0.4749, 0.128, 0.3818, 0.34, 0.4168, 0.0772, 0.1779, 0.6369, 0.3612, 0.7579, 0.296, 0.5859, 0.6486, 0.4404, 0.2732, 0.4404, 0.4588, 0.5106, 0.4215, 0.5423, 0.3818, 0.4404, 0.5927, 0.4019, 0.4404, 0.296, 0.5106, 0.4019, 0.3127, 0.6124, 0.0772, 0.2732, 0.552, 0.296, 0.25, 0.5106, 0.296, 0.34, 0.2023, 0.3818, 0.5719, 0.128, 0.34, 0.34, 0.9224, 0.296, 0.4215, 0.4717, 0.296, 0.8555, 0.5859, 0.0591, 0.4588, 0.128, 0.34, 0.0772, 0.4404, 0.4215, 0.4404, 0.3612, 0.765, 0.4215, 0.34, 0.296, 0.4215, 0.4939, 0.296, 0.3182, 0.4939, 0.4404, 0.4019, 0.4404, 0.5574, 0.2023, 0.4404, 0.4019, 0.2023, 0.34, 0.5106, 0.34, 0.6369, 0.1366, 0.4497, 0.2732, 0.4019, 0.6705, 0.4404, 0.25, 0.25, 0.4215, 0.4215, 0.0591, 0.3566, 0.5106, 0.4019, 0.34, 0.8271, 0.5106, 0.6486, 0.6908, 0.5106, 0.6808, 0.34, 0.4404, 0.7845, 0.3898, 0.3182, 0.5106, 0.3818, 0.0772, 0.5267, 0.2732, 0.2263, 0.4877, 0.4927, 0.4019, 0.6712, 0.34, 0.296, 0.2732, 0.0516, 0.4939, 0.5334, 0.25, 0.4404, 0.1531, 0.4404, 0.4939, 0.3182, 0.5106, 0.4019, 0.296, 0.0572, 0.5859, 0.6124, 0.5106, 0.5267, 0.6249, 0.2023, 0.2411, 0.296, 0.296, 0.4939, 0.4404, 0.34, 0.0772, 0.5267, 0.0516, 0.34, 0.4767, 0.5719, 0.2023, 0.4588, 0.9019, 0.5719, 0.5023, 0.4019, 0.5574, 0.4019, 0.4449, 0.6369, 0.4404, 0.296, 0.34, 0.3182, 0.4939, 0.765, 0.8689, 0.5859, 0.3612, 0.2023, 0.2732, 0.5574, 0.296, 0.5994, 0.1779, 0.6369, 0.34, 0.0516, 0.4939, 0.34, 0.2263, 0.4767, 0.0772, 0.5267, 0.4588, 0.4019, 0.5859, 0.4215, 0.2732, 0.4019, 0.6461, 0.5574, 0.4404, 0.296, 0.6124, 0.4215, 0.1531, 0.296, 0.34, 0.2732, 0.296, 0.296, 0.0772, 0.3818, 0.5859, 0.5859, 0.3612, 0.5106, 0.3612, 0.6705, 0.7783, 0.5719, 0.3182, 0.3182, 0.0772, 0.296, 0.4588, 0.4215, 0.079, 0.3182, 0.4019, 0.3818, 0.5423, 0.296, 0.34, 0.5994, 0.7615, 0.5106, 0.6697, 0.469, 0.3612, 0.296, 0.34, 0.34, 0.2023, 0.5859, 0.6369, 0.296, 0.4019, 0.2023, 0.5574, 0.2732, 0.2732, 0.4019, 0.5267, 0.2023, 0.6369, 0.34, 0.5719, 0.4404, 0.2247, 0.6249, 0.3612, 0.6124, 0.34, 0.2716, 0.34, 0.6249, 0.2263, 0.3612, 0.6369, 0.6249, 0.7184, 0.4588, 0.128, 0.3612, 0.5106, 0.5994, 0.296, 0.5994, 0.3818, 0.6369, 0.3182, 0.4404, 0.5859, 0.2732, 0.0516, 0.34, 0.3818, 0.4215, 0.4404, 0.5267, 0.3182, 0.1962, 0.3818, 0.2023, 0.3612, 0.5267, 0.0516, 0.4939, 0.6486, 0.743, 0.3182, 0.4588, 0.2732, 0.4767, 0.4215, 0.296, 0.6124, 0.5994, 0.2732, 0.34, 0.5423, 0.4404, 0.3182, 0.4391, 0.25, 0.5106, 0.3612, 0.3071, 0.34, 0.25, 0.6249, 0.34, 0.296, 0.5267, 0.5719, 0.34, 0.5574, 0.5574, 0.4019, 0.7096, 0.4404, 0.25, 0.1531, 0.4404, 0.296, 0.34, 0.7184, 0.3612, 0.3612, 0.5106, 0.1779, 0.5106, 0.4019, 0.4588, 0.2263, 0.4588, 0.3182, 0.4588, 0.4019, 0.8863, 0.296, 0.1531, 0.2023, 0.5423, 0.4215, 0.5046, 0.5574, 0.34, 0.4215, 0.7089, 0.4588, 0.4019, 0.296, 0.1779, 0.34, 0.2263, 0.4215, 0.2755, 0.5719, 0.34, 0.4404, 0.3818, 0.2263, 0.2023, 0.5267, 0.3182, 0.7269, 0.34, 0.4588, 0.5106, 0.6124, 0.197, 0.3612, 0.8316, 0.6705, 0.8338, 0.2732, 0.0772, 0.5859, 0.6369, 0.5943, 0.5267, 0.4215, 0.4019, 0.3182, 0.5106, 0.2023, 0.4767, 0.5719, 0.3182, 0.6369, 0.4215, 0.4404, 0.6486, 0.25, 0.2263, 0.4588, 0.3182, 0.3612, 0.7732, 0.4588, 0.5719, 0.3182, 0.3182, 0.34, 0.296, 0.0516, 0.128, 0.5859, 0.6369, 0.2732, 0.2263, 0.4678, 0.3182, 0.3612, 0.4404, 0.2023, 0.4404, 0.3612, 0.6908, 0.3818, 0.2263, 0.4404, 0.0772, 0.5719, 0.2144, 0.3612, 0.5859, 0.5859, 0.296, 0.296, 0.7469, 0.7096, 0.34, 0.3818, 0.4019, 0.296, 0.3182, 0.5994, 0.5423, 0.6486, 0.4939, 0.5984, 0.4404, 0.3182, 0.2732, 0.1779, 0.5423, 0.25, 0.3612, 0.4588, 0.431, 0.1511, 0.3612, 0.2023, 0.3612, 0.6369, 0.4404, 0.4215, 0.25, 0.296, 0.296, 0.2023, 0.5106, 0.34, 0.4404, 0.5994, 0.659, 0.4215, 0.4939, 0.3612, 0.296, 0.296, 0.6705, 0.25, 0.5267, 0.3182, 0.296, 0.2023, 0.6908, 0.765, 0.6249, 0.34, 0.296, 0.3612, 0.34, 0.3612, 0.3612, 0.5267, 0.34, 0.5423, 0.6692, 0.34, 0.3182, 0.4404, 0.0772, 0.2732, 0.1695, 0.0516, 0.4767, 0.7902, 0.5945, 0.296, 0.4588, 0.4939, 0.4215, 0.2235, 0.296, 0.4404, 0.6808, 0.8338, 0.4019, 0.5859, 0.34, 0.2263, 0.296, 0.2732, 0.2732, 0.4588, 0.4939, 0.4404, 0.4404, 0.0772, 0.3818, 0.4404, 0.5994, 0.4707, 0.5106, 0.5719, 0.128, 0.4404, 0.3818, 0.296, 0.4939, 0.128, 0.4404, 0.5574, 0.0772, 0.34, 0.296, 0.296, 0.6486, 0.6124, 0.296, 0.5106, 0.5106, 0.5859, 0.7076, 0.6369, 0.3612, 0.34, 0.5859, 0.885, 0.34, 0.6486, 0.0772, 0.4404, 0.5574, 0.1695, 0.6369, 0.8442, 0.3612, 0.4585, 0.2023, 0.3818, 0.0516, 0.4019, 0.2732, 0.2732, 0.5927, 0.4215, 0.3612, 0.128, 0.296, 0.4019, 0.2732, 0.3818, 0.25, 0.4588, 0.2023, 0.7351, 0.2263, 0.1027, 0.6808, 0.5106, 0.4215, 0.3182, 0.2732, 0.34, 0.4939, 0.4404, 0.7717, 0.1779, 0.34, 0.5719, 0.6369, 0.3716, 0.3182, 0.296, 0.3353, 0.1779, 0.296, 0.6369, 0.296, 0.3612, 0.4215, 0.3612, 0.7425, 0.296, 0.5859, 0.128, 0.296, 0.5267, 0.6486, 0.0772, 0.3252, 0.0516, 0.5106, 0.4019, 0.4588, 0.4019, 0.128, 0.4019, 0.4404, 0.2732, 0.4215, 0.34, 0.6124, 0.3182, 0.3182, 0.296, 0.3182, 0.296, 0.296, 0.2732, 0.5859, 0.2732, 0.34, 0.4019, 0.6369, 0.2924, 0.3612, 0.5859, 0.4404, 0.2023, 0.25, 0.7351, 0.5574, 0.34, 0.6908, 0.6486, 0.4939, 0.4588, 0.0516, 0.2023, 0.1027, 0.2732, 0.34, 0.7351, 0.2263, 0.4939, 0.4019, 0.089, 0.5994, 0.34, 0.3612, 0.296, 0.296, 0.4215, 0.3612, 0.5106, 0.0772, 0.4588, 0.5106, 0.5859, 0.2023, 0.5719, 0.4588, 0.3182, 0.6369, 0.2263, 0.4588, 0.6369, 0.2732, 0.3612, 0.6908, 0.0772, 0.5106, 0.2263, 0.7579, 0.0772, 0.6124, 0.5187, 0.3612, 0.5267, 0.4404, 0.3291, 0.879, 0.5106, 0.6486, 0.3612, 0.296, 0.3182, 0.0516, 0.4019, 0.5859, 0.3612, 0.0772, 0.7269, 0.0516, 0.4019, 0.6059, 0.34, 0.2382, 0.7003, 0.2716, 0.7264, 0.6249, 0.5719, 0.34, 0.8689, 0.6705, 0.8176, 0.4939, 0.34, 0.4767, 0.4019, 0.5994, 0.4404, 0.4215, 0.4019, 0.34, 0.4019, 0.3182, 0.4588, 0.3182, 0.4215, 0.2732, 0.5574, 0.6369, 0.5574, 0.6369, 0.2263, 0.3182, 0.1901, 0.2235, 0.5106, 0.128, 0.4939, 0.296, 0.4588, 0.9118, 0.5106, 0.2023, 0.6369, 0.3612, 0.6369, 0.3612, 0.8052, 0.3612, 0.4588, 0.296, 0.2023, 0.2235, 0.3182, 0.4588, 0.7845, 0.4404, 0.3612, 0.0516, 0.3182, 0.2263, 0.6369, 0.5563, 0.296, 0.6486, 0.4588, 0.5106, 0.3612, 0.1531, 0.4939, 0.1779, 0.4404, 0.34, 0.4588, 0.0935, 0.4019, 0.128, 0.0772, 0.34, 0.3612, 0.296, 0.6369, 0.34, 0.5574, 0.296, 0.3612, 0.3818, 0.765, 0.4939, 0.34, 0.34, 0.3612, 0.2263, 0.3182, 0.6908, 0.0772, 0.4404, 0.5106, 0.4019, 0.4767, 0.6124, 0.5267, 0.4215, 0.34, 0.7351, 0.4404, 0.2263, 0.0516, 0.2023, 0.3182, 0.6652, 0.1779, 0.25, 0.4019, 0.4588, 0.4588, 0.2732, 0.3612, 0.4019, 0.3182, 0.0772, 0.4588, 0.4939, 0.1027, 0.4215, 0.2732, 0.296, 0.4588, 0.2732, 0.3818, 0.6249, 0.8126, 0.5267, 0.34, 0.6369, 0.4588, 0.34, 0.34, 0.5106, 0.7003, 0.4215, 0.34, 0.6124, 0.34, 0.34, 0.5574, 0.0772, 0.34, 0.128, 0.2732, 0.743, 0.5267, 0.4019, 0.6369, 0.4588, 0.3612, 0.296, 0.3818, 0.4767, 0.2023, 0.4588, 0.4404, 0.6249, 0.34, 0.1779, 0.5859, 0.5574, 0.5719, 0.431, 0.4939, 0.2732, 0.6652, 0.5574, 0.0772, 0.2023, 0.2263, 0.4215, 0.34, 0.4939, 0.4588, 0.5267, 0.2263, 0.2177, 0.2023, 0.4019, 0.6249, 0.2732, 0.0772, 0.6249, 0.7351, 0.4939, 0.4404, 0.5719, 0.5719, 0.3612, 0.4019, 0.3182, 0.0572, 0.25, 0.2235, 0.5859, 0.3182, 0.6369, 0.4019, 0.4215, 0.4005, 0.296, 0.4939, 0.4404, 0.1154, 0.296, 0.4692, 0.25, 0.3612, 0.3612, 0.6705, 0.4588, 0.4754, 0.4939, 0.5994, 0.34, 0.6258, 0.1027, 0.2023, 0.34, 0.8834, 0.2732, 0.4019, 0.1531, 0.25, 0.4019, 0.4588, 0.0516, 0.2023, 0.4215, 0.2263, 0.7579, 0.2732, 0.3612, 0.7351, 0.5106, 0.3182, 0.34, 0.3612, 0.2023, 0.34, 0.6486, 0.4588, 0.2732, 0.4404, 0.296, 0.3612, 0.5106, 0.4404, 0.5859, 0.3612, 0.3612, 0.34, 0.6369, 0.2144, 0.4005, 0.5994, 0.296, 0.3612, 0.3612, 0.431, 0.7717, 0.1779, 0.3818, 0.2732, 0.5859, 0.3182, 0.4019, 0.5719, 0.2263, 0.612, 0.34, 0.6908, 0.2732, 0.2732, 0.34, 0.3818, 0.4019, 0.34, 0.6369, 0.25, 0.4585, 0.34, 0.2782, 0.0516, 0.4767, 0.4404, 0.6597, 0.7269, 0.2023, 0.5574, 0.0516, 0.5106, 0.2023, 0.2023, 0.0772, 0.1531, 0.5423, 0.2023, 0.34, 0.5859, 0.128, 0.8126, 0.1796, 0.4404, 0.6124, 0.5994, 0.0516, 0.2263, 0.6486, 0.296, 0.34, 0.4019, 0.4019, 0.4939, 0.4404, 0.8993, 0.8126, 0.25, 0.25, 0.3089, 0.3182, 0.2023, 0.25, 0.5719, 0.296, 0.3626, 0.6187, 0.34, 0.2732, 0.296, 0.3724, 0.5267, 0.4404, 0.6249, 0.4336, 0.1779, 0.6369, 0.2023, 0.0516, 0.4939, 0.4019, 0.3612, 0.4019, 0.4019, 0.7906, 0.3182, 0.34, 0.34, 0.2023, 0.5106, 0.6369, 0.6124, 0.25, 0.3818, 0.5994, 0.5994, 0.5106, 0.3818, 0.3182, 0.4404, 0.3612, 0.3612, 0.6369, 0.34, 0.2263, 0.34, 0.4215, 0.3182, 0.4767, 0.34, 0.34, 0.6908, 0.34, 0.2732, 0.4215, 0.2263, 0.4939, 0.2732, 0.34, 0.4404, 0.5859, 0.3182, 0.4404, 0.4939, 0.5859, 0.765, 0.4019, 0.4588, 0.0772, 0.4215, 0.5859, 0.7003, 0.5423, 0.34, 0.3612, 0.3612, 0.34, 0.4588, 0.4404, 0.3818, 0.2023, 0.4019, 0.2732, 0.34, 0.3612, 0.34, 0.6369, 0.3818, 0.2173, 0.743, 0.4588, 0.4019, 0.5106, 0.5106, 0.2732, 0.765, 0.2732, 0.0516, 0.3818, 0.5994, 0.1531, 0.6705, 0.4404, 0.6369, 0.296, 0.4404, 0.5994, 0.6908, 0.2263, 0.5267, 0.5994, 0.4215, 0.5423, 0.34, 0.7506, 0.2023, 0.4019, 0.34, 0.2732, 0.2023, 0.2023, 0.34, 0.34, 0.4404, 0.4767, 0.4404, 0.2732, 0.9118, 0.34, 0.34, 0.6597, 0.6369, 0.4404, 0.7783, 0.4019, 0.128, 0.2732, 0.4404, 0.4939, 0.5267, 0.34, 0.4767, 0.4588, 0.7096, 0.2732, 0.6249, 0.1513, 0.34, 0.5719, 0.296, 0.4215, 0.6369, 0.6369, 0.6249, 0.4939, 0.3182, 0.1655, 0.34, 0.6908, 0.5859, 0.2023, 0.4019, 0.4215, 0.296, 0.3818, 0.2023, 0.128, 0.34, 0.6908, 0.6249, 0.3612, 0.2023, 0.34, 0.7351, 0.34, 0.5106, 0.3612, 0.2732, 0.4404, 0.296, 0.6369, 0.4019, 0.2263, 0.1695, 0.2732, 0.5719, 0.4019, 0.296, 0.3818, 0.4019, 0.7118, 0.4404, 0.2023, 0.5423, 0.34, 0.4019, 0.5859, 0.34, 0.128, 0.4927, 0.34, 0.5994, 0.6369, 0.6597, 0.5859, 0.5499, 0.4588, 0.0516, 0.4404, 0.5859, 0.4404, 0.2732, 0.3612, 0.3612, 0.2023, 0.4588, 0.296, 0.0516, 0.2732, 0.3612, 0.3818, 0.3612, 0.296, 0.34, 0.5106, 0.4404, 0.2732, 0.2023, 0.34, 0.8957, 0.4404, 0.34, 0.3612, 0.5423, 0.296, 0.5927, 0.4215, 0.0736, 0.4767, 0.1531, 0.4588, 0.4404, 0.4588, 0.3724, 0.34, 0.34, 0.802, 0.2732, 0.4404, 0.4767, 0.25, 0.34, 0.4767, 0.3818, 0.5106, 0.5106, 0.4939, 0.802, 0.5859, 0.25, 0.34, 0.2732, 0.3384, 0.3612, 0.4588, 0.25, 0.7351, 0.3612, 0.4588, 0.2732, 0.296, 0.3612, 0.4215, 0.1027, 0.296, 0.34, 0.2732, 0.5106, 0.1027, 0.34, 0.34, 0.6597, 0.7783, 0.4767, 0.4939, 0.1027, 0.4767, 0.34, 0.34, 0.5267, 0.7766, 0.34, 0.7778, 0.6808, 0.34, 0.1531, 0.3182, 0.6369, 0.6908, 0.7351, 0.431, 0.3818, 0.4215, 0.4588, 0.8586, 0.4588, 0.5106, 0.3182, 0.3612, 0.4404, 0.2023, 0.6124, 0.3818, 0.3612, 0.7096, 0.7964, 0.2732, 0.296, 0.3612, 0.2023, 0.5859, 0.6369, 0.2263, 0.6597, 0.3612, 0.4215, 0.296, 0.4404, 0.6597, 0.296, 0.34, 0.3612, 0.5994, 0.3612, 0.4404, 0.6808, 0.7717, 0.2732, 0.6597, 0.296, 0.7096, 0.6249, 0.34, 0.5267, 0.5106, 0.4404, 0.3818, 0.2732, 0.4019, 0.3612, 0.2732, 0.34, 0.5106, 0.4939, 0.4939, 0.4939, 0.6369, 0.4005, 0.5927, 0.6486, 0.6808, 0.3612, 0.34, 0.2263, 0.5994, 0.0772, 0.6369, 0.4939, 0.34, 0.296, 0.0854, 0.3818, 0.8316, 0.1531, 0.4019, 0.3182, 0.2732, 0.7845, 0.2732, 0.5994, 0.6124, 0.5256, 0.5859, 0.2732, 0.6486, 0.34, 0.4215, 0.2732, 0.5859, 0.5859, 0.3182, 0.4404, 0.4019, 0.3818, 0.9313, 0.7783, 0.1406, 0.4939], \"xaxis\": \"x\", \"yaxis\": \"y\"}],                        {\"barmode\": \"relative\", \"legend\": {\"title\": {\"text\": \"Overall Sentiment\"}, \"tracegroupgap\": 0}, \"margin\": {\"t\": 60}, \"template\": {\"data\": {\"bar\": [{\"error_x\": {\"color\": \"#2a3f5f\"}, \"error_y\": {\"color\": \"#2a3f5f\"}, \"marker\": {\"line\": {\"color\": \"#E5ECF6\", \"width\": 0.5}}, \"type\": \"bar\"}], \"barpolar\": [{\"marker\": {\"line\": {\"color\": \"#E5ECF6\", \"width\": 0.5}}, \"type\": \"barpolar\"}], \"carpet\": [{\"aaxis\": {\"endlinecolor\": \"#2a3f5f\", \"gridcolor\": \"white\", \"linecolor\": \"white\", \"minorgridcolor\": \"white\", \"startlinecolor\": \"#2a3f5f\"}, \"baxis\": {\"endlinecolor\": \"#2a3f5f\", \"gridcolor\": \"white\", \"linecolor\": \"white\", \"minorgridcolor\": \"white\", \"startlinecolor\": \"#2a3f5f\"}, \"type\": \"carpet\"}], \"choropleth\": [{\"colorbar\": {\"outlinewidth\": 0, \"ticks\": \"\"}, \"type\": \"choropleth\"}], \"contour\": [{\"colorbar\": {\"outlinewidth\": 0, \"ticks\": \"\"}, \"colorscale\": [[0.0, \"#0d0887\"], [0.1111111111111111, \"#46039f\"], [0.2222222222222222, \"#7201a8\"], [0.3333333333333333, \"#9c179e\"], [0.4444444444444444, \"#bd3786\"], [0.5555555555555556, \"#d8576b\"], [0.6666666666666666, \"#ed7953\"], [0.7777777777777778, \"#fb9f3a\"], [0.8888888888888888, \"#fdca26\"], [1.0, \"#f0f921\"]], \"type\": \"contour\"}], \"contourcarpet\": [{\"colorbar\": {\"outlinewidth\": 0, \"ticks\": \"\"}, \"type\": \"contourcarpet\"}], \"heatmap\": [{\"colorbar\": {\"outlinewidth\": 0, \"ticks\": \"\"}, \"colorscale\": [[0.0, \"#0d0887\"], [0.1111111111111111, \"#46039f\"], [0.2222222222222222, \"#7201a8\"], [0.3333333333333333, \"#9c179e\"], [0.4444444444444444, \"#bd3786\"], [0.5555555555555556, \"#d8576b\"], [0.6666666666666666, \"#ed7953\"], [0.7777777777777778, \"#fb9f3a\"], [0.8888888888888888, \"#fdca26\"], [1.0, \"#f0f921\"]], \"type\": \"heatmap\"}], \"heatmapgl\": [{\"colorbar\": {\"outlinewidth\": 0, \"ticks\": \"\"}, \"colorscale\": [[0.0, \"#0d0887\"], [0.1111111111111111, \"#46039f\"], [0.2222222222222222, \"#7201a8\"], [0.3333333333333333, \"#9c179e\"], [0.4444444444444444, \"#bd3786\"], [0.5555555555555556, \"#d8576b\"], [0.6666666666666666, \"#ed7953\"], [0.7777777777777778, \"#fb9f3a\"], [0.8888888888888888, \"#fdca26\"], [1.0, \"#f0f921\"]], \"type\": \"heatmapgl\"}], \"histogram\": [{\"marker\": {\"colorbar\": {\"outlinewidth\": 0, \"ticks\": \"\"}}, \"type\": \"histogram\"}], \"histogram2d\": [{\"colorbar\": {\"outlinewidth\": 0, \"ticks\": \"\"}, \"colorscale\": [[0.0, \"#0d0887\"], [0.1111111111111111, \"#46039f\"], [0.2222222222222222, \"#7201a8\"], [0.3333333333333333, \"#9c179e\"], [0.4444444444444444, \"#bd3786\"], [0.5555555555555556, \"#d8576b\"], [0.6666666666666666, \"#ed7953\"], [0.7777777777777778, \"#fb9f3a\"], [0.8888888888888888, \"#fdca26\"], [1.0, \"#f0f921\"]], \"type\": \"histogram2d\"}], \"histogram2dcontour\": [{\"colorbar\": {\"outlinewidth\": 0, \"ticks\": \"\"}, \"colorscale\": [[0.0, \"#0d0887\"], [0.1111111111111111, \"#46039f\"], [0.2222222222222222, \"#7201a8\"], [0.3333333333333333, \"#9c179e\"], [0.4444444444444444, \"#bd3786\"], [0.5555555555555556, \"#d8576b\"], [0.6666666666666666, \"#ed7953\"], [0.7777777777777778, \"#fb9f3a\"], [0.8888888888888888, \"#fdca26\"], [1.0, \"#f0f921\"]], \"type\": \"histogram2dcontour\"}], \"mesh3d\": [{\"colorbar\": {\"outlinewidth\": 0, \"ticks\": \"\"}, \"type\": \"mesh3d\"}], \"parcoords\": [{\"line\": {\"colorbar\": {\"outlinewidth\": 0, \"ticks\": \"\"}}, \"type\": \"parcoords\"}], \"pie\": [{\"automargin\": true, \"type\": \"pie\"}], \"scatter\": [{\"marker\": {\"colorbar\": {\"outlinewidth\": 0, \"ticks\": \"\"}}, \"type\": \"scatter\"}], \"scatter3d\": [{\"line\": {\"colorbar\": {\"outlinewidth\": 0, \"ticks\": \"\"}}, \"marker\": {\"colorbar\": {\"outlinewidth\": 0, \"ticks\": \"\"}}, \"type\": \"scatter3d\"}], \"scattercarpet\": [{\"marker\": {\"colorbar\": {\"outlinewidth\": 0, \"ticks\": \"\"}}, \"type\": \"scattercarpet\"}], \"scattergeo\": [{\"marker\": {\"colorbar\": {\"outlinewidth\": 0, \"ticks\": \"\"}}, \"type\": \"scattergeo\"}], \"scattergl\": [{\"marker\": {\"colorbar\": {\"outlinewidth\": 0, \"ticks\": \"\"}}, \"type\": \"scattergl\"}], \"scattermapbox\": [{\"marker\": {\"colorbar\": {\"outlinewidth\": 0, \"ticks\": \"\"}}, \"type\": \"scattermapbox\"}], \"scatterpolar\": [{\"marker\": {\"colorbar\": {\"outlinewidth\": 0, \"ticks\": \"\"}}, \"type\": \"scatterpolar\"}], \"scatterpolargl\": [{\"marker\": {\"colorbar\": {\"outlinewidth\": 0, \"ticks\": \"\"}}, \"type\": \"scatterpolargl\"}], \"scatterternary\": [{\"marker\": {\"colorbar\": {\"outlinewidth\": 0, \"ticks\": \"\"}}, \"type\": \"scatterternary\"}], \"surface\": [{\"colorbar\": {\"outlinewidth\": 0, \"ticks\": \"\"}, \"colorscale\": [[0.0, \"#0d0887\"], [0.1111111111111111, \"#46039f\"], [0.2222222222222222, \"#7201a8\"], [0.3333333333333333, \"#9c179e\"], [0.4444444444444444, \"#bd3786\"], [0.5555555555555556, \"#d8576b\"], [0.6666666666666666, \"#ed7953\"], [0.7777777777777778, \"#fb9f3a\"], [0.8888888888888888, \"#fdca26\"], [1.0, \"#f0f921\"]], \"type\": \"surface\"}], \"table\": [{\"cells\": {\"fill\": {\"color\": \"#EBF0F8\"}, \"line\": {\"color\": \"white\"}}, \"header\": {\"fill\": {\"color\": \"#C8D4E3\"}, \"line\": {\"color\": \"white\"}}, \"type\": \"table\"}]}, \"layout\": {\"annotationdefaults\": {\"arrowcolor\": \"#2a3f5f\", \"arrowhead\": 0, \"arrowwidth\": 1}, \"autotypenumbers\": \"strict\", \"coloraxis\": {\"colorbar\": {\"outlinewidth\": 0, \"ticks\": \"\"}}, \"colorscale\": {\"diverging\": [[0, \"#8e0152\"], [0.1, \"#c51b7d\"], [0.2, \"#de77ae\"], [0.3, \"#f1b6da\"], [0.4, \"#fde0ef\"], [0.5, \"#f7f7f7\"], [0.6, \"#e6f5d0\"], [0.7, \"#b8e186\"], [0.8, \"#7fbc41\"], [0.9, \"#4d9221\"], [1, \"#276419\"]], \"sequential\": [[0.0, \"#0d0887\"], [0.1111111111111111, \"#46039f\"], [0.2222222222222222, \"#7201a8\"], [0.3333333333333333, \"#9c179e\"], [0.4444444444444444, \"#bd3786\"], [0.5555555555555556, \"#d8576b\"], [0.6666666666666666, \"#ed7953\"], [0.7777777777777778, \"#fb9f3a\"], [0.8888888888888888, \"#fdca26\"], [1.0, \"#f0f921\"]], \"sequentialminus\": [[0.0, \"#0d0887\"], [0.1111111111111111, \"#46039f\"], [0.2222222222222222, \"#7201a8\"], [0.3333333333333333, \"#9c179e\"], [0.4444444444444444, \"#bd3786\"], [0.5555555555555556, \"#d8576b\"], [0.6666666666666666, \"#ed7953\"], [0.7777777777777778, \"#fb9f3a\"], [0.8888888888888888, \"#fdca26\"], [1.0, \"#f0f921\"]]}, \"colorway\": [\"#636efa\", \"#EF553B\", \"#00cc96\", \"#ab63fa\", \"#FFA15A\", \"#19d3f3\", \"#FF6692\", \"#B6E880\", \"#FF97FF\", \"#FECB52\"], \"font\": {\"color\": \"#2a3f5f\"}, \"geo\": {\"bgcolor\": \"white\", \"lakecolor\": \"white\", \"landcolor\": \"#E5ECF6\", \"showlakes\": true, \"showland\": true, \"subunitcolor\": \"white\"}, \"hoverlabel\": {\"align\": \"left\"}, \"hovermode\": \"closest\", \"mapbox\": {\"style\": \"light\"}, \"paper_bgcolor\": \"white\", \"plot_bgcolor\": \"#E5ECF6\", \"polar\": {\"angularaxis\": {\"gridcolor\": \"white\", \"linecolor\": \"white\", \"ticks\": \"\"}, \"bgcolor\": \"#E5ECF6\", \"radialaxis\": {\"gridcolor\": \"white\", \"linecolor\": \"white\", \"ticks\": \"\"}}, \"scene\": {\"xaxis\": {\"backgroundcolor\": \"#E5ECF6\", \"gridcolor\": \"white\", \"gridwidth\": 2, \"linecolor\": \"white\", \"showbackground\": true, \"ticks\": \"\", \"zerolinecolor\": \"white\"}, \"yaxis\": {\"backgroundcolor\": \"#E5ECF6\", \"gridcolor\": \"white\", \"gridwidth\": 2, \"linecolor\": \"white\", \"showbackground\": true, \"ticks\": \"\", \"zerolinecolor\": \"white\"}, \"zaxis\": {\"backgroundcolor\": \"#E5ECF6\", \"gridcolor\": \"white\", \"gridwidth\": 2, \"linecolor\": \"white\", \"showbackground\": true, \"ticks\": \"\", \"zerolinecolor\": \"white\"}}, \"shapedefaults\": {\"line\": {\"color\": \"#2a3f5f\"}}, \"ternary\": {\"aaxis\": {\"gridcolor\": \"white\", \"linecolor\": \"white\", \"ticks\": \"\"}, \"baxis\": {\"gridcolor\": \"white\", \"linecolor\": \"white\", \"ticks\": \"\"}, \"bgcolor\": \"#E5ECF6\", \"caxis\": {\"gridcolor\": \"white\", \"linecolor\": \"white\", \"ticks\": \"\"}}, \"title\": {\"x\": 0.05}, \"xaxis\": {\"automargin\": true, \"gridcolor\": \"white\", \"linecolor\": \"white\", \"ticks\": \"\", \"title\": {\"standoff\": 15}, \"zerolinecolor\": \"white\", \"zerolinewidth\": 2}, \"yaxis\": {\"automargin\": true, \"gridcolor\": \"white\", \"linecolor\": \"white\", \"ticks\": \"\", \"title\": {\"standoff\": 15}, \"zerolinecolor\": \"white\", \"zerolinewidth\": 2}}}, \"xaxis\": {\"anchor\": \"y\", \"domain\": [0.0, 1.0], \"title\": {\"text\": \"Compound Score\"}}, \"yaxis\": {\"anchor\": \"x\", \"domain\": [0.0, 1.0], \"title\": {\"text\": \"count\"}}},                        {\"responsive\": true}                    ).then(function(){\n",
              "                            \n",
              "var gd = document.getElementById('65014811-bd3d-4c7f-a55d-df2a44979c7e');\n",
              "var x = new MutationObserver(function (mutations, observer) {{\n",
              "        var display = window.getComputedStyle(gd).display;\n",
              "        if (!display || display === 'none') {{\n",
              "            console.log([gd, 'removed!']);\n",
              "            Plotly.purge(gd);\n",
              "            observer.disconnect();\n",
              "        }}\n",
              "}});\n",
              "\n",
              "// Listen for the removal of the full notebook cells\n",
              "var notebookContainer = gd.closest('#notebook-container');\n",
              "if (notebookContainer) {{\n",
              "    x.observe(notebookContainer, {childList: true});\n",
              "}}\n",
              "\n",
              "// Listen for the clearing of the current output cell\n",
              "var outputEl = gd.closest('.output');\n",
              "if (outputEl) {{\n",
              "    x.observe(outputEl, {childList: true});\n",
              "}}\n",
              "\n",
              "                        })                };                            </script>        </div>\n",
              "</body>\n",
              "</html>"
            ]
          },
          "metadata": {
            "tags": []
          }
        }
      ]
    },
    {
      "cell_type": "code",
      "metadata": {
        "colab": {
          "base_uri": "https://localhost:8080/",
          "height": 360
        },
        "id": "e62ehDYtwme4",
        "outputId": "e0ccff8e-387f-49a2-9e56-28f52bb8dbb2"
      },
      "source": [
        "sns.countplot(vader['Overall Sentiment'])"
      ],
      "execution_count": null,
      "outputs": [
        {
          "output_type": "stream",
          "text": [
            "/usr/local/lib/python3.7/dist-packages/seaborn/_decorators.py:43: FutureWarning:\n",
            "\n",
            "Pass the following variable as a keyword arg: x. From version 0.12, the only valid positional argument will be `data`, and passing other arguments without an explicit keyword will result in an error or misinterpretation.\n",
            "\n"
          ],
          "name": "stderr"
        },
        {
          "output_type": "execute_result",
          "data": {
            "text/plain": [
              "<matplotlib.axes._subplots.AxesSubplot at 0x7fd1a878c2d0>"
            ]
          },
          "metadata": {
            "tags": []
          },
          "execution_count": 32
        },
        {
          "output_type": "display_data",
          "data": {
            "image/png": "[encoded data removed]",
            "text/plain": [
              "<Figure size 432x288 with 1 Axes>"
            ]
          },
          "metadata": {
            "tags": [],
            "needs_background": "light"
          }
        }
      ]
    }
  ]
}