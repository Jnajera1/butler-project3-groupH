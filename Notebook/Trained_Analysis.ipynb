{
  "nbformat": 4,
  "nbformat_minor": 0,
  "metadata": {
    "colab": {
      "name": "Trained-Analysis.ipynb",
      "provenance": [],
      "collapsed_sections": []
    },
    "kernelspec": {
      "name": "python3",
      "display_name": "Python 3"
    }
  },
  "cells": [
    {
      "cell_type": "code",
      "metadata": {
        "id": "BE5XfvdRxLAy"
      },
      "source": [
        "#import libraries\n",
        "import math\n",
        "import pandas_datareader as web\n",
        "import numpy as np\n",
        "import pandas as pd\n",
        "from sklearn.preprocessing import MinMaxScaler\n",
        "from keras.models import Sequential\n",
        "from keras.layers import Dense, LSTM\n",
        "import matplotlib.pyplot as plt\n",
        "plt.style.use('fivethirtyeight')"
      ],
      "execution_count": null,
      "outputs": []
    },
    {
      "cell_type": "code",
      "metadata": {
        "colab": {
          "base_uri": "https://localhost:8080/",
          "height": 450
        },
        "id": "HrSabRejaAmp",
        "outputId": "22fa0eb1-5ff8-4e51-d073-87f9ea7b5702"
      },
      "source": [
        "# Pulling my data from Yahoo\n",
        "df = web.DataReader('GME', data_source='yahoo', start='2002-02-15', end='2021-02-26')\n",
        "df"
      ],
      "execution_count": null,
      "outputs": [
        {
          "output_type": "execute_result",
          "data": {
            "text/html": [
              "<div>\n",
              "<style scoped>\n",
              "    .dataframe tbody tr th:only-of-type {\n",
              "        vertical-align: middle;\n",
              "    }\n",
              "\n",
              "    .dataframe tbody tr th {\n",
              "        vertical-align: top;\n",
              "    }\n",
              "\n",
              "    .dataframe thead th {\n",
              "        text-align: right;\n",
              "    }\n",
              "</style>\n",
              "<table border=\"1\" class=\"dataframe\">\n",
              "  <thead>\n",
              "    <tr style=\"text-align: right;\">\n",
              "      <th></th>\n",
              "      <th>High</th>\n",
              "      <th>Low</th>\n",
              "      <th>Open</th>\n",
              "      <th>Close</th>\n",
              "      <th>Volume</th>\n",
              "      <th>Adj Close</th>\n",
              "    </tr>\n",
              "    <tr>\n",
              "      <th>Date</th>\n",
              "      <th></th>\n",
              "      <th></th>\n",
              "      <th></th>\n",
              "      <th></th>\n",
              "      <th></th>\n",
              "      <th></th>\n",
              "    </tr>\n",
              "  </thead>\n",
              "  <tbody>\n",
              "    <tr>\n",
              "      <th>2002-02-15</th>\n",
              "      <td>10.025000</td>\n",
              "      <td>9.850000</td>\n",
              "      <td>10.000000</td>\n",
              "      <td>9.950000</td>\n",
              "      <td>2097400.0</td>\n",
              "      <td>6.699336</td>\n",
              "    </tr>\n",
              "    <tr>\n",
              "      <th>2002-02-19</th>\n",
              "      <td>9.900000</td>\n",
              "      <td>9.375000</td>\n",
              "      <td>9.900000</td>\n",
              "      <td>9.550000</td>\n",
              "      <td>1852600.0</td>\n",
              "      <td>6.430017</td>\n",
              "    </tr>\n",
              "    <tr>\n",
              "      <th>2002-02-20</th>\n",
              "      <td>9.875000</td>\n",
              "      <td>9.525000</td>\n",
              "      <td>9.600000</td>\n",
              "      <td>9.875000</td>\n",
              "      <td>1723200.0</td>\n",
              "      <td>6.648838</td>\n",
              "    </tr>\n",
              "    <tr>\n",
              "      <th>2002-02-21</th>\n",
              "      <td>9.925000</td>\n",
              "      <td>9.750000</td>\n",
              "      <td>9.840000</td>\n",
              "      <td>9.850000</td>\n",
              "      <td>1744200.0</td>\n",
              "      <td>6.632006</td>\n",
              "    </tr>\n",
              "    <tr>\n",
              "      <th>2002-02-22</th>\n",
              "      <td>9.925000</td>\n",
              "      <td>9.600000</td>\n",
              "      <td>9.925000</td>\n",
              "      <td>9.675000</td>\n",
              "      <td>881400.0</td>\n",
              "      <td>6.514178</td>\n",
              "    </tr>\n",
              "    <tr>\n",
              "      <th>...</th>\n",
              "      <td>...</td>\n",
              "      <td>...</td>\n",
              "      <td>...</td>\n",
              "      <td>...</td>\n",
              "      <td>...</td>\n",
              "      <td>...</td>\n",
              "    </tr>\n",
              "    <tr>\n",
              "      <th>2021-02-22</th>\n",
              "      <td>48.509998</td>\n",
              "      <td>42.400002</td>\n",
              "      <td>46.689999</td>\n",
              "      <td>46.000000</td>\n",
              "      <td>19476000.0</td>\n",
              "      <td>46.000000</td>\n",
              "    </tr>\n",
              "    <tr>\n",
              "      <th>2021-02-23</th>\n",
              "      <td>46.230000</td>\n",
              "      <td>40.000000</td>\n",
              "      <td>44.970001</td>\n",
              "      <td>44.970001</td>\n",
              "      <td>7565200.0</td>\n",
              "      <td>44.970001</td>\n",
              "    </tr>\n",
              "    <tr>\n",
              "      <th>2021-02-24</th>\n",
              "      <td>91.709999</td>\n",
              "      <td>44.700001</td>\n",
              "      <td>44.700001</td>\n",
              "      <td>91.709999</td>\n",
              "      <td>83111700.0</td>\n",
              "      <td>91.709999</td>\n",
              "    </tr>\n",
              "    <tr>\n",
              "      <th>2021-02-25</th>\n",
              "      <td>184.679993</td>\n",
              "      <td>101.000000</td>\n",
              "      <td>169.559998</td>\n",
              "      <td>108.730003</td>\n",
              "      <td>150308800.0</td>\n",
              "      <td>108.730003</td>\n",
              "    </tr>\n",
              "    <tr>\n",
              "      <th>2021-02-26</th>\n",
              "      <td>142.899994</td>\n",
              "      <td>86.000000</td>\n",
              "      <td>117.459999</td>\n",
              "      <td>101.739998</td>\n",
              "      <td>91963000.0</td>\n",
              "      <td>101.739998</td>\n",
              "    </tr>\n",
              "  </tbody>\n",
              "</table>\n",
              "<p>4791 rows × 6 columns</p>\n",
              "</div>"
            ],
            "text/plain": [
              "                  High         Low  ...       Volume   Adj Close\n",
              "Date                                ...                         \n",
              "2002-02-15   10.025000    9.850000  ...    2097400.0    6.699336\n",
              "2002-02-19    9.900000    9.375000  ...    1852600.0    6.430017\n",
              "2002-02-20    9.875000    9.525000  ...    1723200.0    6.648838\n",
              "2002-02-21    9.925000    9.750000  ...    1744200.0    6.632006\n",
              "2002-02-22    9.925000    9.600000  ...     881400.0    6.514178\n",
              "...                ...         ...  ...          ...         ...\n",
              "2021-02-22   48.509998   42.400002  ...   19476000.0   46.000000\n",
              "2021-02-23   46.230000   40.000000  ...    7565200.0   44.970001\n",
              "2021-02-24   91.709999   44.700001  ...   83111700.0   91.709999\n",
              "2021-02-25  184.679993  101.000000  ...  150308800.0  108.730003\n",
              "2021-02-26  142.899994   86.000000  ...   91963000.0  101.739998\n",
              "\n",
              "[4791 rows x 6 columns]"
            ]
          },
          "metadata": {
            "tags": []
          },
          "execution_count": 3
        }
      ]
    },
    {
      "cell_type": "code",
      "metadata": {
        "colab": {
          "base_uri": "https://localhost:8080/"
        },
        "id": "QhovqgHgbbdB",
        "outputId": "2642fbc6-7a6b-4c6c-d02c-fdf29613b5f2"
      },
      "source": [
        "# Seeing how many rows and Columns we have in dataset\n",
        "df.shape"
      ],
      "execution_count": null,
      "outputs": [
        {
          "output_type": "execute_result",
          "data": {
            "text/plain": [
              "(4791, 6)"
            ]
          },
          "metadata": {
            "tags": []
          },
          "execution_count": 4
        }
      ]
    },
    {
      "cell_type": "code",
      "metadata": {
        "colab": {
          "base_uri": "https://localhost:8080/",
          "height": 487
        },
        "id": "Q9as6U-9bgHN",
        "outputId": "81b74546-4e22-4be7-f48e-3c5188e27428"
      },
      "source": [
        "# Displaying Closing Price\n",
        "plt.figure(figsize=(18,8))\n",
        "plt.title('Closing Price History')\n",
        "plt.plot(df['Close'])\n",
        "plt.xlabel('Data', fontsize=18)\n",
        "plt.ylabel('Close Price USD ($)', fontsize=18)\n",
        "plt.show()"
      ],
      "execution_count": null,
      "outputs": [
        {
          "output_type": "display_data",
          "data": {
            "image/png": "[encoded data removed]",
            "text/plain": [
              "<Figure size 1296x576 with 1 Axes>"
            ]
          },
          "metadata": {
            "tags": []
          }
        }
      ]
    },
    {
      "cell_type": "code",
      "metadata": {
        "colab": {
          "base_uri": "https://localhost:8080/"
        },
        "id": "s7qgF_gigZkt",
        "outputId": "4e35ec7b-9f12-4be9-d11d-aeb9fa68a45f"
      },
      "source": [
        "# THIS IS THE TRAIN DATASET WHICH IS ABOUT 80% OF THE FIRST DF\n",
        "#Creat new dataframe \n",
        "data = df.filter(['Close'])\n",
        "# Change into a numpy arrary\n",
        "dataset = data.values\n",
        "#Get the number of rows to train model on\n",
        "training_data_len = math.ceil( len(dataset) * .8 )\n",
        "\n",
        "training_data_len"
      ],
      "execution_count": null,
      "outputs": [
        {
          "output_type": "execute_result",
          "data": {
            "text/plain": [
              "3833"
            ]
          },
          "metadata": {
            "tags": []
          },
          "execution_count": 6
        }
      ]
    },
    {
      "cell_type": "code",
      "metadata": {
        "colab": {
          "base_uri": "https://localhost:8080/"
        },
        "id": "EfaGfZLLjmnR",
        "outputId": "51d5d75a-19e3-4fbc-c02f-14731fd890cb"
      },
      "source": [
        "#Scale data\n",
        "scaler = MinMaxScaler(feature_range=(0,1))\n",
        "scaled_data = scaler.fit_transform(dataset)\n",
        "\n",
        "scaled_data"
      ],
      "execution_count": null,
      "outputs": [
        {
          "output_type": "execute_result",
          "data": {
            "text/plain": [
              "array([[0.02074207],\n",
              "       [0.01958168],\n",
              "       [0.0205245 ],\n",
              "       ...,\n",
              "       [0.25792694],\n",
              "       [0.30730179],\n",
              "       [0.28702386]])"
            ]
          },
          "metadata": {
            "tags": []
          },
          "execution_count": 7
        }
      ]
    },
    {
      "cell_type": "code",
      "metadata": {
        "colab": {
          "base_uri": "https://localhost:8080/"
        },
        "id": "EDOi40CGkEAd",
        "outputId": "89833846-7654-47dc-c6df-2805cc3f5ec8"
      },
      "source": [
        "# Pulling the Perdictions in numpy ararry\n",
        "#Creat training data set\n",
        "train_data = scaled_data[0:training_data_len , :]\n",
        "#split into an x and y\n",
        "x_train = []\n",
        "y_train = []\n",
        "\n",
        "for i in range(60, len(train_data)):\n",
        "  x_train.append(train_data[i-60:i, 0])\n",
        "  y_train.append(train_data[i, 0])\n",
        "  if i<= 61:\n",
        "    print(x_train)\n",
        "    print(y_train)\n",
        "    print()"
      ],
      "execution_count": null,
      "outputs": [
        {
          "output_type": "stream",
          "text": [
            "[array([0.02074207, 0.01958168, 0.0205245 , 0.02045197, 0.0199443 ,\n",
            "       0.02016187, 0.02016187, 0.0196542 , 0.01958168, 0.01997331,\n",
            "       0.02045197, 0.01979925, 0.0199443 , 0.02149633, 0.02219257,\n",
            "       0.0225842 , 0.02262772, 0.02236663, 0.02233762, 0.0213948 ,\n",
            "       0.01987177, 0.01900148, 0.01801514, 0.019074  , 0.01987177,\n",
            "       0.02048098, 0.02085811, 0.02175742, 0.02117722, 0.01950915,\n",
            "       0.01891445, 0.01885643, 0.0193641 , 0.01869687, 0.01842128,\n",
            "       0.0193641 , 0.01932059, 0.01871138, 0.01834876, 0.01879841,\n",
            "       0.01943663, 0.02061153, 0.02061153, 0.02127876, 0.02088712,\n",
            "       0.0202344 , 0.02003133, 0.02001682, 0.01979925, 0.01929158,\n",
            "       0.01950915, 0.02161237, 0.02209103, 0.02204752, 0.02342549,\n",
            "       0.02306286, 0.02436831, 0.02502103, 0.02387514, 0.02306286])]\n",
            "[0.022047516607742457]\n",
            "\n",
            "[array([0.02074207, 0.01958168, 0.0205245 , 0.02045197, 0.0199443 ,\n",
            "       0.02016187, 0.02016187, 0.0196542 , 0.01958168, 0.01997331,\n",
            "       0.02045197, 0.01979925, 0.0199443 , 0.02149633, 0.02219257,\n",
            "       0.0225842 , 0.02262772, 0.02236663, 0.02233762, 0.0213948 ,\n",
            "       0.01987177, 0.01900148, 0.01801514, 0.019074  , 0.01987177,\n",
            "       0.02048098, 0.02085811, 0.02175742, 0.02117722, 0.01950915,\n",
            "       0.01891445, 0.01885643, 0.0193641 , 0.01869687, 0.01842128,\n",
            "       0.0193641 , 0.01932059, 0.01871138, 0.01834876, 0.01879841,\n",
            "       0.01943663, 0.02061153, 0.02061153, 0.02127876, 0.02088712,\n",
            "       0.0202344 , 0.02003133, 0.02001682, 0.01979925, 0.01929158,\n",
            "       0.01950915, 0.02161237, 0.02209103, 0.02204752, 0.02342549,\n",
            "       0.02306286, 0.02436831, 0.02502103, 0.02387514, 0.02306286]), array([0.01958168, 0.0205245 , 0.02045197, 0.0199443 , 0.02016187,\n",
            "       0.02016187, 0.0196542 , 0.01958168, 0.01997331, 0.02045197,\n",
            "       0.01979925, 0.0199443 , 0.02149633, 0.02219257, 0.0225842 ,\n",
            "       0.02262772, 0.02236663, 0.02233762, 0.0213948 , 0.01987177,\n",
            "       0.01900148, 0.01801514, 0.019074  , 0.01987177, 0.02048098,\n",
            "       0.02085811, 0.02175742, 0.02117722, 0.01950915, 0.01891445,\n",
            "       0.01885643, 0.0193641 , 0.01869687, 0.01842128, 0.0193641 ,\n",
            "       0.01932059, 0.01871138, 0.01834876, 0.01879841, 0.01943663,\n",
            "       0.02061153, 0.02061153, 0.02127876, 0.02088712, 0.0202344 ,\n",
            "       0.02003133, 0.02001682, 0.01979925, 0.01929158, 0.01950915,\n",
            "       0.02161237, 0.02209103, 0.02204752, 0.02342549, 0.02306286,\n",
            "       0.02436831, 0.02502103, 0.02387514, 0.02306286, 0.02204752])]\n",
            "[0.022047516607742457, 0.020669548419198516]\n",
            "\n"
          ],
          "name": "stdout"
        }
      ]
    },
    {
      "cell_type": "code",
      "metadata": {
        "id": "zBnmelmLozQ-"
      },
      "source": [
        "#Convert the x_train and y_train to numpy arrays\n",
        "x_train, y_train = np.array(x_train), np.array(y_train)"
      ],
      "execution_count": null,
      "outputs": []
    },
    {
      "cell_type": "code",
      "metadata": {
        "colab": {
          "base_uri": "https://localhost:8080/"
        },
        "id": "pfaeKVCsugCk",
        "outputId": "4cf0a397-4a97-4c3f-abb7-9bd32d3c7064"
      },
      "source": [
        "#Reshape Data\n",
        "x_train = np.reshape(x_train, (x_train.shape[0], x_train.shape[1], 1))\n",
        "x_train.shape"
      ],
      "execution_count": null,
      "outputs": [
        {
          "output_type": "execute_result",
          "data": {
            "text/plain": [
              "(3773, 60, 1)"
            ]
          },
          "metadata": {
            "tags": []
          },
          "execution_count": 10
        }
      ]
    },
    {
      "cell_type": "code",
      "metadata": {
        "id": "pzQvHo-twimx"
      },
      "source": [
        "#Bulding the LSTM Model\n",
        "model = Sequential()\n",
        "model.add(LSTM(50, return_sequences=True, input_shape= (x_train.shape[1], 1)))\n",
        "model.add(LSTM(50, return_sequences= False))\n",
        "model.add(Dense(25))\n",
        "model.add(Dense(1))"
      ],
      "execution_count": null,
      "outputs": []
    },
    {
      "cell_type": "code",
      "metadata": {
        "id": "aGHr22nizlET"
      },
      "source": [
        "#Arrange the models\n",
        "model.compile(optimizer='adam', loss='mean_squared_error')"
      ],
      "execution_count": null,
      "outputs": []
    },
    {
      "cell_type": "code",
      "metadata": {
        "colab": {
          "base_uri": "https://localhost:8080/"
        },
        "id": "hwtw_v0E0XN1",
        "outputId": "6f120b95-495f-45e0-ea1e-0c0a0e0cbd34"
      },
      "source": [
        "model.fit(x_train, y_train, batch_size=1, epochs=1)"
      ],
      "execution_count": null,
      "outputs": [
        {
          "output_type": "stream",
          "text": [
            "3773/3773 [==============================] - 98s 25ms/step - loss: 1.1115e-04\n"
          ],
          "name": "stdout"
        },
        {
          "output_type": "execute_result",
          "data": {
            "text/plain": [
              "<tensorflow.python.keras.callbacks.History at 0x7f1d88d47b50>"
            ]
          },
          "metadata": {
            "tags": []
          },
          "execution_count": 13
        }
      ]
    },
    {
      "cell_type": "code",
      "metadata": {
        "id": "vzbPVp3YLPgp"
      },
      "source": [
        "#Create Testing data set\n",
        "test_data = scaled_data[training_data_len - 60: , :]\n",
        "# data set for x_test and y_test\n",
        "x_test = []\n",
        "y_test = dataset[training_data_len:, :]\n",
        "for i in range (60, len(test_data)):\n",
        "  x_test.append(test_data[i-60:i, 0])\n"
      ],
      "execution_count": null,
      "outputs": []
    },
    {
      "cell_type": "code",
      "metadata": {
        "id": "X90RdmnAMya8"
      },
      "source": [
        "#Converting data into numpy array\n",
        "x_test = np.array(x_test)"
      ],
      "execution_count": null,
      "outputs": []
    },
    {
      "cell_type": "code",
      "metadata": {
        "id": "qghyNlXrNHwL"
      },
      "source": [
        "#Reshape the data into from two to three dimensional\n",
        "x_test = np.reshape(x_test,(x_test.shape[0], x_test.shape[1], 1 ))"
      ],
      "execution_count": null,
      "outputs": []
    },
    {
      "cell_type": "code",
      "metadata": {
        "id": "mxNJAux8Ob3w"
      },
      "source": [
        "#Predicted Prices & Values\n",
        "predictions = model.predict(x_test)\n",
        "predictions = scaler.inverse_transform(predictions)"
      ],
      "execution_count": null,
      "outputs": []
    },
    {
      "cell_type": "code",
      "metadata": {
        "colab": {
          "base_uri": "https://localhost:8080/"
        },
        "id": "bcpdUDXePKWZ",
        "outputId": "c4c2156c-f0ac-40fa-d5d3-e0ee45fbbc2b"
      },
      "source": [
        "#Finding the (RMSE)\n",
        "rmse = np.sqrt( np.mean(predictions - y_test )**2 )\n",
        "rmse"
      ],
      "execution_count": 24,
      "outputs": [
        {
          "output_type": "execute_result",
          "data": {
            "text/plain": [
              "0.45269351737235436"
            ]
          },
          "metadata": {
            "tags": []
          },
          "execution_count": 24
        }
      ]
    },
    {
      "cell_type": "code",
      "metadata": {
        "colab": {
          "base_uri": "https://localhost:8080/",
          "height": 547
        },
        "id": "PDhQD4gzNrP9",
        "outputId": "633acb5d-40e5-4a1e-c6bc-de64d6d3c024"
      },
      "source": [
        "#Plot overall Data\n",
        "train = data[:training_data_len]\n",
        "valid = data[training_data_len:]\n",
        "valid['Predictoins'] = predictions\n",
        "#Visual Examples for data\n",
        "plt.figure(figsize=(16,8))\n",
        "plt.title('Model')\n",
        "plt.xlabel('Model and Predictions', fontsize=20)\n",
        "plt.ylabel('Overall Close Price USD ($)', fontsize=20)\n",
        "plt.plot(train['Close'])\n",
        "plt.plot(valid[['Close', 'Predictoins']])\n",
        "plt.legend(['Train', 'Model ', 'Predictions'], loc='lower right')\n",
        "plt.show()"
      ],
      "execution_count": 33,
      "outputs": [
        {
          "output_type": "stream",
          "text": [
            "/usr/local/lib/python3.7/dist-packages/ipykernel_launcher.py:4: SettingWithCopyWarning:\n",
            "\n",
            "\n",
            "A value is trying to be set on a copy of a slice from a DataFrame.\n",
            "Try using .loc[row_indexer,col_indexer] = value instead\n",
            "\n",
            "See the caveats in the documentation: https://pandas.pydata.org/pandas-docs/stable/user_guide/indexing.html#returning-a-view-versus-a-copy\n",
            "\n"
          ],
          "name": "stderr"
        },
        {
          "output_type": "display_data",
          "data": {
            "image/png": "[encoded data removed]",
            "text/plain": [
              "<Figure size 1152x576 with 1 Axes>"
            ]
          },
          "metadata": {
            "tags": []
          }
        }
      ]
    },
    {
      "cell_type": "code",
      "metadata": {
        "id": "aJgWh943Trf-"
      },
      "source": [
        "#Display Valid and Predicted Prices\n",
        "valid"
      ],
      "execution_count": 39,
      "outputs": []
    },
    {
      "cell_type": "code",
      "metadata": {
        "id": "ywnEM8jIRD_a"
      },
      "source": [
        "# Extract the code for Close Predictions\n",
        "df.to_csv('Close_Predictoins', encoding='utf-8')"
      ],
      "execution_count": null,
      "outputs": []
    },
    {
      "cell_type": "code",
      "metadata": {
        "colab": {
          "base_uri": "https://localhost:8080/"
        },
        "id": "nlP_K-EgVF_H",
        "outputId": "96c50db1-4e4c-417b-e155-b4df609bb4b9"
      },
      "source": [
        "#Get quote of GME Stock\n",
        "gamestop_quote = web.DataReader('GME', data_source='yahoo', start='2002-02-15', end='2021-02-26')\n",
        "#Create New dataframe\n",
        "new_df = gamestop_quote.filter(['Close'])\n",
        "#Get the last 60 days of closing price & convert df to array\n",
        "last_60_days = new_df[-60:].values\n",
        "#Scale the Data from and two values between 0 and 1\n",
        "last_60_days_scaled = scaler.transform(last_60_days)\n",
        "#Empty list\n",
        "X_test = []\n",
        "#append past 60 days\n",
        "X_test.append(last_60_days_scaled)\n",
        "#Convert X_test data set to numpy\n",
        "X_test = np.array(X_test)\n",
        "#Reshape Data\n",
        "X_test = np.reshape(X_test, (X_test.shape[0], X_test.shape[1], 1))\n",
        "#Scale the predicted\n",
        "pred_price = model.predict(X_test)\n",
        "# Release the scaling\n",
        "pred_price = scaler.inverse_transform(pred_price)\n",
        "print(pred_price)"
      ],
      "execution_count": null,
      "outputs": [
        {
          "output_type": "stream",
          "text": [
            "[[86.4312]]\n"
          ],
          "name": "stdout"
        }
      ]
    },
    {
      "cell_type": "code",
      "metadata": {
        "colab": {
          "base_uri": "https://localhost:8080/"
        },
        "id": "Atfvl46_Y_kx",
        "outputId": "f4398d2e-93b5-4f6b-bcbc-d5f399a8d5ac"
      },
      "source": [
        "#Another Quote\n",
        "gamestop_quote2 = web.DataReader('GME', data_source='yahoo', start='2021-02-20', end='2021-02-27')\n",
        "print(gamestop_quote2['Close'])"
      ],
      "execution_count": null,
      "outputs": [
        {
          "output_type": "stream",
          "text": [
            "Date\n",
            "2021-02-22     46.000000\n",
            "2021-02-23     44.970001\n",
            "2021-02-24     91.709999\n",
            "2021-02-25    108.730003\n",
            "2021-02-26    101.739998\n",
            "Name: Close, dtype: float64\n"
          ],
          "name": "stdout"
        }
      ]
    }
  ]
}